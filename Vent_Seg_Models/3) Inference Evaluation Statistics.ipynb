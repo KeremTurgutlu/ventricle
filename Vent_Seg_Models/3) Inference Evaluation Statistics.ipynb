{
 "cells": [
  {
   "cell_type": "code",
   "execution_count": 1,
   "metadata": {},
   "outputs": [],
   "source": [
    "%load_ext autoreload\n",
    "%autoreload 2\n",
    "%matplotlib inline"
   ]
  },
  {
   "cell_type": "code",
   "execution_count": 2,
   "metadata": {},
   "outputs": [],
   "source": [
    "from fastai.vision import *\n",
    "from fastai.callbacks import *\n",
    "from fastai.script import *\n",
    "\n",
    "from data_utils import *\n",
    "from models import *\n",
    "from learn_utils import *"
   ]
  },
  {
   "cell_type": "markdown",
   "metadata": {},
   "source": [
    "Available data in test folder: \n",
    "\n",
    "- `raw_images`: Raw images before normalization\n",
    "- `brain_preds`: Brain segmentation predictions from best model\n",
    "- `skull_stripped_v2`: Skull stripped raw images\n",
    "- `ventricle_preds`: Ventricle segmentation predictions from best model"
   ]
  },
  {
   "cell_type": "markdown",
   "metadata": {},
   "source": [
    "### Model and Atlas Sample by Sample Comparison"
   ]
  },
  {
   "cell_type": "code",
   "execution_count": 104,
   "metadata": {},
   "outputs": [],
   "source": [
    "def dice_score(probs, targs, thresh=0.5):\n",
    "    hard_preds = probs > thresh\n",
    "    m1 = hard_preds.flatten()\n",
    "    m2 = targs.flatten()\n",
    "    intersection = (m1 * m2).sum()\n",
    "    return np.round((2. * intersection) / (m1.sum() + m2.sum() + 1e-8),4)"
   ]
  },
  {
   "cell_type": "code",
   "execution_count": 125,
   "metadata": {},
   "outputs": [],
   "source": [
    "test_path = Path(\"/home/turgutluk/data/Segmentation_Dataset/CT_Dataset/test2/\")"
   ]
  },
  {
   "cell_type": "code",
   "execution_count": 126,
   "metadata": {},
   "outputs": [],
   "source": [
    "data_name = 'notl_ventricle_ct'\n",
    "f = data_dict[data_name]\n",
    "train_paths, valid_paths, test1_paths, test2_paths = f()"
   ]
  },
  {
   "cell_type": "code",
   "execution_count": 127,
   "metadata": {},
   "outputs": [],
   "source": [
    "brain_preds, brain_targs = pd.read_pickle(test_path/'brain_preds/baseline11_preds.pkl')\n",
    "ventricle_preds, ventricle_targs = pd.read_pickle(test_path/'ventricle_preds/baseline11_preds.pkl')"
   ]
  },
  {
   "cell_type": "code",
   "execution_count": 136,
   "metadata": {},
   "outputs": [],
   "source": [
    "model_brain_dice_list = []\n",
    "atlas_brain_dice_list = []\n",
    "model_ventricle_dice_list = []\n",
    "atlas_ventricle_dice_list = []\n",
    "study_name_list = []"
   ]
  },
  {
   "cell_type": "code",
   "execution_count": 137,
   "metadata": {},
   "outputs": [
    {
     "data": {
      "text/plain": [
       "18"
      ]
     },
     "execution_count": 137,
     "metadata": {},
     "output_type": "execute_result"
    }
   ],
   "source": [
    "len(test2_paths[0])"
   ]
  },
  {
   "cell_type": "code",
   "execution_count": 138,
   "metadata": {},
   "outputs": [
    {
     "data": {
      "text/plain": [
       "(torch.Size([18, 128, 256, 256]),\n",
       " torch.Size([18, 128, 256, 256]),\n",
       " torch.Size([18, 128, 256, 256]),\n",
       " torch.Size([18, 128, 256, 256]))"
      ]
     },
     "execution_count": 138,
     "metadata": {},
     "output_type": "execute_result"
    }
   ],
   "source": [
    "brain_preds.shape, brain_targs.shape, ventricle_preds.shape, ventricle_targs.shape"
   ]
  },
  {
   "cell_type": "code",
   "execution_count": 139,
   "metadata": {},
   "outputs": [],
   "source": [
    "# get fname\n",
    "for i in range(len(test2_paths[0])):\n",
    "    fname = test2_paths[0][i].name\n",
    "    \n",
    "    study_name = fname.split(\"_\")[0]\n",
    "    study_name_list.append(study_name)\n",
    "    fname, study_name\n",
    "\n",
    "    brain_pred, brain_targ = to_np(brain_preds[i]), to_np(brain_targs[i])\n",
    "    atlas_brain_pred = np.load(test_path/f'brain_atlas/{fname}')\n",
    "    ventricle_pred, ventricle_targ = to_np(ventricle_preds[i]), to_np(ventricle_targs[i])\n",
    "    atlas_ventricle_pred = np.load(test_path/f'ventricle_atlas/{fname}')\n",
    "\n",
    "    model_brain_dice = dice_score(brain_pred, brain_targ)\n",
    "    atlas_brain_dice = dice_score(atlas_brain_pred, brain_targ)\n",
    "    model_ventricle_dice = dice_score(ventricle_pred, ventricle_targ)\n",
    "    atlas_ventricle_dice = dice_score(atlas_ventricle_pred, ventricle_targ)\n",
    "\n",
    "    model_brain_dice_list.append(model_brain_dice)\n",
    "    atlas_brain_dice_list.append(atlas_brain_dice)\n",
    "    model_ventricle_dice_list.append(model_ventricle_dice)\n",
    "    atlas_ventricle_dice_list.append(atlas_ventricle_dice)"
   ]
  },
  {
   "cell_type": "code",
   "execution_count": 140,
   "metadata": {},
   "outputs": [],
   "source": [
    "df = pd.DataFrame({\"study\":study_name_list,\n",
    "                   \"model_brain_dice\":model_brain_dice_list,\n",
    "                   \"atlas_brain_dice\":atlas_brain_dice_list,\n",
    "                   \"model_ventricle_dice\":model_ventricle_dice_list,\n",
    "                   \"atlas_ventricle_dice\":atlas_ventricle_dice_list})"
   ]
  },
  {
   "cell_type": "code",
   "execution_count": 141,
   "metadata": {},
   "outputs": [
    {
     "data": {
      "text/html": [
       "<div>\n",
       "<style scoped>\n",
       "    .dataframe tbody tr th:only-of-type {\n",
       "        vertical-align: middle;\n",
       "    }\n",
       "\n",
       "    .dataframe tbody tr th {\n",
       "        vertical-align: top;\n",
       "    }\n",
       "\n",
       "    .dataframe thead th {\n",
       "        text-align: right;\n",
       "    }\n",
       "</style>\n",
       "<table border=\"1\" class=\"dataframe\">\n",
       "  <thead>\n",
       "    <tr style=\"text-align: right;\">\n",
       "      <th></th>\n",
       "      <th>study</th>\n",
       "      <th>model_brain_dice</th>\n",
       "      <th>atlas_brain_dice</th>\n",
       "      <th>model_ventricle_dice</th>\n",
       "      <th>atlas_ventricle_dice</th>\n",
       "    </tr>\n",
       "  </thead>\n",
       "  <tbody>\n",
       "    <tr>\n",
       "      <th>0</th>\n",
       "      <td>CT-Test-001</td>\n",
       "      <td>0.9799</td>\n",
       "      <td>0.9858</td>\n",
       "      <td>0.7916</td>\n",
       "      <td>0.7710</td>\n",
       "    </tr>\n",
       "    <tr>\n",
       "      <th>1</th>\n",
       "      <td>CT-Test-002</td>\n",
       "      <td>0.9793</td>\n",
       "      <td>0.9879</td>\n",
       "      <td>0.7767</td>\n",
       "      <td>0.5548</td>\n",
       "    </tr>\n",
       "    <tr>\n",
       "      <th>2</th>\n",
       "      <td>CT-Test-002</td>\n",
       "      <td>0.9782</td>\n",
       "      <td>0.9912</td>\n",
       "      <td>0.8497</td>\n",
       "      <td>0.7916</td>\n",
       "    </tr>\n",
       "    <tr>\n",
       "      <th>3</th>\n",
       "      <td>CT-Test-003</td>\n",
       "      <td>0.9828</td>\n",
       "      <td>0.9907</td>\n",
       "      <td>0.7596</td>\n",
       "      <td>0.7670</td>\n",
       "    </tr>\n",
       "    <tr>\n",
       "      <th>4</th>\n",
       "      <td>CT-Test-004</td>\n",
       "      <td>0.9749</td>\n",
       "      <td>1.0000</td>\n",
       "      <td>0.4397</td>\n",
       "      <td>1.0000</td>\n",
       "    </tr>\n",
       "    <tr>\n",
       "      <th>5</th>\n",
       "      <td>CT-Test-004</td>\n",
       "      <td>0.9812</td>\n",
       "      <td>0.9886</td>\n",
       "      <td>0.6989</td>\n",
       "      <td>0.5216</td>\n",
       "    </tr>\n",
       "    <tr>\n",
       "      <th>6</th>\n",
       "      <td>CT-Test-005</td>\n",
       "      <td>0.9796</td>\n",
       "      <td>0.9923</td>\n",
       "      <td>0.8903</td>\n",
       "      <td>0.8541</td>\n",
       "    </tr>\n",
       "    <tr>\n",
       "      <th>7</th>\n",
       "      <td>CT-Test-005</td>\n",
       "      <td>0.9826</td>\n",
       "      <td>0.9900</td>\n",
       "      <td>0.7522</td>\n",
       "      <td>0.7396</td>\n",
       "    </tr>\n",
       "    <tr>\n",
       "      <th>8</th>\n",
       "      <td>CT-Test-006</td>\n",
       "      <td>0.9780</td>\n",
       "      <td>0.9738</td>\n",
       "      <td>0.8084</td>\n",
       "      <td>0.7808</td>\n",
       "    </tr>\n",
       "    <tr>\n",
       "      <th>9</th>\n",
       "      <td>CT-Test-006</td>\n",
       "      <td>0.9820</td>\n",
       "      <td>0.9835</td>\n",
       "      <td>0.8671</td>\n",
       "      <td>0.8630</td>\n",
       "    </tr>\n",
       "    <tr>\n",
       "      <th>10</th>\n",
       "      <td>CT-Test-007</td>\n",
       "      <td>0.9807</td>\n",
       "      <td>0.9804</td>\n",
       "      <td>0.6549</td>\n",
       "      <td>0.6098</td>\n",
       "    </tr>\n",
       "    <tr>\n",
       "      <th>11</th>\n",
       "      <td>CT-Test-007</td>\n",
       "      <td>0.9827</td>\n",
       "      <td>0.9830</td>\n",
       "      <td>0.7027</td>\n",
       "      <td>0.7181</td>\n",
       "    </tr>\n",
       "    <tr>\n",
       "      <th>12</th>\n",
       "      <td>CT-Test-008</td>\n",
       "      <td>0.9868</td>\n",
       "      <td>0.9837</td>\n",
       "      <td>0.8366</td>\n",
       "      <td>0.8112</td>\n",
       "    </tr>\n",
       "    <tr>\n",
       "      <th>13</th>\n",
       "      <td>CT-Test-008</td>\n",
       "      <td>0.9817</td>\n",
       "      <td>0.9805</td>\n",
       "      <td>0.7112</td>\n",
       "      <td>0.6830</td>\n",
       "    </tr>\n",
       "    <tr>\n",
       "      <th>14</th>\n",
       "      <td>CT-Test-009</td>\n",
       "      <td>0.9428</td>\n",
       "      <td>0.9528</td>\n",
       "      <td>0.7445</td>\n",
       "      <td>0.5244</td>\n",
       "    </tr>\n",
       "    <tr>\n",
       "      <th>15</th>\n",
       "      <td>CT-Test-009</td>\n",
       "      <td>0.9251</td>\n",
       "      <td>0.9427</td>\n",
       "      <td>0.8280</td>\n",
       "      <td>0.7786</td>\n",
       "    </tr>\n",
       "    <tr>\n",
       "      <th>16</th>\n",
       "      <td>CT-Test-010</td>\n",
       "      <td>0.9652</td>\n",
       "      <td>0.9445</td>\n",
       "      <td>0.8208</td>\n",
       "      <td>0.7435</td>\n",
       "    </tr>\n",
       "    <tr>\n",
       "      <th>17</th>\n",
       "      <td>CT-Test-010</td>\n",
       "      <td>0.9802</td>\n",
       "      <td>0.9743</td>\n",
       "      <td>0.7159</td>\n",
       "      <td>0.7040</td>\n",
       "    </tr>\n",
       "  </tbody>\n",
       "</table>\n",
       "</div>"
      ],
      "text/plain": [
       "          study  model_brain_dice  atlas_brain_dice  model_ventricle_dice  \\\n",
       "0   CT-Test-001            0.9799            0.9858                0.7916   \n",
       "1   CT-Test-002            0.9793            0.9879                0.7767   \n",
       "2   CT-Test-002            0.9782            0.9912                0.8497   \n",
       "3   CT-Test-003            0.9828            0.9907                0.7596   \n",
       "4   CT-Test-004            0.9749            1.0000                0.4397   \n",
       "5   CT-Test-004            0.9812            0.9886                0.6989   \n",
       "6   CT-Test-005            0.9796            0.9923                0.8903   \n",
       "7   CT-Test-005            0.9826            0.9900                0.7522   \n",
       "8   CT-Test-006            0.9780            0.9738                0.8084   \n",
       "9   CT-Test-006            0.9820            0.9835                0.8671   \n",
       "10  CT-Test-007            0.9807            0.9804                0.6549   \n",
       "11  CT-Test-007            0.9827            0.9830                0.7027   \n",
       "12  CT-Test-008            0.9868            0.9837                0.8366   \n",
       "13  CT-Test-008            0.9817            0.9805                0.7112   \n",
       "14  CT-Test-009            0.9428            0.9528                0.7445   \n",
       "15  CT-Test-009            0.9251            0.9427                0.8280   \n",
       "16  CT-Test-010            0.9652            0.9445                0.8208   \n",
       "17  CT-Test-010            0.9802            0.9743                0.7159   \n",
       "\n",
       "    atlas_ventricle_dice  \n",
       "0                 0.7710  \n",
       "1                 0.5548  \n",
       "2                 0.7916  \n",
       "3                 0.7670  \n",
       "4                 1.0000  \n",
       "5                 0.5216  \n",
       "6                 0.8541  \n",
       "7                 0.7396  \n",
       "8                 0.7808  \n",
       "9                 0.8630  \n",
       "10                0.6098  \n",
       "11                0.7181  \n",
       "12                0.8112  \n",
       "13                0.6830  \n",
       "14                0.5244  \n",
       "15                0.7786  \n",
       "16                0.7435  \n",
       "17                0.7040  "
      ]
     },
     "execution_count": 141,
     "metadata": {},
     "output_type": "execute_result"
    }
   ],
   "source": [
    "df"
   ]
  },
  {
   "cell_type": "code",
   "execution_count": 142,
   "metadata": {},
   "outputs": [],
   "source": [
    "df.to_csv(test_path/\"model_atlas_comparison_CT2.csv\", index=False)"
   ]
  },
  {
   "cell_type": "markdown",
   "metadata": {},
   "source": [
    "### Show volumetric difference"
   ]
  },
  {
   "cell_type": "code",
   "execution_count": 170,
   "metadata": {},
   "outputs": [],
   "source": [
    "i = 1"
   ]
  },
  {
   "cell_type": "code",
   "execution_count": 171,
   "metadata": {},
   "outputs": [],
   "source": [
    "fname = test2_paths[0][i].name\n",
    "\n",
    "study_name = fname.split(\"_\")[0]\n",
    "study_name_list.append(study_name)\n",
    "fname, study_name\n",
    "\n",
    "ventricle_pred, ventricle_targ = to_np(ventricle_preds[i]), to_np(ventricle_targs[i])\n",
    "ventricle_pred = (ventricle_pred > 0.5).astype(float)\n",
    "atlas_ventricle_pred = np.load(test_path/f'ventricle_atlas/{fname}')"
   ]
  },
  {
   "cell_type": "code",
   "execution_count": 172,
   "metadata": {},
   "outputs": [],
   "source": [
    "targ_sum1 = ventricle_targ.sum()\n",
    "pred_sum1 = ventricle_pred.sum()\n",
    "atlas_sum1 = atlas_ventricle_pred.sum()"
   ]
  },
  {
   "cell_type": "code",
   "execution_count": 173,
   "metadata": {},
   "outputs": [
    {
     "data": {
      "text/plain": [
       "(39538.0, 27164.0, 15817.0)"
      ]
     },
     "execution_count": 173,
     "metadata": {},
     "output_type": "execute_result"
    }
   ],
   "source": [
    "targ_sum1, pred_sum1, atlas_sum1"
   ]
  },
  {
   "cell_type": "code",
   "execution_count": 179,
   "metadata": {},
   "outputs": [],
   "source": [
    "i = 2"
   ]
  },
  {
   "cell_type": "code",
   "execution_count": 180,
   "metadata": {},
   "outputs": [],
   "source": [
    "fname = test2_paths[0][i].name\n",
    "\n",
    "study_name = fname.split(\"_\")[0]\n",
    "study_name_list.append(study_name)\n",
    "fname, study_name\n",
    "\n",
    "ventricle_pred, ventricle_targ = to_np(ventricle_preds[i]), to_np(ventricle_targs[i])\n",
    "ventricle_pred = (ventricle_pred > 0.5).astype(float)\n",
    "atlas_ventricle_pred = np.load(test_path/f'ventricle_atlas/{fname}')"
   ]
  },
  {
   "cell_type": "code",
   "execution_count": 181,
   "metadata": {},
   "outputs": [],
   "source": [
    "targ_sum2 = ventricle_targ.sum()\n",
    "pred_sum2 = ventricle_pred.sum()\n",
    "atlas_sum2 = atlas_ventricle_pred.sum()"
   ]
  },
  {
   "cell_type": "code",
   "execution_count": 182,
   "metadata": {},
   "outputs": [
    {
     "data": {
      "text/plain": [
       "(16856.0, 16074.0, 12670.0)"
      ]
     },
     "execution_count": 182,
     "metadata": {},
     "output_type": "execute_result"
    }
   ],
   "source": [
    "targ_sum2, pred_sum2, atlas_sum2"
   ]
  },
  {
   "cell_type": "code",
   "execution_count": 183,
   "metadata": {},
   "outputs": [
    {
     "data": {
      "text/plain": [
       "0.57367593"
      ]
     },
     "execution_count": 183,
     "metadata": {},
     "output_type": "execute_result"
    }
   ],
   "source": [
    "(targ_sum1 - targ_sum2) / targ_sum1"
   ]
  },
  {
   "cell_type": "code",
   "execution_count": 184,
   "metadata": {},
   "outputs": [
    {
     "data": {
      "text/plain": [
       "0.4082609335885731"
      ]
     },
     "execution_count": 184,
     "metadata": {},
     "output_type": "execute_result"
    }
   ],
   "source": [
    "(pred_sum1 - pred_sum2) / pred_sum1"
   ]
  },
  {
   "cell_type": "code",
   "execution_count": 185,
   "metadata": {},
   "outputs": [
    {
     "data": {
      "text/plain": [
       "0.11585186275953469"
      ]
     },
     "execution_count": 185,
     "metadata": {},
     "output_type": "execute_result"
    }
   ],
   "source": [
    "(atlas_sum1 - atlas_sum2) / pred_sum1"
   ]
  },
  {
   "cell_type": "code",
   "execution_count": null,
   "metadata": {},
   "outputs": [],
   "source": []
  },
  {
   "cell_type": "code",
   "execution_count": null,
   "metadata": {},
   "outputs": [],
   "source": []
  },
  {
   "cell_type": "code",
   "execution_count": null,
   "metadata": {},
   "outputs": [],
   "source": []
  },
  {
   "cell_type": "code",
   "execution_count": null,
   "metadata": {},
   "outputs": [],
   "source": []
  },
  {
   "cell_type": "code",
   "execution_count": null,
   "metadata": {},
   "outputs": [],
   "source": []
  },
  {
   "cell_type": "code",
   "execution_count": null,
   "metadata": {},
   "outputs": [],
   "source": []
  },
  {
   "cell_type": "code",
   "execution_count": null,
   "metadata": {},
   "outputs": [],
   "source": []
  },
  {
   "cell_type": "code",
   "execution_count": null,
   "metadata": {},
   "outputs": [],
   "source": []
  },
  {
   "cell_type": "code",
   "execution_count": null,
   "metadata": {},
   "outputs": [],
   "source": []
  },
  {
   "cell_type": "code",
   "execution_count": null,
   "metadata": {},
   "outputs": [],
   "source": []
  },
  {
   "cell_type": "code",
   "execution_count": null,
   "metadata": {},
   "outputs": [],
   "source": []
  },
  {
   "cell_type": "code",
   "execution_count": null,
   "metadata": {},
   "outputs": [],
   "source": []
  },
  {
   "cell_type": "code",
   "execution_count": null,
   "metadata": {},
   "outputs": [],
   "source": []
  },
  {
   "cell_type": "code",
   "execution_count": null,
   "metadata": {},
   "outputs": [],
   "source": []
  }
 ],
 "metadata": {
  "kernelspec": {
   "display_name": "Python 3",
   "language": "python",
   "name": "python3"
  },
  "language_info": {
   "codemirror_mode": {
    "name": "ipython",
    "version": 3
   },
   "file_extension": ".py",
   "mimetype": "text/x-python",
   "name": "python",
   "nbconvert_exporter": "python",
   "pygments_lexer": "ipython3",
   "version": "3.7.4"
  }
 },
 "nbformat": 4,
 "nbformat_minor": 2
}
