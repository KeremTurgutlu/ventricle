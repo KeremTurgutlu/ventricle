{
 "cells": [
  {
   "cell_type": "code",
   "execution_count": 266,
   "metadata": {
    "scrolled": true
   },
   "outputs": [
    {
     "name": "stdout",
     "output_type": "stream",
     "text": [
      "The autoreload extension is already loaded. To reload it, use:\n",
      "  %reload_ext autoreload\n"
     ]
    }
   ],
   "source": [
    "%load_ext autoreload\n",
    "%autoreload 2\n",
    "%matplotlib inline"
   ]
  },
  {
   "cell_type": "code",
   "execution_count": 267,
   "metadata": {},
   "outputs": [],
   "source": [
    "from fastai.vision import *\n",
    "from fastai.callbacks import *\n",
    "from fastai.script import *\n",
    "\n",
    "from data_utils import *\n",
    "from models import *\n",
    "from learn_utils import *"
   ]
  },
  {
   "cell_type": "code",
   "execution_count": 268,
   "metadata": {},
   "outputs": [],
   "source": [
    "torch.cuda.set_device(7)"
   ]
  },
  {
   "cell_type": "markdown",
   "metadata": {},
   "source": [
    "### data"
   ]
  },
  {
   "cell_type": "code",
   "execution_count": 269,
   "metadata": {
    "scrolled": true
   },
   "outputs": [
    {
     "data": {
      "text/plain": [
       "dict_keys(['notl_brain_mr', 'notl_brain_ct', 'atlas_brain_mr', 'notl_ventricle_mr', 'notl_ventricle_ct', 'atlas_ventricle_mr'])"
      ]
     },
     "execution_count": 269,
     "metadata": {},
     "output_type": "execute_result"
    }
   ],
   "source": [
    "data_dict.keys()"
   ]
  },
  {
   "cell_type": "code",
   "execution_count": 518,
   "metadata": {},
   "outputs": [],
   "source": [
    "data_name = 'notl_ventricle_ct'\n",
    "f = data_dict[data_name]\n",
    "train_paths, valid_paths, test1_paths, test2_paths = f()"
   ]
  },
  {
   "cell_type": "code",
   "execution_count": 519,
   "metadata": {},
   "outputs": [],
   "source": [
    "train_ds = MRI_3D_Dataset(*train_paths)\n",
    "valid_ds = MRI_3D_Dataset(*valid_paths)\n",
    "test1_ds = MRI_3D_Dataset(*test1_paths) if test1_paths else None\n",
    "test2_ds = MRI_3D_Dataset(*test2_paths) if test2_paths else None"
   ]
  },
  {
   "cell_type": "code",
   "execution_count": 520,
   "metadata": {},
   "outputs": [],
   "source": [
    "bs = 1\n",
    "data = DataBunch.create(train_ds=train_ds, valid_ds=valid_ds, bs=bs)\n",
    "test1_dl = DeviceDataLoader(DataLoader(test1_ds, batch_size=bs), device=data.device) if test1_ds else None\n",
    "test2_dl = DeviceDataLoader(DataLoader(test2_ds, batch_size=bs), device=data.device) if test2_ds else None"
   ]
  },
  {
   "cell_type": "markdown",
   "metadata": {},
   "source": [
    "### model"
   ]
  },
  {
   "cell_type": "code",
   "execution_count": 521,
   "metadata": {},
   "outputs": [],
   "source": [
    "bn_types = (nn.BatchNorm1d, nn.BatchNorm2d, nn.BatchNorm3d)\n",
    "gnorm_types = (nn.GroupNorm,)\n",
    "insnorm_types = (nn.InstanceNorm1d, nn.InstanceNorm2d, nn.InstanceNorm3d)\n",
    "norm_types = bn_types + gnorm_types + insnorm_types\n",
    "\n",
    "def cond_init(m:nn.Module, init_func:LayerFunc):\n",
    "    \"Initialize the non-batchnorm layers of `m` with `init_func`.\"\n",
    "    if (not isinstance(m, norm_types)) and (not isinstance(m, nn.PReLU)) and requires_grad(m): \n",
    "        init_default(m, init_func)"
   ]
  },
  {
   "cell_type": "code",
   "execution_count": 616,
   "metadata": {
    "scrolled": true
   },
   "outputs": [],
   "source": [
    "kaiming_init = True\n",
    "model_name = 'baseline11'\n",
    "f = experiment_model_dict[model_name]; m = f()\n",
    "if kaiming_init: apply_leaf(m, partial(cond_init, init_func= nn.init.kaiming_normal_))"
   ]
  },
  {
   "cell_type": "markdown",
   "metadata": {},
   "source": [
    "### learn"
   ]
  },
  {
   "cell_type": "code",
   "execution_count": 617,
   "metadata": {},
   "outputs": [],
   "source": [
    "loss_func = 'dice'\n",
    "model_dir = 'tl_ventricle_ct_models'\n",
    "learn = Learner(data=data, model=m, callbacks=[], callback_fns=[], model_dir=model_dir)\n",
    "learn.loss_func = {'dice':dice_loss, 'bce':BCEWithLogitsFlat(), 'mixed':None}[loss_func] \n",
    "learn.metrics = [dice_score]\n",
    "learn.to_fp16();"
   ]
  },
  {
   "cell_type": "markdown",
   "metadata": {},
   "source": [
    "### evaluate"
   ]
  },
  {
   "cell_type": "code",
   "execution_count": 618,
   "metadata": {},
   "outputs": [],
   "source": [
    "import data_utils"
   ]
  },
  {
   "cell_type": "code",
   "execution_count": 619,
   "metadata": {},
   "outputs": [
    {
     "data": {
      "text/plain": [
       "[PosixPath('tl_ventricle_ct_models/best_of_TL_Ventricle_CT_Baseline_1.pth'),\n",
       " PosixPath('tl_ventricle_ct_models/best_of_TL_Ventricle_CT_Baseline_2.pth'),\n",
       " PosixPath('tl_ventricle_ct_models/best_of_TL_Ventricle_CT_Baseline_3.pth'),\n",
       " PosixPath('tl_ventricle_ct_models/best_of_TL_Ventricle_CT_Baseline_4.pth'),\n",
       " PosixPath('tl_ventricle_ct_models/best_of_TL_Ventricle_CT_Baseline_5.pth'),\n",
       " PosixPath('tl_ventricle_ct_models/best_of_TL_Ventricle_CT_Baseline_6.pth'),\n",
       " PosixPath('tl_ventricle_ct_models/best_of_TL_Ventricle_CT_Baseline_7.pth'),\n",
       " PosixPath('tl_ventricle_ct_models/best_of_TL_Ventricle_CT_Baseline_9.pth'),\n",
       " PosixPath('tl_ventricle_ct_models/best_of_TL_Ventricle_CT_Baseline_10.pth'),\n",
       " PosixPath('tl_ventricle_ct_models/best_of_TL_Ventricle_CT_Baseline_11.pth')]"
      ]
     },
     "execution_count": 619,
     "metadata": {},
     "output_type": "execute_result"
    }
   ],
   "source": [
    "sorted((learn.path/learn.model_dir).ls(), key=lambda o:int(o.stem.split('_')[-1]))"
   ]
  },
  {
   "cell_type": "code",
   "execution_count": 620,
   "metadata": {
    "scrolled": true
   },
   "outputs": [],
   "source": [
    "learn.load('best_of_TL_Ventricle_CT_Baseline_11');"
   ]
  },
  {
   "cell_type": "code",
   "execution_count": 621,
   "metadata": {
    "scrolled": true
   },
   "outputs": [
    {
     "data": {
      "text/plain": [
       "[0.19636743, tensor(0.8037)]"
      ]
     },
     "execution_count": 621,
     "metadata": {},
     "output_type": "execute_result"
    }
   ],
   "source": [
    "learn.validate(learn.data.valid_dl)"
   ]
  },
  {
   "cell_type": "code",
   "execution_count": 622,
   "metadata": {},
   "outputs": [],
   "source": [
    "learn.to_fp32();"
   ]
  },
  {
   "cell_type": "code",
   "execution_count": 623,
   "metadata": {
    "scrolled": true
   },
   "outputs": [
    {
     "name": "stdout",
     "output_type": "stream",
     "text": [
      "[0.19951624, tensor(0.8005)]\n"
     ]
    }
   ],
   "source": [
    "if test1_dl: print(learn.validate(test1_dl))"
   ]
  },
  {
   "cell_type": "code",
   "execution_count": 624,
   "metadata": {},
   "outputs": [
    {
     "name": "stdout",
     "output_type": "stream",
     "text": [
      "[0.2646602, tensor(0.7354)]\n"
     ]
    }
   ],
   "source": [
    "if test2_dl: print(learn.validate(test2_dl))"
   ]
  },
  {
   "cell_type": "markdown",
   "metadata": {
    "heading_collapsed": true
   },
   "source": [
    "### debug"
   ]
  },
  {
   "cell_type": "code",
   "execution_count": 111,
   "metadata": {
    "hidden": true
   },
   "outputs": [],
   "source": [
    "def stats(t): return (t.mean(), t.std())\n",
    "\n",
    "for n, p in learn.model.named_parameters():pass"
   ]
  },
  {
   "cell_type": "code",
   "execution_count": 113,
   "metadata": {
    "hidden": true
   },
   "outputs": [
    {
     "data": {
      "text/plain": [
       "('seg_final.c2.bias', Parameter containing:\n",
       " tensor([-1.0547], device='cuda:7', requires_grad=True))"
      ]
     },
     "execution_count": 113,
     "metadata": {},
     "output_type": "execute_result"
    }
   ],
   "source": [
    "n, p"
   ]
  },
  {
   "cell_type": "markdown",
   "metadata": {
    "heading_collapsed": true
   },
   "source": [
    "### logs"
   ]
  },
  {
   "cell_type": "code",
   "execution_count": 114,
   "metadata": {
    "hidden": true
   },
   "outputs": [
    {
     "data": {
      "text/plain": [
       "[PosixPath('logs/notl_brain_ct_models'),\n",
       " PosixPath('logs/notl_brain_mr_models'),\n",
       " PosixPath('logs/atlas_brain_mr_models')]"
      ]
     },
     "execution_count": 114,
     "metadata": {},
     "output_type": "execute_result"
    }
   ],
   "source": [
    "path = Path(\"logs/\"); path.ls()"
   ]
  },
  {
   "cell_type": "code",
   "execution_count": 115,
   "metadata": {
    "hidden": true
   },
   "outputs": [
    {
     "data": {
      "text/plain": [
       "[PosixPath('logs/atlas_brain_mr_models/ATLAS_Brain_MR_Baseline_8.csv'),\n",
       " PosixPath('logs/atlas_brain_mr_models/ATLAS_Brain_MR_Baseline_7.csv'),\n",
       " PosixPath('logs/atlas_brain_mr_models/ATLAS_Brain_MR_Baseline_4.csv'),\n",
       " PosixPath('logs/atlas_brain_mr_models/ATLAS_Brain_MR_Baseline_1.csv'),\n",
       " PosixPath('logs/atlas_brain_mr_models/ATLAS_Brain_MR_Baseline_6.csv'),\n",
       " PosixPath('logs/atlas_brain_mr_models/ATLAS_Brain_MR_Baseline_2.csv'),\n",
       " PosixPath('logs/atlas_brain_mr_models/ATLAS_Brain_MR_Baseline_3.csv'),\n",
       " PosixPath('logs/atlas_brain_mr_models/ATLAS_Brain_MR_Baseline_5.csv'),\n",
       " PosixPath('logs/atlas_brain_mr_models/ATLAS_Brain_MR_Baseline_10.csv'),\n",
       " PosixPath('logs/atlas_brain_mr_models/ATLAS_Brain_MR_Baseline_11.csv'),\n",
       " PosixPath('logs/atlas_brain_mr_models/ATLAS_Brain_MR_Baseline_9.csv')]"
      ]
     },
     "execution_count": 115,
     "metadata": {},
     "output_type": "execute_result"
    }
   ],
   "source": [
    "path = Path(\"logs/atlas_brain_mr_models\"); path.ls()"
   ]
  },
  {
   "cell_type": "code",
   "execution_count": 116,
   "metadata": {
    "hidden": true,
    "scrolled": true
   },
   "outputs": [],
   "source": [
    "log_df = pd.read_csv(path/'ATLAS_Brain_MR_Baseline_11.csv')"
   ]
  },
  {
   "cell_type": "code",
   "execution_count": 119,
   "metadata": {
    "hidden": true
   },
   "outputs": [
    {
     "data": {
      "text/html": [
       "<div>\n",
       "<style scoped>\n",
       "    .dataframe tbody tr th:only-of-type {\n",
       "        vertical-align: middle;\n",
       "    }\n",
       "\n",
       "    .dataframe tbody tr th {\n",
       "        vertical-align: top;\n",
       "    }\n",
       "\n",
       "    .dataframe thead th {\n",
       "        text-align: right;\n",
       "    }\n",
       "</style>\n",
       "<table border=\"1\" class=\"dataframe\">\n",
       "  <thead>\n",
       "    <tr style=\"text-align: right;\">\n",
       "      <th></th>\n",
       "      <th>epoch</th>\n",
       "      <th>train_loss</th>\n",
       "      <th>valid_loss</th>\n",
       "      <th>dice_score</th>\n",
       "    </tr>\n",
       "  </thead>\n",
       "  <tbody>\n",
       "    <tr>\n",
       "      <th>0</th>\n",
       "      <td>0</td>\n",
       "      <td>0.067217</td>\n",
       "      <td>0.039492</td>\n",
       "      <td>0.932314</td>\n",
       "    </tr>\n",
       "    <tr>\n",
       "      <th>1</th>\n",
       "      <td>1</td>\n",
       "      <td>0.044604</td>\n",
       "      <td>0.027971</td>\n",
       "      <td>0.934879</td>\n",
       "    </tr>\n",
       "    <tr>\n",
       "      <th>2</th>\n",
       "      <td>2</td>\n",
       "      <td>0.038939</td>\n",
       "      <td>0.027469</td>\n",
       "      <td>0.933695</td>\n",
       "    </tr>\n",
       "    <tr>\n",
       "      <th>3</th>\n",
       "      <td>3</td>\n",
       "      <td>0.024259</td>\n",
       "      <td>0.022256</td>\n",
       "      <td>0.942935</td>\n",
       "    </tr>\n",
       "    <tr>\n",
       "      <th>4</th>\n",
       "      <td>4</td>\n",
       "      <td>0.044134</td>\n",
       "      <td>0.018329</td>\n",
       "      <td>0.950114</td>\n",
       "    </tr>\n",
       "    <tr>\n",
       "      <th>5</th>\n",
       "      <td>5</td>\n",
       "      <td>0.030373</td>\n",
       "      <td>0.016467</td>\n",
       "      <td>0.945641</td>\n",
       "    </tr>\n",
       "    <tr>\n",
       "      <th>6</th>\n",
       "      <td>6</td>\n",
       "      <td>0.018827</td>\n",
       "      <td>0.016503</td>\n",
       "      <td>0.943256</td>\n",
       "    </tr>\n",
       "    <tr>\n",
       "      <th>7</th>\n",
       "      <td>7</td>\n",
       "      <td>0.018283</td>\n",
       "      <td>0.013724</td>\n",
       "      <td>0.956241</td>\n",
       "    </tr>\n",
       "    <tr>\n",
       "      <th>8</th>\n",
       "      <td>8</td>\n",
       "      <td>NaN</td>\n",
       "      <td>NaN</td>\n",
       "      <td>0.000000</td>\n",
       "    </tr>\n",
       "  </tbody>\n",
       "</table>\n",
       "</div>"
      ],
      "text/plain": [
       "   epoch  train_loss  valid_loss  dice_score\n",
       "0      0    0.067217    0.039492    0.932314\n",
       "1      1    0.044604    0.027971    0.934879\n",
       "2      2    0.038939    0.027469    0.933695\n",
       "3      3    0.024259    0.022256    0.942935\n",
       "4      4    0.044134    0.018329    0.950114\n",
       "5      5    0.030373    0.016467    0.945641\n",
       "6      6    0.018827    0.016503    0.943256\n",
       "7      7    0.018283    0.013724    0.956241\n",
       "8      8         NaN         NaN    0.000000"
      ]
     },
     "execution_count": 119,
     "metadata": {},
     "output_type": "execute_result"
    }
   ],
   "source": [
    "log_df"
   ]
  },
  {
   "cell_type": "code",
   "execution_count": 117,
   "metadata": {
    "hidden": true
   },
   "outputs": [
    {
     "data": {
      "image/png": "[encoded data removed]",
      "text/plain": [
       "<Figure size 720x360 with 1 Axes>"
      ]
     },
     "metadata": {
      "needs_background": "light"
     },
     "output_type": "display_data"
    }
   ],
   "source": [
    "fig, ax = plt.subplots(1,1, figsize=(10,5))\n",
    "ax.set_title(f'Loss: {loss_func}')\n",
    "ax.set_xlabel(\"Epoch\")\n",
    "ax.plot(log_df['train_loss'])\n",
    "ax.plot(log_df['valid_loss']);"
   ]
  },
  {
   "cell_type": "code",
   "execution_count": 118,
   "metadata": {
    "hidden": true
   },
   "outputs": [
    {
     "data": {
      "image/png": "[encoded data removed]",
      "text/plain": [
       "<Figure size 720x360 with 1 Axes>"
      ]
     },
     "metadata": {
      "needs_background": "light"
     },
     "output_type": "display_data"
    }
   ],
   "source": [
    "fig, ax = plt.subplots(1,1, figsize=(10,5))\n",
    "ax.set_title(f\"Dice Score: {np.round(log_df['dice_score'].max(), 2)}\")\n",
    "ax.set_xlabel(\"Epoch\")\n",
    "plt.plot(log_df['dice_score']);"
   ]
  },
  {
   "cell_type": "markdown",
   "metadata": {
    "heading_collapsed": true
   },
   "source": [
    "### Visualize"
   ]
  },
  {
   "cell_type": "code",
   "execution_count": 83,
   "metadata": {
    "hidden": true
   },
   "outputs": [],
   "source": [
    "def to_int8(a): return a.astype(np.uint8)"
   ]
  },
  {
   "cell_type": "code",
   "execution_count": 65,
   "metadata": {
    "hidden": true
   },
   "outputs": [],
   "source": [
    "data1 = DataBunch.create(train_ds=train_ds, valid_ds=valid_ds, test_ds=test1_ds, bs=3)\n",
    "data2 = DataBunch.create(train_ds=train_ds, valid_ds=valid_ds, test_ds=test2_ds, bs=3)"
   ]
  },
  {
   "cell_type": "code",
   "execution_count": 125,
   "metadata": {
    "hidden": true
   },
   "outputs": [],
   "source": [
    "train_fnames = data1.train_ds.img_fnames\n",
    "valid_fnames = data1.valid_ds.img_fnames\n",
    "test1_fnames = data1.test_ds.img_fnames\n",
    "test2_fnames = data1.test_ds.img_fnames"
   ]
  },
  {
   "cell_type": "code",
   "execution_count": 128,
   "metadata": {
    "hidden": true
   },
   "outputs": [
    {
     "data": {
      "text/plain": [
       "(112, 15, 15, 15)"
      ]
     },
     "execution_count": 128,
     "metadata": {},
     "output_type": "execute_result"
    }
   ],
   "source": [
    "len(train_fnames), len(valid_fnames), len(test1_fnames), len(test2_fnames)"
   ]
  },
  {
   "cell_type": "code",
   "execution_count": 118,
   "metadata": {
    "hidden": true
   },
   "outputs": [],
   "source": [
    "train_dl = data1.train_dl.new(shuffle=False)\n",
    "valid_dl = data1.valid_dl.new(shuffle=False)\n",
    "test1_dl = data1.test_dl.new(shuffle=False)\n",
    "test2_dl = data2.test_dl.new(shuffle=False)"
   ]
  },
  {
   "cell_type": "code",
   "execution_count": 70,
   "metadata": {
    "hidden": true
   },
   "outputs": [],
   "source": [
    "learn.to_fp16();"
   ]
  },
  {
   "cell_type": "code",
   "execution_count": 1,
   "metadata": {
    "hidden": true,
    "scrolled": true
   },
   "outputs": [],
   "source": [
    "# # training\n",
    "# images, preds, masks = get_img_pred_masks(learn, train_dl)\n",
    "\n",
    "# # validation\n",
    "# images, preds, masks = get_img_pred_masks(learn, valid_dl)\n",
    "\n",
    "# # test1\n",
    "# images, preds, masks = get_img_pred_masks(learn, test1_dl)\n",
    "\n",
    "# # test2\n",
    "# images, preds, masks = get_img_pred_masks(learn, test2_dl)"
   ]
  },
  {
   "cell_type": "code",
   "execution_count": null,
   "metadata": {
    "hidden": true
   },
   "outputs": [],
   "source": []
  },
  {
   "cell_type": "markdown",
   "metadata": {},
   "source": [
    "### Compare Deep Learning with Atlas\n",
    "\n",
    "Skull strip train, valid, test1 and test2\n",
    "\n",
    "- Compare with atlas masks\n",
    "- RuntimeError: _th_cat is not implemented for type torch.HalfTensor\n",
    "- Save to data_path/**/skull_stripped_v2"
   ]
  },
  {
   "cell_type": "code",
   "execution_count": 15,
   "metadata": {},
   "outputs": [],
   "source": [
    "parent_dataset = 'MR_Dataset_Atlas'"
   ]
  },
  {
   "cell_type": "code",
   "execution_count": 16,
   "metadata": {},
   "outputs": [],
   "source": [
    "def get_predictions(model, dl):\n",
    "    res = []\n",
    "    model.eval()\n",
    "    with torch.no_grad():\n",
    "        for xb,yb in progress_bar(dl):\n",
    "            out = model(xb)\n",
    "            out = to_detach(out)\n",
    "            res.append(out)\n",
    "    res = torch.cat([o.float() for o in res]) # converts to fp32 cat doesn't work with fp16\n",
    "    return res"
   ]
  },
  {
   "cell_type": "code",
   "execution_count": 17,
   "metadata": {},
   "outputs": [],
   "source": [
    "data1 = DataBunch.create(train_ds=train_ds, valid_ds=valid_ds, test_ds=test1_ds, bs=2)\n",
    "data1.add_tfm(batch_to_half)\n",
    "data2 = DataBunch.create(train_ds=train_ds, valid_ds=valid_ds, test_ds=test2_ds, bs=2)\n",
    "data2.add_tfm(batch_to_half)"
   ]
  },
  {
   "cell_type": "code",
   "execution_count": 18,
   "metadata": {},
   "outputs": [],
   "source": [
    "train_dl = data1.train_dl.new(shuffle=False)\n",
    "valid_dl = data1.valid_dl.new(shuffle=False)\n",
    "test1_dl = data1.test_dl.new(shuffle=False) if test1_ds else None\n",
    "test2_dl = data2.test_dl.new(shuffle=False) if test2_ds else None"
   ]
  },
  {
   "cell_type": "code",
   "execution_count": 19,
   "metadata": {},
   "outputs": [],
   "source": [
    "# my data copy path\n",
    "data_path = Path('../../data/Segmentation_Dataset/')"
   ]
  },
  {
   "cell_type": "code",
   "execution_count": 20,
   "metadata": {},
   "outputs": [],
   "source": [
    "train_fnames = data1.train_ds.img_fnames\n",
    "valid_fnames = data1.valid_ds.img_fnames\n",
    "test1_fnames = data1.test_ds.img_fnames if test1_ds else None \n",
    "test2_fnames = data2.test_ds.img_fnames if test2_ds else None"
   ]
  },
  {
   "cell_type": "code",
   "execution_count": 107,
   "metadata": {},
   "outputs": [],
   "source": [
    "learn.to_fp16();"
   ]
  },
  {
   "cell_type": "code",
   "execution_count": 43,
   "metadata": {
    "scrolled": true
   },
   "outputs": [
    {
     "data": {
      "text/html": [
       "\n",
       "    <div>\n",
       "        <style>\n",
       "            /* Turns off some styling */\n",
       "            progress {\n",
       "                /* gets rid of default border in Firefox and Opera. */\n",
       "                border: none;\n",
       "                /* Needs to be in here for Safari polyfill so background images work as expected. */\n",
       "                background-size: auto;\n",
       "            }\n",
       "            .progress-bar-interrupted, .progress-bar-interrupted::-webkit-progress-bar {\n",
       "                background: #F44336;\n",
       "            }\n",
       "        </style>\n",
       "      <progress value='53' class='' max='53', style='width:300px; height:20px; vertical-align: middle;'></progress>\n",
       "      100.00% [53/53 01:06<00:00]\n",
       "    </div>\n",
       "    "
      ],
      "text/plain": [
       "<IPython.core.display.HTML object>"
      ]
     },
     "metadata": {},
     "output_type": "display_data"
    },
    {
     "data": {
      "text/html": [
       "\n",
       "    <div>\n",
       "        <style>\n",
       "            /* Turns off some styling */\n",
       "            progress {\n",
       "                /* gets rid of default border in Firefox and Opera. */\n",
       "                border: none;\n",
       "                /* Needs to be in here for Safari polyfill so background images work as expected. */\n",
       "                background-size: auto;\n",
       "            }\n",
       "            .progress-bar-interrupted, .progress-bar-interrupted::-webkit-progress-bar {\n",
       "                background: #F44336;\n",
       "            }\n",
       "        </style>\n",
       "      <progress value='13' class='' max='13', style='width:300px; height:20px; vertical-align: middle;'></progress>\n",
       "      100.00% [13/13 00:17<00:00]\n",
       "    </div>\n",
       "    "
      ],
      "text/plain": [
       "<IPython.core.display.HTML object>"
      ]
     },
     "metadata": {},
     "output_type": "display_data"
    },
    {
     "data": {
      "text/html": [
       "\n",
       "    <div>\n",
       "        <style>\n",
       "            /* Turns off some styling */\n",
       "            progress {\n",
       "                /* gets rid of default border in Firefox and Opera. */\n",
       "                border: none;\n",
       "                /* Needs to be in here for Safari polyfill so background images work as expected. */\n",
       "                background-size: auto;\n",
       "            }\n",
       "            .progress-bar-interrupted, .progress-bar-interrupted::-webkit-progress-bar {\n",
       "                background: #F44336;\n",
       "            }\n",
       "        </style>\n",
       "      <progress value='5' class='' max='5', style='width:300px; height:20px; vertical-align: middle;'></progress>\n",
       "      100.00% [5/5 00:08<00:00]\n",
       "    </div>\n",
       "    "
      ],
      "text/plain": [
       "<IPython.core.display.HTML object>"
      ]
     },
     "metadata": {},
     "output_type": "display_data"
    },
    {
     "data": {
      "text/html": [
       "\n",
       "    <div>\n",
       "        <style>\n",
       "            /* Turns off some styling */\n",
       "            progress {\n",
       "                /* gets rid of default border in Firefox and Opera. */\n",
       "                border: none;\n",
       "                /* Needs to be in here for Safari polyfill so background images work as expected. */\n",
       "                background-size: auto;\n",
       "            }\n",
       "            .progress-bar-interrupted, .progress-bar-interrupted::-webkit-progress-bar {\n",
       "                background: #F44336;\n",
       "            }\n",
       "        </style>\n",
       "      <progress value='9' class='' max='9', style='width:300px; height:20px; vertical-align: middle;'></progress>\n",
       "      100.00% [9/9 00:14<00:00]\n",
       "    </div>\n",
       "    "
      ],
      "text/plain": [
       "<IPython.core.display.HTML object>"
      ]
     },
     "metadata": {},
     "output_type": "display_data"
    }
   ],
   "source": [
    "# model predictions\n",
    "train_preds = get_predictions(learn.model, train_dl)\n",
    "valid_preds = get_predictions(learn.model, valid_dl)\n",
    "test1_preds = get_predictions(learn.model, test1_dl) if test1_ds else None\n",
    "test2_preds = get_predictions(learn.model, test2_dl) if test2_ds else None"
   ]
  },
  {
   "cell_type": "code",
   "execution_count": 44,
   "metadata": {},
   "outputs": [
    {
     "data": {
      "text/plain": [
       "(torch.Size([106, 1, 128, 256, 256]),\n",
       " torch.Size([26, 1, 128, 256, 256]),\n",
       " torch.Size([9, 1, 128, 256, 256]),\n",
       " torch.Size([18, 1, 128, 256, 256]))"
      ]
     },
     "execution_count": 44,
     "metadata": {},
     "output_type": "execute_result"
    }
   ],
   "source": [
    "train_preds.shape, valid_preds.shape, test1_preds.shape, test2_preds.shape"
   ]
  },
  {
   "cell_type": "code",
   "execution_count": 45,
   "metadata": {},
   "outputs": [],
   "source": [
    "def collect_masks(dl): return torch.cat([to_cpu(yb) for _, yb in dl])"
   ]
  },
  {
   "cell_type": "code",
   "execution_count": 46,
   "metadata": {},
   "outputs": [],
   "source": [
    "# human annotated masks\n",
    "train_masks = collect_masks(train_dl)\n",
    "valid_masks = collect_masks(valid_dl)\n",
    "test1_masks = collect_masks(test1_dl) if test1_ds else None\n",
    "test2_masks = collect_masks(test2_dl) if test2_ds else None"
   ]
  },
  {
   "cell_type": "code",
   "execution_count": 47,
   "metadata": {},
   "outputs": [],
   "source": [
    "for masks in (train_masks, valid_masks, test1_masks, test2_masks):\n",
    "    masks.unsqueeze_(1)"
   ]
  },
  {
   "cell_type": "code",
   "execution_count": 48,
   "metadata": {},
   "outputs": [
    {
     "data": {
      "text/plain": [
       "(torch.Size([106, 1, 128, 256, 256]),\n",
       " torch.Size([26, 1, 128, 256, 256]),\n",
       " torch.Size([9, 1, 128, 256, 256]),\n",
       " torch.Size([18, 1, 128, 256, 256]))"
      ]
     },
     "execution_count": 48,
     "metadata": {},
     "output_type": "execute_result"
    }
   ],
   "source": [
    "train_masks.shape, valid_masks.shape, test1_masks.shape, test2_masks.shape"
   ]
  },
  {
   "cell_type": "code",
   "execution_count": 49,
   "metadata": {},
   "outputs": [],
   "source": [
    "def load_atlas(path, fnames):\n",
    "    return torch.cat([torch.tensor(np.load(path/fn.name))[None] for fn in fnames])"
   ]
  },
  {
   "cell_type": "code",
   "execution_count": 50,
   "metadata": {},
   "outputs": [],
   "source": [
    "train_atlas_path = (data_path/f'{parent_dataset}/train/brain_atlas')\n",
    "valid_atlas_path = (data_path/f'{parent_dataset}/validation/brain_atlas')\n",
    "test1_atlas_path = (data_path/f'{parent_dataset}/test1/brain_atlas')\n",
    "test2_atlas_path = (data_path/f'{parent_dataset}/test2/brain_atlas')"
   ]
  },
  {
   "cell_type": "code",
   "execution_count": 51,
   "metadata": {
    "scrolled": true
   },
   "outputs": [],
   "source": [
    "# machine annotated masks\n",
    "train_atlas = load_atlas(train_atlas_path, train_fnames)\n",
    "valid_atlas = load_atlas(valid_atlas_path, valid_fnames)\n",
    "test1_atlas = load_atlas(test1_atlas_path, test1_fnames)\n",
    "test2_atlas = load_atlas(test2_atlas_path, test2_fnames)"
   ]
  },
  {
   "cell_type": "code",
   "execution_count": 52,
   "metadata": {},
   "outputs": [],
   "source": [
    "for masks in (train_atlas, valid_atlas, test1_atlas, test2_atlas):\n",
    "    masks.unsqueeze_(1)"
   ]
  },
  {
   "cell_type": "code",
   "execution_count": 53,
   "metadata": {},
   "outputs": [
    {
     "data": {
      "text/plain": [
       "(torch.Size([107, 1, 128, 256, 256]),\n",
       " torch.Size([26, 1, 128, 256, 256]),\n",
       " torch.Size([9, 1, 128, 256, 256]),\n",
       " torch.Size([18, 1, 128, 256, 256]))"
      ]
     },
     "execution_count": 53,
     "metadata": {},
     "output_type": "execute_result"
    }
   ],
   "source": [
    "train_atlas.shape, valid_atlas.shape, test1_atlas.shape, test2_atlas.shape"
   ]
  },
  {
   "cell_type": "code",
   "execution_count": 71,
   "metadata": {},
   "outputs": [
    {
     "data": {
      "image/jpeg": "[encoded data removed]",
      "image/png": "[encoded data removed]",
      "text/plain": [
       "ImageSegment (1, 256, 256)"
      ]
     },
     "execution_count": 71,
     "metadata": {},
     "output_type": "execute_result"
    }
   ],
   "source": [
    "image_no=5\n",
    "slice_no=64\n",
    "ImageSegment(train_preds[image_no, :, slice_no] > 0)"
   ]
  },
  {
   "cell_type": "code",
   "execution_count": 72,
   "metadata": {},
   "outputs": [
    {
     "data": {
      "image/jpeg": "[encoded data removed]",
      "image/png": "[encoded data removed]",
      "text/plain": [
       "ImageSegment (1, 256, 256)"
      ]
     },
     "execution_count": 72,
     "metadata": {},
     "output_type": "execute_result"
    }
   ],
   "source": [
    "image_no=5\n",
    "slice_no=64\n",
    "ImageSegment(train_masks[image_no, :, slice_no] > 0)"
   ]
  },
  {
   "cell_type": "code",
   "execution_count": 73,
   "metadata": {},
   "outputs": [
    {
     "data": {
      "image/jpeg": "[encoded data removed]",
      "image/png": "[encoded data removed]",
      "text/plain": [
       "ImageSegment (1, 256, 256)"
      ]
     },
     "execution_count": 73,
     "metadata": {},
     "output_type": "execute_result"
    }
   ],
   "source": [
    "image_no=5\n",
    "slice_no=64\n",
    "ImageSegment(train_atlas[image_no, :, slice_no] > 0)"
   ]
  },
  {
   "cell_type": "code",
   "execution_count": 66,
   "metadata": {},
   "outputs": [],
   "source": [
    "# deep learning performance\n",
    "train_preds_score = dice_score(train_preds, train_masks)\n",
    "valid_preds_score = dice_score(valid_preds, valid_masks)\n",
    "test1_preds_score = dice_score(test1_preds, test1_masks)\n",
    "test2_preds_score = dice_score(test2_preds, test2_masks)"
   ]
  },
  {
   "cell_type": "code",
   "execution_count": 67,
   "metadata": {},
   "outputs": [
    {
     "data": {
      "text/plain": [
       "(tensor(0.9823), tensor(0.9822), tensor(0.9822), tensor(0.9772))"
      ]
     },
     "execution_count": 67,
     "metadata": {},
     "output_type": "execute_result"
    }
   ],
   "source": [
    "train_preds_score, valid_preds_score, test1_preds_score, test2_preds_score"
   ]
  },
  {
   "cell_type": "code",
   "execution_count": 69,
   "metadata": {},
   "outputs": [],
   "source": [
    "# atlas performance\n",
    "train_atlas_score = dice_score(train_atlas, train_masks)\n",
    "valid_atlas_score = dice_score(valid_atlas, valid_masks)\n",
    "test1_atlas_score = dice_score(test1_atlas, test1_masks)\n",
    "test2_atlas_score = dice_score(test2_atlas, test2_masks)"
   ]
  },
  {
   "cell_type": "code",
   "execution_count": 70,
   "metadata": {},
   "outputs": [
    {
     "data": {
      "text/plain": [
       "(tensor(0.9847), tensor(0.9860), tensor(0.9853), tensor(0.9790))"
      ]
     },
     "execution_count": 70,
     "metadata": {},
     "output_type": "execute_result"
    }
   ],
   "source": [
    "train_atlas_score, valid_atlas_score, test1_atlas_score, test2_atlas_score"
   ]
  },
  {
   "cell_type": "markdown",
   "metadata": {},
   "source": [
    "### Skull Stripping v2\n",
    "\n",
    "- Human annotated brain masks will be used where possible\n",
    "- \"First, we normalize each modality of each patient independently by subtracting the mean and dividing by the standard deviation of the brain region. We then clip the resulting images at [−5, 5] to remove outliers and subsequently rescale to [0, 1], with the non-brain region being set to 0.\""
   ]
  },
  {
   "cell_type": "code",
   "execution_count": 21,
   "metadata": {},
   "outputs": [],
   "source": [
    "import seaborn as sns"
   ]
  },
  {
   "cell_type": "code",
   "execution_count": 22,
   "metadata": {},
   "outputs": [],
   "source": [
    "parent_dataset = 'MR_Dataset_Atlas'"
   ]
  },
  {
   "cell_type": "code",
   "execution_count": 23,
   "metadata": {},
   "outputs": [],
   "source": [
    "os.makedirs(data_path/f'{parent_dataset}/train/skull_stripped_v2', exist_ok=True)\n",
    "os.makedirs(data_path/f'{parent_dataset}/validation/skull_stripped_v2', exist_ok=True)\n",
    "if test1_ds: os.makedirs(data_path/f'{parent_dataset}/test1/skull_stripped_v2', exist_ok=True) \n",
    "if test2_ds: os.makedirs(data_path/f'{parent_dataset}/test2/skull_stripped_v2', exist_ok=True)"
   ]
  },
  {
   "cell_type": "code",
   "execution_count": 24,
   "metadata": {},
   "outputs": [
    {
     "data": {
      "text/plain": [
       "[PosixPath('../../data/Segmentation_Dataset/MR_Dataset_Atlas/train/raw_images/BrainMets-UCSF-00001_19990425000000.000_2.16.840_579.6972_RTst_1999-04-25_000000_._MR.Bias.Corrected,.axial.t1.g_n1__00000_MR.npy'),\n",
       " PosixPath('../../data/Segmentation_Dataset/MR_Dataset_Atlas/train/raw_images/BrainMets-UCSF-00004_19970413000000.000_2.16.840_482.7049_RTst_1997-04-13_000000_._MR.Bias.Corrected,.axial_n1__00000_MR.npy')]"
      ]
     },
     "execution_count": 24,
     "metadata": {},
     "output_type": "execute_result"
    }
   ],
   "source": [
    "sorted((data_path/f'{parent_dataset}/train/raw_images').ls())[:2]"
   ]
  },
  {
   "cell_type": "code",
   "execution_count": 25,
   "metadata": {},
   "outputs": [
    {
     "data": {
      "text/plain": [
       "[PosixPath('../../data/Segmentation_Dataset/MR_Dataset_Atlas/train/brain_atlas/BrainMets-UCSF-00001_19990425000000.000_2.16.840_579.6972_RTst_1999-04-25_000000_._MR.Bias.Corrected,.axial.t1.g_n1__00000_MR.npy'),\n",
       " PosixPath('../../data/Segmentation_Dataset/MR_Dataset_Atlas/train/brain_atlas/BrainMets-UCSF-00004_19970413000000.000_2.16.840_482.7049_RTst_1997-04-13_000000_._MR.Bias.Corrected,.axial_n1__00000_MR.npy')]"
      ]
     },
     "execution_count": 25,
     "metadata": {},
     "output_type": "execute_result"
    }
   ],
   "source": [
    "sorted((data_path/f'{parent_dataset}/train/brain_atlas').ls())[:2]"
   ]
  },
  {
   "cell_type": "code",
   "execution_count": 26,
   "metadata": {},
   "outputs": [],
   "source": [
    "# raw_images = [np.load(fn) for fn in (data_path/f'{parent_dataset}/train/raw_images').ls()]\n",
    "# # brain_masks = [np.load(fn) for fn in (data_path/f'{parent_dataset}/train/brain_masks').ls()]\n",
    "# brain_masks = [np.load(fn) for fn in (data_path/f'{parent_dataset}/train/brain_atlas').ls()]"
   ]
  },
  {
   "cell_type": "code",
   "execution_count": 27,
   "metadata": {},
   "outputs": [],
   "source": [
    "# len(raw_images), len(brain_masks)"
   ]
  },
  {
   "cell_type": "code",
   "execution_count": null,
   "metadata": {
    "scrolled": true
   },
   "outputs": [],
   "source": [
    "# pixel density plot of different scans\n",
    "for i in range(10):\n",
    "    sns.distplot(np.clip(raw_images[i][50:70].flatten(), 0, 400), hist=False)"
   ]
  },
  {
   "cell_type": "code",
   "execution_count": 28,
   "metadata": {},
   "outputs": [],
   "source": [
    "def normalize_with_mask(image, mask):\n",
    "    \"\"\"\n",
    "    First, we normalize each modality of each patient \n",
    "    independently by subtracting the mean and dividing by the standard deviation of the brain region.\n",
    "    We then clip the resulting images at [−5, 5] to remove outliers and subsequently rescale to [0, 1],\n",
    "    with the non-brain region being set to 0.\n",
    "    \"\"\"\n",
    "    mx = np.ma.masked_array(image, mask=1-mask) # True for places that are masked, we want to exclude non-brain\n",
    "    mean, std = mx.mean(), mx.std()\n",
    "    return np.clip((image - mean) / std, -5, 5)*mask"
   ]
  },
  {
   "cell_type": "code",
   "execution_count": null,
   "metadata": {
    "scrolled": true
   },
   "outputs": [],
   "source": [
    "normalized_samples = [normalize_with_mask(image, mask) for image, mask in zip(raw_images[:10], brain_masks[:10])]"
   ]
  },
  {
   "cell_type": "code",
   "execution_count": null,
   "metadata": {},
   "outputs": [],
   "source": [
    "# pixel density plot of normalized scans\n",
    "for i in range(10):\n",
    "    sns.distplot(np.clip(normalized_samples[i][50:70].flatten(), -2, 2), hist=False)"
   ]
  },
  {
   "cell_type": "code",
   "execution_count": null,
   "metadata": {},
   "outputs": [],
   "source": [
    "fig, axes = plt.subplots(2,5, figsize=(15,6))\n",
    "for i,ax in enumerate(axes.flatten()): ax.imshow(normalized_samples[i][64])"
   ]
  },
  {
   "cell_type": "code",
   "execution_count": null,
   "metadata": {},
   "outputs": [],
   "source": [
    "train_fnames[0]"
   ]
  },
  {
   "cell_type": "code",
   "execution_count": 29,
   "metadata": {},
   "outputs": [],
   "source": [
    "fnames_dict = {'train':train_fnames, 'validation':valid_fnames, 'test1':test1_fnames, 'test2':test2_fnames}"
   ]
  },
  {
   "cell_type": "code",
   "execution_count": 30,
   "metadata": {},
   "outputs": [
    {
     "data": {
      "text/plain": [
       "(2143, 15)"
      ]
     },
     "execution_count": 30,
     "metadata": {},
     "output_type": "execute_result"
    }
   ],
   "source": [
    "len(train_fnames), len(valid_fnames)"
   ]
  },
  {
   "cell_type": "code",
   "execution_count": 42,
   "metadata": {},
   "outputs": [],
   "source": [
    "def strip_and_save(dataset, mask_dir='brain_masks'):\n",
    "    fnames = fnames_dict[dataset]\n",
    "    for fn in fnames:\n",
    "        image = np.load(data_path/f'{parent_dataset}/{dataset}/raw_images/{fn.name}')\n",
    "        mask = np.load(data_path/f'{parent_dataset}/{dataset}/{mask_dir}/{fn.name}')\n",
    "        normalized_image = normalize_with_mask(image, mask)\n",
    "        np.save(data_path/f'{parent_dataset}/{dataset}/skull_stripped_v2/{fn.name}', normalized_image)\n",
    "        \n",
    "#     parallel(_save, fnames)"
   ]
  },
  {
   "cell_type": "code",
   "execution_count": null,
   "metadata": {},
   "outputs": [],
   "source": [
    "strip_and_save('train', mask_dir='brain_atlas')\n",
    "strip_and_save('validation', mask_dir='brain_masks')\n",
    "if test1_ds: strip_and_save('test1')\n",
    "if test2_ds: strip_and_save('test2')"
   ]
  },
  {
   "cell_type": "code",
   "execution_count": null,
   "metadata": {},
   "outputs": [],
   "source": []
  },
  {
   "cell_type": "code",
   "execution_count": null,
   "metadata": {},
   "outputs": [],
   "source": []
  },
  {
   "cell_type": "code",
   "execution_count": null,
   "metadata": {},
   "outputs": [],
   "source": []
  },
  {
   "cell_type": "code",
   "execution_count": null,
   "metadata": {},
   "outputs": [],
   "source": []
  },
  {
   "cell_type": "code",
   "execution_count": null,
   "metadata": {},
   "outputs": [],
   "source": []
  }
 ],
 "metadata": {
  "kernelspec": {
   "display_name": "Python 3",
   "language": "python",
   "name": "python3"
  },
  "language_info": {
   "codemirror_mode": {
    "name": "ipython",
    "version": 3
   },
   "file_extension": ".py",
   "mimetype": "text/x-python",
   "name": "python",
   "nbconvert_exporter": "python",
   "pygments_lexer": "ipython3",
   "version": "3.7.2"
  }
 },
 "nbformat": 4,
 "nbformat_minor": 2
}
