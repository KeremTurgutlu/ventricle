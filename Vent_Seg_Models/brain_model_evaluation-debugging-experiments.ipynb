{
 "cells": [
  {
   "cell_type": "code",
   "execution_count": 1,
   "metadata": {
    "scrolled": true
   },
   "outputs": [],
   "source": [
    "%load_ext autoreload\n",
    "%autoreload 2\n",
    "%matplotlib inline"
   ]
  },
  {
   "cell_type": "code",
   "execution_count": 2,
   "metadata": {},
   "outputs": [],
   "source": [
    "from fastai.vision import *\n",
    "from fastai.callbacks import *\n",
    "from fastai.script import *\n",
    "\n",
    "from data_utils import *\n",
    "from models import *\n",
    "from learn_utils import *"
   ]
  },
  {
   "cell_type": "code",
   "execution_count": 3,
   "metadata": {},
   "outputs": [],
   "source": [
    "torch.cuda.set_device(7)"
   ]
  },
  {
   "cell_type": "markdown",
   "metadata": {},
   "source": [
    "### data"
   ]
  },
  {
   "cell_type": "code",
   "execution_count": 4,
   "metadata": {},
   "outputs": [
    {
     "data": {
      "text/plain": [
       "dict_keys(['notl_brain_mr', 'notl_brain_ct', 'atlas_brain_mr', 'notl_ventricle_mr', 'notl_ventricle_ct', 'atlas_ventricle_mr'])"
      ]
     },
     "execution_count": 4,
     "metadata": {},
     "output_type": "execute_result"
    }
   ],
   "source": [
    "data_dict.keys()"
   ]
  },
  {
   "cell_type": "code",
   "execution_count": 5,
   "metadata": {},
   "outputs": [],
   "source": [
    "data_name = 'atlas_brain_mr'\n",
    "data_name = 'notl_ventricle_mr' # choose non-atlas for transfer learning\n",
    "f = data_dict[data_name]\n",
    "train_paths, valid_paths, test1_paths, test2_paths = f()"
   ]
  },
  {
   "cell_type": "code",
   "execution_count": 6,
   "metadata": {},
   "outputs": [],
   "source": [
    "train_ds = MRI_3D_Dataset(*train_paths)\n",
    "valid_ds = MRI_3D_Dataset(*valid_paths)\n",
    "test1_ds = MRI_3D_Dataset(*test1_paths) if test1_paths else None\n",
    "test2_ds = MRI_3D_Dataset(*test2_paths) if test2_paths else None"
   ]
  },
  {
   "cell_type": "code",
   "execution_count": 7,
   "metadata": {},
   "outputs": [],
   "source": [
    "bs = 1\n",
    "data = DataBunch.create(train_ds=train_ds, valid_ds=valid_ds, bs=bs)\n",
    "test1_dl = DeviceDataLoader(DataLoader(test1_ds, batch_size=bs), device=data.device) if test1_ds else None\n",
    "test2_dl = DeviceDataLoader(DataLoader(test2_ds, batch_size=bs), device=data.device) if test2_ds else None"
   ]
  },
  {
   "cell_type": "markdown",
   "metadata": {},
   "source": [
    "### model"
   ]
  },
  {
   "cell_type": "code",
   "execution_count": 8,
   "metadata": {},
   "outputs": [],
   "source": [
    "bn_types = (nn.BatchNorm1d, nn.BatchNorm2d, nn.BatchNorm3d)\n",
    "gnorm_types = (nn.GroupNorm,)\n",
    "insnorm_types = (nn.InstanceNorm1d, nn.InstanceNorm2d, nn.InstanceNorm3d)\n",
    "norm_types = bn_types + gnorm_types + insnorm_types\n",
    "\n",
    "def cond_init(m:nn.Module, init_func:LayerFunc):\n",
    "    \"Initialize the non-batchnorm layers of `m` with `init_func`.\"\n",
    "    if (not isinstance(m, norm_types)) and (not isinstance(m, nn.PReLU)) and requires_grad(m): \n",
    "        init_default(m, init_func)"
   ]
  },
  {
   "cell_type": "code",
   "execution_count": 9,
   "metadata": {
    "scrolled": true
   },
   "outputs": [],
   "source": [
    "kaiming_init = True\n",
    "model_name = 'baseline10'\n",
    "f = experiment_model_dict[model_name]; m = f()\n",
    "if kaiming_init: apply_leaf(m, partial(cond_init, init_func= nn.init.kaiming_normal_))"
   ]
  },
  {
   "cell_type": "markdown",
   "metadata": {
    "heading_collapsed": true
   },
   "source": [
    "### NaN Callback"
   ]
  },
  {
   "cell_type": "code",
   "execution_count": 10,
   "metadata": {
    "hidden": true
   },
   "outputs": [],
   "source": [
    "class BackwardHookCallback(LearnerCallback):\n",
    "    \"Callback that can be used to register hooks on `modules`. Implement the corresponding function in `self.hook`.\"\n",
    "    def __init__(self, learn:Learner, modules:Sequence[nn.Module]=None, do_remove:bool=True):\n",
    "        super().__init__(learn)\n",
    "        self.modules,self.do_remove = modules,do_remove\n",
    "\n",
    "    def on_train_begin(self, **kwargs):\n",
    "        \"Register the `Hooks` on `self.modules`.\"\n",
    "        if not self.modules:\n",
    "            self.modules = [m for m in flatten_model(self.learn.model)\n",
    "                            if hasattr(m, 'weight')]\n",
    "        # needs to be is_forward=False, detach=False\n",
    "        self.hooks = Hooks(self.modules, self.hook, is_forward=False, detach=False)\n",
    "\n",
    "    def on_train_end(self, **kwargs):\n",
    "        \"Remove the `Hooks`.\"\n",
    "        if self.do_remove: self.remove()\n",
    "\n",
    "    def remove(self): \n",
    "        if getattr(self, 'hooks', None): self.hooks.remove()\n",
    "    \n",
    "    def __del__(self): self.remove()"
   ]
  },
  {
   "cell_type": "code",
   "execution_count": 11,
   "metadata": {
    "hidden": true
   },
   "outputs": [],
   "source": [
    "class CatchNanGrad(BackwardHookCallback):\n",
    "    \"Callback that catches a NaN gradient.\"\n",
    "\n",
    "    def on_train_begin(self, **kwargs):\n",
    "        \"Initialize stats.\"\n",
    "        super().on_train_begin(**kwargs)\n",
    "        self.stop = False\n",
    "\n",
    "    def hook(self, m:nn.Module, i:Tensors, o:Tensors)->Tuple[Rank0Tensor,Rank0Tensor]:\n",
    "        \"Take the mean and std of `o`.\"\n",
    "        if torch.any(torch.isnan(o[0])): \n",
    "            self.stop = True\n",
    "            return (m, o)\n",
    "    \n",
    "    def on_backward_end(self, train, epoch, num_batch, **kwargs):\n",
    "        \"Take the stored results and puts it in `self.stats`\"\n",
    "        if train and self.stop: \n",
    "            print (f'Epoch/Batch ({epoch}/{num_batch}): Invalid Grad, terminating training.')\n",
    "            return {'stop_epoch': True, 'stop_training': True, 'skip_validate': True}"
   ]
  },
  {
   "cell_type": "markdown",
   "metadata": {
    "heading_collapsed": true
   },
   "source": [
    "### backward hook"
   ]
  },
  {
   "cell_type": "code",
   "execution_count": 12,
   "metadata": {
    "hidden": true
   },
   "outputs": [],
   "source": [
    "input = torch.randn(10).cuda()\n",
    "target = torch.randn(1).cuda()\n",
    "m1 = nn.Linear(10,10).cuda()\n",
    "m2 = nn.Linear(10,1).cuda()"
   ]
  },
  {
   "cell_type": "code",
   "execution_count": 13,
   "metadata": {
    "hidden": true
   },
   "outputs": [],
   "source": [
    "grads = []\n",
    "acts = []"
   ]
  },
  {
   "cell_type": "code",
   "execution_count": 14,
   "metadata": {
    "hidden": true
   },
   "outputs": [],
   "source": [
    "def hook_grad_fn(m,i,o): \n",
    "    print(m,i,o)\n",
    "    grads.append(o)\n",
    "\n",
    "def hook_act_fn(m,i,o): \n",
    "    print(m,i,o)\n",
    "    acts.append(o)"
   ]
  },
  {
   "cell_type": "code",
   "execution_count": 15,
   "metadata": {
    "hidden": true
   },
   "outputs": [
    {
     "data": {
      "text/plain": [
       "<torch.utils.hooks.RemovableHandle at 0x7f12f24602e8>"
      ]
     },
     "execution_count": 15,
     "metadata": {},
     "output_type": "execute_result"
    }
   ],
   "source": [
    "m1.register_backward_hook(hook_grad_fn)\n",
    "m2.register_backward_hook(hook_grad_fn)\n",
    "\n",
    "m1.register_forward_hook(hook_act_fn)\n",
    "m2.register_forward_hook(hook_act_fn)"
   ]
  },
  {
   "cell_type": "code",
   "execution_count": 16,
   "metadata": {
    "hidden": true
   },
   "outputs": [
    {
     "name": "stdout",
     "output_type": "stream",
     "text": [
      "Linear(in_features=10, out_features=10, bias=True) (tensor([ 0.9387, -0.4827, -1.0887, -1.1454,  0.0623,  0.7531, -1.6193,  0.7378,\n",
      "         0.1974, -1.0506], device='cuda:7'),) tensor([ 0.2942,  0.2710,  0.3910, -0.2322, -0.0555,  0.3180,  0.2395, -0.3145,\n",
      "         0.1917, -0.4454], device='cuda:7', grad_fn=<AddBackward0>)\n",
      "Linear(in_features=10, out_features=1, bias=True) (tensor([ 0.2942,  0.2710,  0.3910, -0.2322, -0.0555,  0.3180,  0.2395, -0.3145,\n",
      "         0.1917, -0.4454], device='cuda:7', grad_fn=<AddBackward0>),) tensor([-0.1062], device='cuda:7', grad_fn=<AddBackward0>)\n"
     ]
    }
   ],
   "source": [
    "out = m2(m1(input))"
   ]
  },
  {
   "cell_type": "code",
   "execution_count": 17,
   "metadata": {
    "hidden": true
   },
   "outputs": [],
   "source": [
    "l = F.mse_loss(out, target)"
   ]
  },
  {
   "cell_type": "code",
   "execution_count": 18,
   "metadata": {
    "hidden": true
   },
   "outputs": [
    {
     "name": "stdout",
     "output_type": "stream",
     "text": [
      "Linear(in_features=10, out_features=1, bias=True) (tensor([3.7204], device='cuda:7'), tensor([3.7204], device='cuda:7')) (tensor([3.7204], device='cuda:7'),)\n",
      "Linear(in_features=10, out_features=10, bias=True) (tensor([-0.3492, -1.0971,  1.0784, -0.1066, -0.8650,  1.1079,  0.8953,  0.5236,\n",
      "        -0.2357,  0.9830], device='cuda:7'), tensor([-0.3492, -1.0971,  1.0784, -0.1066, -0.8650,  1.1079,  0.8953,  0.5236,\n",
      "        -0.2357,  0.9830], device='cuda:7')) (tensor([-0.3492, -1.0971,  1.0784, -0.1066, -0.8650,  1.1079,  0.8953,  0.5236,\n",
      "        -0.2357,  0.9830], device='cuda:7'),)\n"
     ]
    }
   ],
   "source": [
    "l.backward()"
   ]
  },
  {
   "cell_type": "code",
   "execution_count": 19,
   "metadata": {
    "hidden": true
   },
   "outputs": [
    {
     "data": {
      "text/plain": [
       "[(tensor([3.7204], device='cuda:7'),),\n",
       " (tensor([-0.3492, -1.0971,  1.0784, -0.1066, -0.8650,  1.1079,  0.8953,  0.5236,\n",
       "          -0.2357,  0.9830], device='cuda:7'),)]"
      ]
     },
     "execution_count": 19,
     "metadata": {},
     "output_type": "execute_result"
    }
   ],
   "source": [
    "grads"
   ]
  },
  {
   "cell_type": "code",
   "execution_count": 20,
   "metadata": {
    "hidden": true
   },
   "outputs": [
    {
     "data": {
      "text/plain": [
       "[tensor([ 0.2942,  0.2710,  0.3910, -0.2322, -0.0555,  0.3180,  0.2395, -0.3145,\n",
       "          0.1917, -0.4454], device='cuda:7', grad_fn=<AddBackward0>),\n",
       " tensor([-0.1062], device='cuda:7', grad_fn=<AddBackward0>)]"
      ]
     },
     "execution_count": 20,
     "metadata": {},
     "output_type": "execute_result"
    }
   ],
   "source": [
    "acts"
   ]
  },
  {
   "cell_type": "code",
   "execution_count": null,
   "metadata": {
    "hidden": true
   },
   "outputs": [],
   "source": []
  },
  {
   "cell_type": "code",
   "execution_count": null,
   "metadata": {
    "hidden": true
   },
   "outputs": [],
   "source": []
  },
  {
   "cell_type": "markdown",
   "metadata": {},
   "source": [
    "### learn"
   ]
  },
  {
   "cell_type": "code",
   "execution_count": 10,
   "metadata": {},
   "outputs": [],
   "source": [
    "# callbacks\n",
    "MODEL_NAME='NOTL_Ventricle_MR_Baseline_10'\n",
    "model_dir='notl_ventricle_mr_models'\n",
    "early_stop=False\n",
    "early_stop_cb = partial(EarlyStoppingCallback, monitor='dice_score', mode='max', patience=5)\n",
    "save_model_cb = partial(SaveModelCallback, monitor='dice_score', mode='max', every='improvement', \n",
    "                        name=f'best_of_{MODEL_NAME}')\n",
    "reduce_lr_cb = partial(ReduceLROnPlateauCallback, monitor='dice_score', mode='max', patience=0, factor=0.8)\n",
    "csv_logger_cb = partial(CSVLogger, filename=f'logs/{model_dir}/{MODEL_NAME}')\n",
    "\n",
    "if early_stop: \n",
    "    callback_fns = [early_stop_cb, save_model_cb, reduce_lr_cb, csv_logger_cb, CatchNanGrad]\n",
    "else: \n",
    "    callback_fns = [save_model_cb, csv_logger_cb, CatchNanGrad, CatchNanActs, CatchNanParameters]\n",
    "callbacks = [TerminateOnNaNCallback()]    "
   ]
  },
  {
   "cell_type": "code",
   "execution_count": 11,
   "metadata": {},
   "outputs": [],
   "source": [
    "loss_func = 'dice'\n",
    "learn = Learner(data=data, model=m, callbacks=callbacks, callback_fns=callback_fns, model_dir=model_dir)\n",
    "learn.loss_func = {'dice':dice_loss, 'bce':BCEWithLogitsFlat(), 'mixed':None}[loss_func] \n",
    "learn.metrics = [dice_score]\n",
    "learn.to_fp16();"
   ]
  },
  {
   "cell_type": "markdown",
   "metadata": {},
   "source": [
    "### lsuv"
   ]
  },
  {
   "cell_type": "code",
   "execution_count": 18,
   "metadata": {},
   "outputs": [],
   "source": [
    "from ipyexperiments import IPyExperimentsPytorch"
   ]
  },
  {
   "cell_type": "code",
   "execution_count": 23,
   "metadata": {
    "scrolled": true
   },
   "outputs": [],
   "source": [
    "class ActStats:\n",
    "    def __init__(self):\n",
    "        pass\n",
    "    def __call__(self, m, i, o):\n",
    "        d = o.data\n",
    "        self.mean,self.std = d.mean().item(),d.std().item()\n",
    "\n",
    "def lsuv_module(m, model, xb):\n",
    "    stats = ActStats()\n",
    "    h = Hook(m, stats)\n",
    "\n",
    "    if hasattr(m, 'bias'): \n",
    "        while model(xb) is not None and abs(stats.mean)  > 1e-3: m.bias -= stats.mean\n",
    "    if hasattr(m, 'weight'):\n",
    "        while model(xb) is not None and abs(stats.std-1) > 1e-3: m.weight.data /= stats.std\n",
    "\n",
    "    h.remove()\n",
    "    return stats.mean, stats.std"
   ]
  },
  {
   "cell_type": "code",
   "execution_count": 26,
   "metadata": {},
   "outputs": [],
   "source": [
    "def lsuv_init(learn):\n",
    "    \"initialize model parameters with LSUV - https://arxiv.org/abs/1511.06422\"\n",
    "    with IPyExperimentsPytorch():\n",
    "        modules = [m for m in flatten_model(learn.model) if hasattr(m, 'weight') and m.weight is not None]\n",
    "        mdl = learn.model.cuda()\n",
    "        xb, yb = learn.data.one_batch()\n",
    "        for m in modules: print(lsuv_module(m, learn.model, xb.cuda()))\n",
    "        for m in modules: \n",
    "            if hasattr(m, 'weight'): assert not torch.any(torch.isnan(m.weight))\n",
    "            if hasattr(m, 'bias'): assert not torch.any(torch.isnan(m.bias))"
   ]
  },
  {
   "cell_type": "code",
   "execution_count": null,
   "metadata": {},
   "outputs": [
    {
     "name": "stdout",
     "output_type": "stream",
     "text": [
      "\n",
      "*** Experiment started with the Pytorch backend\n",
      "Device: ID 7, GeForce RTX 2080 Ti (10989 RAM)\n",
      "\n",
      "\n",
      "*** Current state:\n",
      "RAM:     Used     Free    Total        Util\n",
      "CPU:    2,968  481,389  515,182 MB   0.58% \n",
      "GPU:      701   10,287   10,989 MB   6.39% \n",
      "\n",
      "\n",
      "(nan, 0.99951171875)\n",
      "(nan, 0.9990234375)\n",
      "(nan, 1.0009765625)\n",
      "(nan, 0.99951171875)\n",
      "(nan, 1.0009765625)\n",
      "(nan, 1.0009765625)\n",
      "(0.0, 1.0)\n",
      "(nan, 1.0009765625)\n",
      "(nan, 0.99951171875)\n",
      "(nan, 1.0)\n",
      "(nan, 1.0009765625)\n",
      "(0.0, 0.99951171875)\n",
      "(-0.0, 0.9990234375)\n",
      "(nan, 1.0)\n",
      "(nan, 1.0009765625)\n",
      "(-0.0, 1.0)\n",
      "(nan, 1.0009765625)\n",
      "(0.0, 1.0)\n",
      "(-0.0, 1.0009765625)\n",
      "(-0.0, 1.0)\n",
      "(-0.0, 1.0009765625)\n",
      "(-0.0, 1.0009765625)\n",
      "(-0.0, 0.9990234375)\n",
      "(0.0, 0.9990234375)\n"
     ]
    }
   ],
   "source": [
    "lsuv_init(learn)"
   ]
  },
  {
   "cell_type": "code",
   "execution_count": null,
   "metadata": {},
   "outputs": [],
   "source": []
  },
  {
   "cell_type": "markdown",
   "metadata": {},
   "source": [
    "### lamb"
   ]
  },
  {
   "cell_type": "code",
   "execution_count": null,
   "metadata": {},
   "outputs": [],
   "source": [
    "def lamb_step(p, lr, mom, mom_damp, step, sqr_mom, sqr_damp, grad_avg, sqr_avg, eps, wd, **kwargs):\n",
    "    debias1 = debias(mom,     mom_damp, step)\n",
    "    debias2 = debias(sqr_mom, sqr_damp, step)\n",
    "    r1 = p.data.pow(2).mean().sqrt()\n",
    "    step = (grad_avg/debias1) / ((sqr_avg/debias2).sqrt()+eps) + wd*p.data\n",
    "    r2 = step.pow(2).mean().sqrt()\n",
    "    p.data.add_(-lr * min(r1/r2,10), step)\n",
    "    return p\n",
    "lamb_step._defaults = dict(eps=1e-6, wd=0.)"
   ]
  },
  {
   "cell_type": "code",
   "execution_count": null,
   "metadata": {},
   "outputs": [],
   "source": []
  },
  {
   "cell_type": "code",
   "execution_count": null,
   "metadata": {},
   "outputs": [],
   "source": []
  },
  {
   "cell_type": "code",
   "execution_count": null,
   "metadata": {},
   "outputs": [],
   "source": []
  },
  {
   "cell_type": "code",
   "execution_count": null,
   "metadata": {},
   "outputs": [],
   "source": []
  },
  {
   "cell_type": "markdown",
   "metadata": {},
   "source": [
    "### fit"
   ]
  },
  {
   "cell_type": "code",
   "execution_count": null,
   "metadata": {
    "scrolled": true
   },
   "outputs": [
    {
     "data": {
      "text/html": [
       "\n",
       "    <div>\n",
       "        <style>\n",
       "            /* Turns off some styling */\n",
       "            progress {\n",
       "                /* gets rid of default border in Firefox and Opera. */\n",
       "                border: none;\n",
       "                /* Needs to be in here for Safari polyfill so background images work as expected. */\n",
       "                background-size: auto;\n",
       "            }\n",
       "            .progress-bar-interrupted, .progress-bar-interrupted::-webkit-progress-bar {\n",
       "                background: #F44336;\n",
       "            }\n",
       "        </style>\n",
       "      <progress value='3' class='' max='100', style='width:300px; height:20px; vertical-align: middle;'></progress>\n",
       "      3.00% [3/100 12:34<6:46:32]\n",
       "    </div>\n",
       "    \n",
       "<table border=\"1\" class=\"dataframe\">\n",
       "  <thead>\n",
       "    <tr style=\"text-align: left;\">\n",
       "      <th>epoch</th>\n",
       "      <th>train_loss</th>\n",
       "      <th>valid_loss</th>\n",
       "      <th>dice_score</th>\n",
       "      <th>time</th>\n",
       "    </tr>\n",
       "  </thead>\n",
       "  <tbody>\n",
       "    <tr>\n",
       "      <td>0</td>\n",
       "      <td>0.969132</td>\n",
       "      <td>0.961316</td>\n",
       "      <td>0.043053</td>\n",
       "      <td>04:11</td>\n",
       "    </tr>\n",
       "    <tr>\n",
       "      <td>1</td>\n",
       "      <td>0.954806</td>\n",
       "      <td>0.940896</td>\n",
       "      <td>0.062313</td>\n",
       "      <td>04:11</td>\n",
       "    </tr>\n",
       "    <tr>\n",
       "      <td>2</td>\n",
       "      <td>0.931806</td>\n",
       "      <td>0.904532</td>\n",
       "      <td>0.112867</td>\n",
       "      <td>04:10</td>\n",
       "    </tr>\n",
       "  </tbody>\n",
       "</table><p>\n",
       "\n",
       "    <div>\n",
       "        <style>\n",
       "            /* Turns off some styling */\n",
       "            progress {\n",
       "                /* gets rid of default border in Firefox and Opera. */\n",
       "                border: none;\n",
       "                /* Needs to be in here for Safari polyfill so background images work as expected. */\n",
       "                background-size: auto;\n",
       "            }\n",
       "            .progress-bar-interrupted, .progress-bar-interrupted::-webkit-progress-bar {\n",
       "                background: #F44336;\n",
       "            }\n",
       "        </style>\n",
       "      <progress value='53' class='' max='112', style='width:300px; height:20px; vertical-align: middle;'></progress>\n",
       "      47.32% [53/112 01:55<02:08 0.9296]\n",
       "    </div>\n",
       "    "
      ],
      "text/plain": [
       "<IPython.core.display.HTML object>"
      ]
     },
     "metadata": {},
     "output_type": "display_data"
    },
    {
     "name": "stdout",
     "output_type": "stream",
     "text": [
      "Better model found at epoch 0 with dice_score value: 0.04305286332964897.\n",
      "Better model found at epoch 1 with dice_score value: 0.06231263652443886.\n",
      "Better model found at epoch 2 with dice_score value: 0.11286657303571701.\n"
     ]
    }
   ],
   "source": [
    "learn.fit_one_cycle(100, max_lr=5e-2)"
   ]
  },
  {
   "cell_type": "code",
   "execution_count": null,
   "metadata": {},
   "outputs": [],
   "source": []
  },
  {
   "cell_type": "code",
   "execution_count": null,
   "metadata": {},
   "outputs": [],
   "source": []
  },
  {
   "cell_type": "code",
   "execution_count": null,
   "metadata": {},
   "outputs": [],
   "source": []
  },
  {
   "cell_type": "code",
   "execution_count": null,
   "metadata": {},
   "outputs": [],
   "source": []
  },
  {
   "cell_type": "code",
   "execution_count": null,
   "metadata": {},
   "outputs": [],
   "source": []
  },
  {
   "cell_type": "code",
   "execution_count": null,
   "metadata": {},
   "outputs": [],
   "source": []
  },
  {
   "cell_type": "code",
   "execution_count": null,
   "metadata": {},
   "outputs": [],
   "source": []
  },
  {
   "cell_type": "code",
   "execution_count": null,
   "metadata": {},
   "outputs": [],
   "source": []
  },
  {
   "cell_type": "code",
   "execution_count": null,
   "metadata": {},
   "outputs": [],
   "source": []
  },
  {
   "cell_type": "code",
   "execution_count": null,
   "metadata": {},
   "outputs": [],
   "source": []
  },
  {
   "cell_type": "markdown",
   "metadata": {},
   "source": [
    "### eval"
   ]
  },
  {
   "cell_type": "code",
   "execution_count": 24,
   "metadata": {},
   "outputs": [
    {
     "data": {
      "text/plain": [
       "[functools.partial(<class 'fastai.basic_train.Recorder'>, add_time=True, silent=False)]"
      ]
     },
     "execution_count": 24,
     "metadata": {},
     "output_type": "execute_result"
    }
   ],
   "source": [
    "[cb_fn for cb_fn in learn.callback_fns if cb_fn.func == Recorder]"
   ]
  },
  {
   "cell_type": "code",
   "execution_count": 18,
   "metadata": {},
   "outputs": [],
   "source": [
    "fns = learn.callback_fns[1]"
   ]
  },
  {
   "cell_type": "code",
   "execution_count": 22,
   "metadata": {},
   "outputs": [
    {
     "data": {
      "text/plain": [
       "False"
      ]
     },
     "execution_count": 22,
     "metadata": {},
     "output_type": "execute_result"
    }
   ],
   "source": [
    "fns.func == Recorder"
   ]
  },
  {
   "cell_type": "code",
   "execution_count": 23,
   "metadata": {},
   "outputs": [
    {
     "data": {
      "text/plain": [
       "True"
      ]
     },
     "execution_count": 23,
     "metadata": {},
     "output_type": "execute_result"
    }
   ],
   "source": [
    "hasattr(learn.save_model_callback, 'best')"
   ]
  },
  {
   "cell_type": "code",
   "execution_count": 22,
   "metadata": {},
   "outputs": [
    {
     "data": {
      "text/plain": [
       "-inf"
      ]
     },
     "execution_count": 22,
     "metadata": {},
     "output_type": "execute_result"
    }
   ],
   "source": [
    "learn.save_model_callback.best"
   ]
  },
  {
   "cell_type": "code",
   "execution_count": 10,
   "metadata": {
    "scrolled": false
   },
   "outputs": [
    {
     "data": {
      "text/plain": [
       "[PosixPath('atlas_brain_mr_models/best_of_ATLAS_Brain_MR_Baseline_9.pth'),\n",
       " PosixPath('atlas_brain_mr_models/best_of_ATLAS_Brain_MR_Baseline_7.pth'),\n",
       " PosixPath('atlas_brain_mr_models/best_of_ATLAS_Brain_MR_Baseline_8.pth'),\n",
       " PosixPath('atlas_brain_mr_models/best_of_ATLAS_Brain_MR_Baseline_5.pth'),\n",
       " PosixPath('atlas_brain_mr_models/best_of_ATLAS_Brain_MR_Baseline_10.pth'),\n",
       " PosixPath('atlas_brain_mr_models/best_of_ATLAS_Brain_MR_Baseline_4.pth'),\n",
       " PosixPath('atlas_brain_mr_models/best_of_ATLAS_Brain_MR_Baseline_2.pth'),\n",
       " PosixPath('atlas_brain_mr_models/best_of_ATLAS_Brain_MR_Baseline_1.pth'),\n",
       " PosixPath('atlas_brain_mr_models/best_of_ATLAS_Brain_MR_Baseline_3.pth'),\n",
       " PosixPath('atlas_brain_mr_models/best_of_ATLAS_Brain_MR_Baseline_6.pth')]"
      ]
     },
     "execution_count": 10,
     "metadata": {},
     "output_type": "execute_result"
    }
   ],
   "source": [
    "(learn.path/learn.model_dir).ls()"
   ]
  },
  {
   "cell_type": "code",
   "execution_count": 223,
   "metadata": {},
   "outputs": [],
   "source": [
    "learn.load('best_of_ATLAS_Brain_MR_Baseline_10');"
   ]
  },
  {
   "cell_type": "code",
   "execution_count": 224,
   "metadata": {},
   "outputs": [
    {
     "data": {
      "text/plain": [
       "[0.04120313, tensor(0.9592)]"
      ]
     },
     "execution_count": 224,
     "metadata": {},
     "output_type": "execute_result"
    }
   ],
   "source": [
    "learn.validate(learn.data.valid_dl)"
   ]
  },
  {
   "cell_type": "code",
   "execution_count": 225,
   "metadata": {},
   "outputs": [],
   "source": [
    "learn.to_fp32();"
   ]
  },
  {
   "cell_type": "code",
   "execution_count": 226,
   "metadata": {},
   "outputs": [
    {
     "name": "stdout",
     "output_type": "stream",
     "text": [
      "[0.03833369, tensor(0.9621)]\n"
     ]
    }
   ],
   "source": [
    "if test1_dl: print(learn.validate(test1_dl))"
   ]
  },
  {
   "cell_type": "code",
   "execution_count": 227,
   "metadata": {
    "scrolled": true
   },
   "outputs": [
    {
     "name": "stdout",
     "output_type": "stream",
     "text": [
      "[0.05513239, tensor(0.9454)]\n"
     ]
    }
   ],
   "source": [
    "if test2_dl: print(learn.validate(test2_dl))"
   ]
  },
  {
   "cell_type": "markdown",
   "metadata": {},
   "source": [
    "### split"
   ]
  },
  {
   "cell_type": "code",
   "execution_count": 28,
   "metadata": {},
   "outputs": [],
   "source": [
    "model = learn.model"
   ]
  },
  {
   "cell_type": "code",
   "execution_count": 29,
   "metadata": {},
   "outputs": [],
   "source": [
    "c = dict(model.named_children())"
   ]
  },
  {
   "cell_type": "code",
   "execution_count": 30,
   "metadata": {
    "collapsed": true
   },
   "outputs": [
    {
     "name": "stdout",
     "output_type": "stream",
     "text": [
      "11\n",
      "dict_keys(['down1', 'down2', 'down3', 'down4', 'middle', 'upblock1', 'upblock2', 'upblock3', 'seg2', 'seg3', 'seg_final'])\n"
     ]
    },
    {
     "data": {
      "text/plain": [
       "{'down1': DownBlock(\n",
       "   (down): Sequential(\n",
       "     (0): Conv3d(1, 8, kernel_size=(3, 3, 3), stride=(1, 1, 1), padding=(1, 1, 1))\n",
       "     (1): PReLU(num_parameters=1)\n",
       "     (2): InstanceNorm3d(8, eps=1e-05, momentum=0.1, affine=False, track_running_stats=False)\n",
       "     (3): Dropout3d(p=0.2)\n",
       "   )\n",
       "   (preact_res): PreActBlock(\n",
       "     (c1): Sequential(\n",
       "       (0): InstanceNorm3d(8, eps=1e-05, momentum=0.1, affine=False, track_running_stats=False)\n",
       "       (1): PReLU(num_parameters=1)\n",
       "       (2): Conv3d(8, 8, kernel_size=(3, 3, 3), stride=(1, 1, 1), padding=(1, 1, 1))\n",
       "       (3): Dropout3d(p=0.2)\n",
       "     )\n",
       "     (c2): Sequential(\n",
       "       (0): InstanceNorm3d(8, eps=1e-05, momentum=0.1, affine=False, track_running_stats=False)\n",
       "       (1): PReLU(num_parameters=1)\n",
       "       (2): Conv3d(8, 8, kernel_size=(3, 3, 3), stride=(1, 1, 1), padding=(1, 1, 1))\n",
       "       (3): Dropout3d(p=0.2)\n",
       "     )\n",
       "   )\n",
       " ), 'down2': DownBlock(\n",
       "   (down): Sequential(\n",
       "     (0): Conv3d(8, 16, kernel_size=(3, 3, 3), stride=(2, 2, 2), padding=(1, 1, 1))\n",
       "     (1): PReLU(num_parameters=1)\n",
       "     (2): InstanceNorm3d(16, eps=1e-05, momentum=0.1, affine=False, track_running_stats=False)\n",
       "     (3): Dropout3d(p=0.2)\n",
       "   )\n",
       "   (preact_res): PreActBlock(\n",
       "     (c1): Sequential(\n",
       "       (0): InstanceNorm3d(16, eps=1e-05, momentum=0.1, affine=False, track_running_stats=False)\n",
       "       (1): PReLU(num_parameters=1)\n",
       "       (2): Conv3d(16, 16, kernel_size=(3, 3, 3), stride=(1, 1, 1), padding=(1, 1, 1))\n",
       "       (3): Dropout3d(p=0.2)\n",
       "     )\n",
       "     (c2): Sequential(\n",
       "       (0): InstanceNorm3d(16, eps=1e-05, momentum=0.1, affine=False, track_running_stats=False)\n",
       "       (1): PReLU(num_parameters=1)\n",
       "       (2): Conv3d(16, 16, kernel_size=(3, 3, 3), stride=(1, 1, 1), padding=(1, 1, 1))\n",
       "       (3): Dropout3d(p=0.2)\n",
       "     )\n",
       "   )\n",
       " ), 'down3': DownBlock(\n",
       "   (down): Sequential(\n",
       "     (0): Conv3d(16, 32, kernel_size=(3, 3, 3), stride=(2, 2, 2), padding=(1, 1, 1))\n",
       "     (1): PReLU(num_parameters=1)\n",
       "     (2): InstanceNorm3d(32, eps=1e-05, momentum=0.1, affine=False, track_running_stats=False)\n",
       "     (3): Dropout3d(p=0.2)\n",
       "   )\n",
       "   (preact_res): PreActBlock(\n",
       "     (c1): Sequential(\n",
       "       (0): InstanceNorm3d(32, eps=1e-05, momentum=0.1, affine=False, track_running_stats=False)\n",
       "       (1): PReLU(num_parameters=1)\n",
       "       (2): Conv3d(32, 32, kernel_size=(3, 3, 3), stride=(1, 1, 1), padding=(1, 1, 1))\n",
       "       (3): Dropout3d(p=0.2)\n",
       "     )\n",
       "     (c2): Sequential(\n",
       "       (0): InstanceNorm3d(32, eps=1e-05, momentum=0.1, affine=False, track_running_stats=False)\n",
       "       (1): PReLU(num_parameters=1)\n",
       "       (2): Conv3d(32, 32, kernel_size=(3, 3, 3), stride=(1, 1, 1), padding=(1, 1, 1))\n",
       "       (3): Dropout3d(p=0.2)\n",
       "     )\n",
       "   )\n",
       " ), 'down4': DownBlock(\n",
       "   (down): Sequential(\n",
       "     (0): Conv3d(32, 64, kernel_size=(3, 3, 3), stride=(2, 2, 2), padding=(1, 1, 1))\n",
       "     (1): PReLU(num_parameters=1)\n",
       "     (2): InstanceNorm3d(64, eps=1e-05, momentum=0.1, affine=False, track_running_stats=False)\n",
       "     (3): Dropout3d(p=0.2)\n",
       "   )\n",
       "   (preact_res): PreActBlock(\n",
       "     (c1): Sequential(\n",
       "       (0): InstanceNorm3d(64, eps=1e-05, momentum=0.1, affine=False, track_running_stats=False)\n",
       "       (1): PReLU(num_parameters=1)\n",
       "       (2): Conv3d(64, 64, kernel_size=(3, 3, 3), stride=(1, 1, 1), padding=(1, 1, 1))\n",
       "       (3): Dropout3d(p=0.2)\n",
       "     )\n",
       "     (c2): Sequential(\n",
       "       (0): InstanceNorm3d(64, eps=1e-05, momentum=0.1, affine=False, track_running_stats=False)\n",
       "       (1): PReLU(num_parameters=1)\n",
       "       (2): Conv3d(64, 64, kernel_size=(3, 3, 3), stride=(1, 1, 1), padding=(1, 1, 1))\n",
       "       (3): Dropout3d(p=0.2)\n",
       "     )\n",
       "   )\n",
       " ), 'middle': Sequential(\n",
       "   (0): Sequential(\n",
       "     (0): Conv3d(64, 128, kernel_size=(3, 3, 3), stride=(2, 2, 2), padding=(1, 1, 1))\n",
       "     (1): PReLU(num_parameters=1)\n",
       "     (2): InstanceNorm3d(128, eps=1e-05, momentum=0.1, affine=False, track_running_stats=False)\n",
       "     (3): Dropout3d(p=0.2)\n",
       "   )\n",
       "   (1): PreActBlock(\n",
       "     (c1): Sequential(\n",
       "       (0): InstanceNorm3d(128, eps=1e-05, momentum=0.1, affine=False, track_running_stats=False)\n",
       "       (1): PReLU(num_parameters=1)\n",
       "       (2): Conv3d(128, 128, kernel_size=(3, 3, 3), stride=(1, 1, 1), padding=(1, 1, 1))\n",
       "       (3): Dropout3d(p=0.2)\n",
       "     )\n",
       "     (c2): Sequential(\n",
       "       (0): InstanceNorm3d(128, eps=1e-05, momentum=0.1, affine=False, track_running_stats=False)\n",
       "       (1): PReLU(num_parameters=1)\n",
       "       (2): Conv3d(128, 128, kernel_size=(3, 3, 3), stride=(1, 1, 1), padding=(1, 1, 1))\n",
       "       (3): Dropout3d(p=0.2)\n",
       "     )\n",
       "   )\n",
       "   (2): UpsampleBlock(\n",
       "     (c): Sequential(\n",
       "       (0): Conv3d(128, 64, kernel_size=(3, 3, 3), stride=(1, 1, 1), padding=(1, 1, 1))\n",
       "       (1): PReLU(num_parameters=1)\n",
       "       (2): InstanceNorm3d(64, eps=1e-05, momentum=0.1, affine=False, track_running_stats=False)\n",
       "       (3): Dropout3d(p=0.2)\n",
       "     )\n",
       "   )\n",
       " ), 'upblock1': UpBlock(\n",
       "   (c1): LocalizationBlock(\n",
       "     (c1): Sequential(\n",
       "       (0): Conv3d(128, 128, kernel_size=(3, 3, 3), stride=(1, 1, 1), padding=(1, 1, 1))\n",
       "       (1): PReLU(num_parameters=1)\n",
       "       (2): InstanceNorm3d(128, eps=1e-05, momentum=0.1, affine=False, track_running_stats=False)\n",
       "       (3): Dropout3d(p=0.2)\n",
       "     )\n",
       "     (c2): Sequential(\n",
       "       (0): Conv3d(128, 64, kernel_size=(3, 3, 3), stride=(1, 1, 1), padding=(1, 1, 1))\n",
       "       (1): PReLU(num_parameters=1)\n",
       "       (2): InstanceNorm3d(64, eps=1e-05, momentum=0.1, affine=False, track_running_stats=False)\n",
       "       (3): Dropout3d(p=0.2)\n",
       "     )\n",
       "   )\n",
       "   (c2): UpsampleBlock(\n",
       "     (c): Sequential(\n",
       "       (0): Conv3d(64, 32, kernel_size=(3, 3, 3), stride=(1, 1, 1), padding=(1, 1, 1))\n",
       "       (1): PReLU(num_parameters=1)\n",
       "       (2): InstanceNorm3d(32, eps=1e-05, momentum=0.1, affine=False, track_running_stats=False)\n",
       "       (3): Dropout3d(p=0.2)\n",
       "     )\n",
       "   )\n",
       " ), 'upblock2': UpBlock(\n",
       "   (c1): LocalizationBlock(\n",
       "     (c1): Sequential(\n",
       "       (0): Conv3d(64, 64, kernel_size=(3, 3, 3), stride=(1, 1, 1), padding=(1, 1, 1))\n",
       "       (1): PReLU(num_parameters=1)\n",
       "       (2): InstanceNorm3d(64, eps=1e-05, momentum=0.1, affine=False, track_running_stats=False)\n",
       "       (3): Dropout3d(p=0.2)\n",
       "     )\n",
       "     (c2): Sequential(\n",
       "       (0): Conv3d(64, 32, kernel_size=(3, 3, 3), stride=(1, 1, 1), padding=(1, 1, 1))\n",
       "       (1): PReLU(num_parameters=1)\n",
       "       (2): InstanceNorm3d(32, eps=1e-05, momentum=0.1, affine=False, track_running_stats=False)\n",
       "       (3): Dropout3d(p=0.2)\n",
       "     )\n",
       "   )\n",
       "   (c2): UpsampleBlock(\n",
       "     (c): Sequential(\n",
       "       (0): Conv3d(32, 16, kernel_size=(3, 3, 3), stride=(1, 1, 1), padding=(1, 1, 1))\n",
       "       (1): PReLU(num_parameters=1)\n",
       "       (2): InstanceNorm3d(16, eps=1e-05, momentum=0.1, affine=False, track_running_stats=False)\n",
       "       (3): Dropout3d(p=0.2)\n",
       "     )\n",
       "   )\n",
       " ), 'upblock3': UpBlock(\n",
       "   (c1): LocalizationBlock(\n",
       "     (c1): Sequential(\n",
       "       (0): Conv3d(32, 32, kernel_size=(3, 3, 3), stride=(1, 1, 1), padding=(1, 1, 1))\n",
       "       (1): PReLU(num_parameters=1)\n",
       "       (2): InstanceNorm3d(32, eps=1e-05, momentum=0.1, affine=False, track_running_stats=False)\n",
       "       (3): Dropout3d(p=0.2)\n",
       "     )\n",
       "     (c2): Sequential(\n",
       "       (0): Conv3d(32, 16, kernel_size=(3, 3, 3), stride=(1, 1, 1), padding=(1, 1, 1))\n",
       "       (1): PReLU(num_parameters=1)\n",
       "       (2): InstanceNorm3d(16, eps=1e-05, momentum=0.1, affine=False, track_running_stats=False)\n",
       "       (3): Dropout3d(p=0.2)\n",
       "     )\n",
       "   )\n",
       "   (c2): UpsampleBlock(\n",
       "     (c): Sequential(\n",
       "       (0): Conv3d(16, 8, kernel_size=(3, 3, 3), stride=(1, 1, 1), padding=(1, 1, 1))\n",
       "       (1): PReLU(num_parameters=1)\n",
       "       (2): InstanceNorm3d(8, eps=1e-05, momentum=0.1, affine=False, track_running_stats=False)\n",
       "       (3): Dropout3d(p=0.2)\n",
       "     )\n",
       "   )\n",
       " ), 'seg2': SegLayer(\n",
       "   (c1): Sequential(\n",
       "     (0): Conv3d(32, 32, kernel_size=(3, 3, 3), stride=(1, 1, 1), padding=(1, 1, 1))\n",
       "     (1): PReLU(num_parameters=1)\n",
       "     (2): InstanceNorm3d(32, eps=1e-05, momentum=0.1, affine=False, track_running_stats=False)\n",
       "     (3): Dropout3d(p=0.5)\n",
       "   )\n",
       "   (c2): Conv3d(32, 1, kernel_size=(1, 1, 1), stride=(1, 1, 1))\n",
       " ), 'seg3': SegLayer(\n",
       "   (c1): Sequential(\n",
       "     (0): Conv3d(16, 16, kernel_size=(3, 3, 3), stride=(1, 1, 1), padding=(1, 1, 1))\n",
       "     (1): PReLU(num_parameters=1)\n",
       "     (2): InstanceNorm3d(16, eps=1e-05, momentum=0.1, affine=False, track_running_stats=False)\n",
       "     (3): Dropout3d(p=0.5)\n",
       "   )\n",
       "   (c2): Conv3d(16, 1, kernel_size=(1, 1, 1), stride=(1, 1, 1))\n",
       " ), 'seg_final': SegLayer(\n",
       "   (c1): Sequential(\n",
       "     (0): Conv3d(16, 16, kernel_size=(3, 3, 3), stride=(1, 1, 1), padding=(1, 1, 1))\n",
       "     (1): PReLU(num_parameters=1)\n",
       "     (2): InstanceNorm3d(16, eps=1e-05, momentum=0.1, affine=False, track_running_stats=False)\n",
       "     (3): Dropout3d(p=0.5)\n",
       "   )\n",
       "   (c2): Conv3d(16, 1, kernel_size=(1, 1, 1), stride=(1, 1, 1))\n",
       " )}"
      ]
     },
     "execution_count": 30,
     "metadata": {},
     "output_type": "execute_result"
    }
   ],
   "source": [
    "print(len(c)); print(c.keys()); c"
   ]
  },
  {
   "cell_type": "code",
   "execution_count": 31,
   "metadata": {},
   "outputs": [],
   "source": [
    "def _baseline10_split(m:nn.Module): return (nn.ModuleList([m.down1, m.down2, m.down3, m.down4]),\n",
    "                                           nn.ModuleList([m.middle, m.upblock1]),\n",
    "                                           nn.ModuleList([m.upblock2, m.upblock3, m.seg2, m.seg3, m.seg_final])\n",
    "                                          )"
   ]
  },
  {
   "cell_type": "code",
   "execution_count": 32,
   "metadata": {},
   "outputs": [],
   "source": [
    "learn.split(_baseline10_split);"
   ]
  },
  {
   "cell_type": "code",
   "execution_count": 33,
   "metadata": {
    "collapsed": true
   },
   "outputs": [
    {
     "data": {
      "text/plain": [
       "[Sequential(\n",
       "   (0): Conv3d(1, 8, kernel_size=(3, 3, 3), stride=(1, 1, 1), padding=(1, 1, 1))\n",
       "   (1): PReLU(num_parameters=1)\n",
       "   (2): InstanceNorm3d(8, eps=1e-05, momentum=0.1, affine=False, track_running_stats=False)\n",
       "   (3): Dropout3d(p=0.2)\n",
       "   (4): InstanceNorm3d(8, eps=1e-05, momentum=0.1, affine=False, track_running_stats=False)\n",
       "   (5): PReLU(num_parameters=1)\n",
       "   (6): Conv3d(8, 8, kernel_size=(3, 3, 3), stride=(1, 1, 1), padding=(1, 1, 1))\n",
       "   (7): Dropout3d(p=0.2)\n",
       "   (8): InstanceNorm3d(8, eps=1e-05, momentum=0.1, affine=False, track_running_stats=False)\n",
       "   (9): PReLU(num_parameters=1)\n",
       "   (10): Conv3d(8, 8, kernel_size=(3, 3, 3), stride=(1, 1, 1), padding=(1, 1, 1))\n",
       "   (11): Dropout3d(p=0.2)\n",
       "   (12): Conv3d(8, 16, kernel_size=(3, 3, 3), stride=(2, 2, 2), padding=(1, 1, 1))\n",
       "   (13): PReLU(num_parameters=1)\n",
       "   (14): InstanceNorm3d(16, eps=1e-05, momentum=0.1, affine=False, track_running_stats=False)\n",
       "   (15): Dropout3d(p=0.2)\n",
       "   (16): InstanceNorm3d(16, eps=1e-05, momentum=0.1, affine=False, track_running_stats=False)\n",
       "   (17): PReLU(num_parameters=1)\n",
       "   (18): Conv3d(16, 16, kernel_size=(3, 3, 3), stride=(1, 1, 1), padding=(1, 1, 1))\n",
       "   (19): Dropout3d(p=0.2)\n",
       "   (20): InstanceNorm3d(16, eps=1e-05, momentum=0.1, affine=False, track_running_stats=False)\n",
       "   (21): PReLU(num_parameters=1)\n",
       "   (22): Conv3d(16, 16, kernel_size=(3, 3, 3), stride=(1, 1, 1), padding=(1, 1, 1))\n",
       "   (23): Dropout3d(p=0.2)\n",
       "   (24): Conv3d(16, 32, kernel_size=(3, 3, 3), stride=(2, 2, 2), padding=(1, 1, 1))\n",
       "   (25): PReLU(num_parameters=1)\n",
       "   (26): InstanceNorm3d(32, eps=1e-05, momentum=0.1, affine=False, track_running_stats=False)\n",
       "   (27): Dropout3d(p=0.2)\n",
       "   (28): InstanceNorm3d(32, eps=1e-05, momentum=0.1, affine=False, track_running_stats=False)\n",
       "   (29): PReLU(num_parameters=1)\n",
       "   (30): Conv3d(32, 32, kernel_size=(3, 3, 3), stride=(1, 1, 1), padding=(1, 1, 1))\n",
       "   (31): Dropout3d(p=0.2)\n",
       "   (32): InstanceNorm3d(32, eps=1e-05, momentum=0.1, affine=False, track_running_stats=False)\n",
       "   (33): PReLU(num_parameters=1)\n",
       "   (34): Conv3d(32, 32, kernel_size=(3, 3, 3), stride=(1, 1, 1), padding=(1, 1, 1))\n",
       "   (35): Dropout3d(p=0.2)\n",
       "   (36): Conv3d(32, 64, kernel_size=(3, 3, 3), stride=(2, 2, 2), padding=(1, 1, 1))\n",
       "   (37): PReLU(num_parameters=1)\n",
       "   (38): InstanceNorm3d(64, eps=1e-05, momentum=0.1, affine=False, track_running_stats=False)\n",
       "   (39): Dropout3d(p=0.2)\n",
       "   (40): InstanceNorm3d(64, eps=1e-05, momentum=0.1, affine=False, track_running_stats=False)\n",
       "   (41): PReLU(num_parameters=1)\n",
       "   (42): Conv3d(64, 64, kernel_size=(3, 3, 3), stride=(1, 1, 1), padding=(1, 1, 1))\n",
       "   (43): Dropout3d(p=0.2)\n",
       "   (44): InstanceNorm3d(64, eps=1e-05, momentum=0.1, affine=False, track_running_stats=False)\n",
       "   (45): PReLU(num_parameters=1)\n",
       "   (46): Conv3d(64, 64, kernel_size=(3, 3, 3), stride=(1, 1, 1), padding=(1, 1, 1))\n",
       "   (47): Dropout3d(p=0.2)\n",
       " ), Sequential(\n",
       "   (0): Conv3d(64, 128, kernel_size=(3, 3, 3), stride=(2, 2, 2), padding=(1, 1, 1))\n",
       "   (1): PReLU(num_parameters=1)\n",
       "   (2): InstanceNorm3d(128, eps=1e-05, momentum=0.1, affine=False, track_running_stats=False)\n",
       "   (3): Dropout3d(p=0.2)\n",
       "   (4): InstanceNorm3d(128, eps=1e-05, momentum=0.1, affine=False, track_running_stats=False)\n",
       "   (5): PReLU(num_parameters=1)\n",
       "   (6): Conv3d(128, 128, kernel_size=(3, 3, 3), stride=(1, 1, 1), padding=(1, 1, 1))\n",
       "   (7): Dropout3d(p=0.2)\n",
       "   (8): InstanceNorm3d(128, eps=1e-05, momentum=0.1, affine=False, track_running_stats=False)\n",
       "   (9): PReLU(num_parameters=1)\n",
       "   (10): Conv3d(128, 128, kernel_size=(3, 3, 3), stride=(1, 1, 1), padding=(1, 1, 1))\n",
       "   (11): Dropout3d(p=0.2)\n",
       "   (12): Conv3d(128, 64, kernel_size=(3, 3, 3), stride=(1, 1, 1), padding=(1, 1, 1))\n",
       "   (13): PReLU(num_parameters=1)\n",
       "   (14): InstanceNorm3d(64, eps=1e-05, momentum=0.1, affine=False, track_running_stats=False)\n",
       "   (15): Dropout3d(p=0.2)\n",
       "   (16): Conv3d(128, 128, kernel_size=(3, 3, 3), stride=(1, 1, 1), padding=(1, 1, 1))\n",
       "   (17): PReLU(num_parameters=1)\n",
       "   (18): InstanceNorm3d(128, eps=1e-05, momentum=0.1, affine=False, track_running_stats=False)\n",
       "   (19): Dropout3d(p=0.2)\n",
       "   (20): Conv3d(128, 64, kernel_size=(3, 3, 3), stride=(1, 1, 1), padding=(1, 1, 1))\n",
       "   (21): PReLU(num_parameters=1)\n",
       "   (22): InstanceNorm3d(64, eps=1e-05, momentum=0.1, affine=False, track_running_stats=False)\n",
       "   (23): Dropout3d(p=0.2)\n",
       "   (24): Conv3d(64, 32, kernel_size=(3, 3, 3), stride=(1, 1, 1), padding=(1, 1, 1))\n",
       "   (25): PReLU(num_parameters=1)\n",
       "   (26): InstanceNorm3d(32, eps=1e-05, momentum=0.1, affine=False, track_running_stats=False)\n",
       "   (27): Dropout3d(p=0.2)\n",
       " ), Sequential(\n",
       "   (0): Conv3d(64, 64, kernel_size=(3, 3, 3), stride=(1, 1, 1), padding=(1, 1, 1))\n",
       "   (1): PReLU(num_parameters=1)\n",
       "   (2): InstanceNorm3d(64, eps=1e-05, momentum=0.1, affine=False, track_running_stats=False)\n",
       "   (3): Dropout3d(p=0.2)\n",
       "   (4): Conv3d(64, 32, kernel_size=(3, 3, 3), stride=(1, 1, 1), padding=(1, 1, 1))\n",
       "   (5): PReLU(num_parameters=1)\n",
       "   (6): InstanceNorm3d(32, eps=1e-05, momentum=0.1, affine=False, track_running_stats=False)\n",
       "   (7): Dropout3d(p=0.2)\n",
       "   (8): Conv3d(32, 16, kernel_size=(3, 3, 3), stride=(1, 1, 1), padding=(1, 1, 1))\n",
       "   (9): PReLU(num_parameters=1)\n",
       "   (10): InstanceNorm3d(16, eps=1e-05, momentum=0.1, affine=False, track_running_stats=False)\n",
       "   (11): Dropout3d(p=0.2)\n",
       "   (12): Conv3d(32, 32, kernel_size=(3, 3, 3), stride=(1, 1, 1), padding=(1, 1, 1))\n",
       "   (13): PReLU(num_parameters=1)\n",
       "   (14): InstanceNorm3d(32, eps=1e-05, momentum=0.1, affine=False, track_running_stats=False)\n",
       "   (15): Dropout3d(p=0.2)\n",
       "   (16): Conv3d(32, 16, kernel_size=(3, 3, 3), stride=(1, 1, 1), padding=(1, 1, 1))\n",
       "   (17): PReLU(num_parameters=1)\n",
       "   (18): InstanceNorm3d(16, eps=1e-05, momentum=0.1, affine=False, track_running_stats=False)\n",
       "   (19): Dropout3d(p=0.2)\n",
       "   (20): Conv3d(16, 8, kernel_size=(3, 3, 3), stride=(1, 1, 1), padding=(1, 1, 1))\n",
       "   (21): PReLU(num_parameters=1)\n",
       "   (22): InstanceNorm3d(8, eps=1e-05, momentum=0.1, affine=False, track_running_stats=False)\n",
       "   (23): Dropout3d(p=0.2)\n",
       "   (24): Conv3d(32, 32, kernel_size=(3, 3, 3), stride=(1, 1, 1), padding=(1, 1, 1))\n",
       "   (25): PReLU(num_parameters=1)\n",
       "   (26): InstanceNorm3d(32, eps=1e-05, momentum=0.1, affine=False, track_running_stats=False)\n",
       "   (27): Dropout3d(p=0.5)\n",
       "   (28): Conv3d(32, 1, kernel_size=(1, 1, 1), stride=(1, 1, 1))\n",
       "   (29): Conv3d(16, 16, kernel_size=(3, 3, 3), stride=(1, 1, 1), padding=(1, 1, 1))\n",
       "   (30): PReLU(num_parameters=1)\n",
       "   (31): InstanceNorm3d(16, eps=1e-05, momentum=0.1, affine=False, track_running_stats=False)\n",
       "   (32): Dropout3d(p=0.5)\n",
       "   (33): Conv3d(16, 1, kernel_size=(1, 1, 1), stride=(1, 1, 1))\n",
       "   (34): Conv3d(16, 16, kernel_size=(3, 3, 3), stride=(1, 1, 1), padding=(1, 1, 1))\n",
       "   (35): PReLU(num_parameters=1)\n",
       "   (36): InstanceNorm3d(16, eps=1e-05, momentum=0.1, affine=False, track_running_stats=False)\n",
       "   (37): Dropout3d(p=0.5)\n",
       "   (38): Conv3d(16, 1, kernel_size=(1, 1, 1), stride=(1, 1, 1))\n",
       " )]"
      ]
     },
     "execution_count": 33,
     "metadata": {},
     "output_type": "execute_result"
    }
   ],
   "source": [
    "learn.layer_groups"
   ]
  },
  {
   "cell_type": "code",
   "execution_count": 202,
   "metadata": {},
   "outputs": [],
   "source": [
    "learn.freeze_to(-4)"
   ]
  },
  {
   "cell_type": "markdown",
   "metadata": {},
   "source": [
    "### epoch anneal\n"
   ]
  },
  {
   "cell_type": "code",
   "execution_count": 55,
   "metadata": {},
   "outputs": [],
   "source": [
    "n_groups = 3\n",
    "epochs = 1"
   ]
  },
  {
   "cell_type": "code",
   "execution_count": 56,
   "metadata": {},
   "outputs": [],
   "source": [
    "def annealing_epochs(n_groups, epochs):\n",
    "    for i in range(n_groups):\n",
    "        yield int(max(1, annealing_cos(epochs,0,i/(n_groups))))"
   ]
  },
  {
   "cell_type": "code",
   "execution_count": 57,
   "metadata": {},
   "outputs": [],
   "source": [
    "_epochs = annealing_epochs(n_groups, epochs)"
   ]
  },
  {
   "cell_type": "code",
   "execution_count": 61,
   "metadata": {},
   "outputs": [
    {
     "ename": "StopIteration",
     "evalue": "",
     "output_type": "error",
     "traceback": [
      "\u001b[0;31m---------------------------------------------------------------------------\u001b[0m",
      "\u001b[0;31mStopIteration\u001b[0m                             Traceback (most recent call last)",
      "\u001b[0;32m<ipython-input-61-8cebda33a516>\u001b[0m in \u001b[0;36m<module>\u001b[0;34m\u001b[0m\n\u001b[0;32m----> 1\u001b[0;31m \u001b[0mnext\u001b[0m\u001b[0;34m(\u001b[0m\u001b[0m_epochs\u001b[0m\u001b[0;34m)\u001b[0m\u001b[0;34m\u001b[0m\u001b[0;34m\u001b[0m\u001b[0m\n\u001b[0m",
      "\u001b[0;31mStopIteration\u001b[0m: "
     ]
    }
   ],
   "source": [
    "next(_epochs)"
   ]
  },
  {
   "cell_type": "code",
   "execution_count": null,
   "metadata": {},
   "outputs": [],
   "source": []
  },
  {
   "cell_type": "code",
   "execution_count": null,
   "metadata": {},
   "outputs": [],
   "source": []
  },
  {
   "cell_type": "code",
   "execution_count": null,
   "metadata": {},
   "outputs": [],
   "source": []
  },
  {
   "cell_type": "code",
   "execution_count": null,
   "metadata": {},
   "outputs": [],
   "source": []
  },
  {
   "cell_type": "markdown",
   "metadata": {
    "heading_collapsed": true
   },
   "source": [
    "### logs"
   ]
  },
  {
   "cell_type": "code",
   "execution_count": 64,
   "metadata": {
    "hidden": true
   },
   "outputs": [],
   "source": [
    "# "
   ]
  },
  {
   "cell_type": "code",
   "execution_count": 18,
   "metadata": {
    "hidden": true
   },
   "outputs": [
    {
     "data": {
      "text/plain": [
       "[PosixPath('logs/notl_brain_ct_models'),\n",
       " PosixPath('logs/notl_brain_mr_models'),\n",
       " PosixPath('logs/atlas_brain_mr_models')]"
      ]
     },
     "execution_count": 18,
     "metadata": {},
     "output_type": "execute_result"
    }
   ],
   "source": [
    "path = Path(\"logs/\"); path.ls()"
   ]
  },
  {
   "cell_type": "code",
   "execution_count": 19,
   "metadata": {
    "hidden": true
   },
   "outputs": [
    {
     "data": {
      "text/plain": [
       "[PosixPath('logs/notl_brain_mr_models/NOTL_Brain_MR_Baseline_4.csv'),\n",
       " PosixPath('logs/notl_brain_mr_models/NOTL_Brain_MR_Baseline_7.csv'),\n",
       " PosixPath('logs/notl_brain_mr_models/NOTL_Brain_MR_Baseline_2.csv'),\n",
       " PosixPath('logs/notl_brain_mr_models/NOTL_Brain_MR_Baseline_9.csv'),\n",
       " PosixPath('logs/notl_brain_mr_models/NOTL_Brain_MR_Baseline_6.csv'),\n",
       " PosixPath('logs/notl_brain_mr_models/NOTL_Brain_MR_Baseline_5.csv'),\n",
       " PosixPath('logs/notl_brain_mr_models/NOTL_Brain_MR_Baseline_10.csv'),\n",
       " PosixPath('logs/notl_brain_mr_models/NOTL_Brain_MR_Baseline_8.csv'),\n",
       " PosixPath('logs/notl_brain_mr_models/NOTL_Brain_MR_Baseline_3.csv'),\n",
       " PosixPath('logs/notl_brain_mr_models/NOTL_Brain_MR_Baseline_1.csv')]"
      ]
     },
     "execution_count": 19,
     "metadata": {},
     "output_type": "execute_result"
    }
   ],
   "source": [
    "path = Path(\"logs/notl_brain_mr_models\"); path.ls()"
   ]
  },
  {
   "cell_type": "code",
   "execution_count": 21,
   "metadata": {
    "hidden": true
   },
   "outputs": [],
   "source": [
    "log_df = pd.read_csv(path/'NOTL_Brain_MR_Baseline_1.csv')"
   ]
  },
  {
   "cell_type": "code",
   "execution_count": 22,
   "metadata": {
    "hidden": true
   },
   "outputs": [
    {
     "data": {
      "image/png": "[encoded data removed]",
      "text/plain": [
       "<Figure size 720x360 with 1 Axes>"
      ]
     },
     "metadata": {
      "needs_background": "light"
     },
     "output_type": "display_data"
    }
   ],
   "source": [
    "fig, ax = plt.subplots(1,1, figsize=(10,5))\n",
    "ax.set_title(f'Loss: {loss_func}')\n",
    "ax.set_xlabel(\"Epoch\")\n",
    "ax.plot(log_df['train_loss'])\n",
    "ax.plot(log_df['valid_loss']);"
   ]
  },
  {
   "cell_type": "code",
   "execution_count": 23,
   "metadata": {
    "hidden": true
   },
   "outputs": [
    {
     "data": {
      "image/png": "[encoded data removed]",
      "text/plain": [
       "<Figure size 720x360 with 1 Axes>"
      ]
     },
     "metadata": {
      "needs_background": "light"
     },
     "output_type": "display_data"
    }
   ],
   "source": [
    "fig, ax = plt.subplots(1,1, figsize=(10,5))\n",
    "ax.set_title(f\"Dice Score: {np.round(log_df['dice_score'].max(), 2)}\")\n",
    "ax.set_xlabel(\"Epoch\")\n",
    "plt.plot(log_df['dice_score']);"
   ]
  },
  {
   "cell_type": "markdown",
   "metadata": {},
   "source": [
    "### Visualize"
   ]
  },
  {
   "cell_type": "code",
   "execution_count": 83,
   "metadata": {},
   "outputs": [],
   "source": [
    "def to_int8(a): return a.astype(np.uint8)"
   ]
  },
  {
   "cell_type": "code",
   "execution_count": 65,
   "metadata": {},
   "outputs": [],
   "source": [
    "data1 = DataBunch.create(train_ds=train_ds, valid_ds=valid_ds, test_ds=test1_ds, bs=3)\n",
    "data2 = DataBunch.create(train_ds=train_ds, valid_ds=valid_ds, test_ds=test2_ds, bs=3)"
   ]
  },
  {
   "cell_type": "code",
   "execution_count": 125,
   "metadata": {},
   "outputs": [],
   "source": [
    "train_fnames = data1.train_ds.img_fnames\n",
    "valid_fnames = data1.valid_ds.img_fnames\n",
    "test1_fnames = data1.test_ds.img_fnames\n",
    "test2_fnames = data1.test_ds.img_fnames"
   ]
  },
  {
   "cell_type": "code",
   "execution_count": 128,
   "metadata": {},
   "outputs": [
    {
     "data": {
      "text/plain": [
       "(112, 15, 15, 15)"
      ]
     },
     "execution_count": 128,
     "metadata": {},
     "output_type": "execute_result"
    }
   ],
   "source": [
    "len(train_fnames), len(valid_fnames), len(test1_fnames), len(test2_fnames)"
   ]
  },
  {
   "cell_type": "code",
   "execution_count": 118,
   "metadata": {},
   "outputs": [],
   "source": [
    "train_dl = data1.train_dl.new(shuffle=False)\n",
    "valid_dl = data1.valid_dl.new(shuffle=False)\n",
    "test1_dl = data1.test_dl.new(shuffle=False)\n",
    "test2_dl = data2.test_dl.new(shuffle=False)"
   ]
  },
  {
   "cell_type": "code",
   "execution_count": 70,
   "metadata": {},
   "outputs": [],
   "source": [
    "learn.to_fp16();"
   ]
  },
  {
   "cell_type": "code",
   "execution_count": 129,
   "metadata": {
    "scrolled": true
   },
   "outputs": [
    {
     "data": {
      "application/vnd.jupyter.widget-view+json": {
       "model_id": "cbe9cc3f11f34e2f95b090d9157d961a",
       "version_major": 2,
       "version_minor": 0
      },
      "text/plain": [
       "HBox(children=(IntProgress(value=0, max=37), HTML(value='')))"
      ]
     },
     "metadata": {},
     "output_type": "display_data"
    }
   ],
   "source": [
    "# training\n",
    "images, preds, masks = get_img_pred_masks(learn, train_dl)"
   ]
  },
  {
   "cell_type": "code",
   "execution_count": 131,
   "metadata": {},
   "outputs": [
    {
     "data": {
      "application/vnd.jupyter.widget-view+json": {
       "model_id": "5a7c42e731ed4bc29e285b881a784891",
       "version_major": 2,
       "version_minor": 0
      },
      "text/plain": [
       "HBox(children=(IntProgress(value=0, max=5), HTML(value='')))"
      ]
     },
     "metadata": {},
     "output_type": "display_data"
    }
   ],
   "source": [
    "# validation\n",
    "images, preds, masks = get_img_pred_masks(learn, valid_dl)"
   ]
  },
  {
   "cell_type": "code",
   "execution_count": 132,
   "metadata": {},
   "outputs": [
    {
     "data": {
      "application/vnd.jupyter.widget-view+json": {
       "model_id": "60eefd93d5f6491a824318bd2da741ec",
       "version_major": 2,
       "version_minor": 0
      },
      "text/plain": [
       "HBox(children=(IntProgress(value=0, max=5), HTML(value='')))"
      ]
     },
     "metadata": {},
     "output_type": "display_data"
    }
   ],
   "source": [
    "# test1\n",
    "images, preds, masks = get_img_pred_masks(learn, test1_dl)"
   ]
  },
  {
   "cell_type": "code",
   "execution_count": 133,
   "metadata": {},
   "outputs": [
    {
     "data": {
      "application/vnd.jupyter.widget-view+json": {
       "model_id": "15013d7ac3a9406d8de92560708d5a94",
       "version_major": 2,
       "version_minor": 0
      },
      "text/plain": [
       "HBox(children=(IntProgress(value=0, max=7), HTML(value='')))"
      ]
     },
     "metadata": {},
     "output_type": "display_data"
    }
   ],
   "source": [
    "# test2\n",
    "images, preds, masks = get_img_pred_masks(learn, test2_dl)"
   ]
  },
  {
   "cell_type": "code",
   "execution_count": null,
   "metadata": {},
   "outputs": [],
   "source": []
  },
  {
   "cell_type": "markdown",
   "metadata": {},
   "source": [
    "### Skull Stripping with Best Model\n",
    "\n",
    "Use original brain masks for train and preds for valid and tests"
   ]
  },
  {
   "cell_type": "code",
   "execution_count": null,
   "metadata": {},
   "outputs": [],
   "source": []
  },
  {
   "cell_type": "code",
   "execution_count": null,
   "metadata": {},
   "outputs": [],
   "source": []
  },
  {
   "cell_type": "code",
   "execution_count": null,
   "metadata": {},
   "outputs": [],
   "source": []
  },
  {
   "cell_type": "code",
   "execution_count": null,
   "metadata": {},
   "outputs": [],
   "source": []
  },
  {
   "cell_type": "code",
   "execution_count": null,
   "metadata": {},
   "outputs": [],
   "source": []
  }
 ],
 "metadata": {
  "kernelspec": {
   "display_name": "Python 3",
   "language": "python",
   "name": "python3"
  },
  "language_info": {
   "codemirror_mode": {
    "name": "ipython",
    "version": 3
   },
   "file_extension": ".py",
   "mimetype": "text/x-python",
   "name": "python",
   "nbconvert_exporter": "python",
   "pygments_lexer": "ipython3",
   "version": "3.7.2"
  }
 },
 "nbformat": 4,
 "nbformat_minor": 2
}
