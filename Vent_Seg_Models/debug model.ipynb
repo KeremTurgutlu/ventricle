{
 "cells": [
  {
   "cell_type": "code",
   "execution_count": 3,
   "metadata": {},
   "outputs": [],
   "source": [
    "%load_ext autoreload\n",
    "%autoreload 2\n",
    "%matplotlib inline"
   ]
  },
  {
   "cell_type": "code",
   "execution_count": 4,
   "metadata": {},
   "outputs": [],
   "source": [
    "from fastai.vision import *\n",
    "from fastai.callbacks import *\n",
    "from fastai.script import *\n",
    "\n",
    "from data_utils import *\n",
    "from models import *\n",
    "from learn_utils import *"
   ]
  },
  {
   "cell_type": "code",
   "execution_count": 5,
   "metadata": {},
   "outputs": [],
   "source": [
    "torch.cuda.set_device(7)"
   ]
  },
  {
   "cell_type": "code",
   "execution_count": 51,
   "metadata": {},
   "outputs": [],
   "source": [
    "bn_types = (nn.BatchNorm1d, nn.BatchNorm2d, nn.BatchNorm3d)\n",
    "gnorm_types = (nn.GroupNorm,)\n",
    "insnorm_types = (nn.InstanceNorm1d, nn.InstanceNorm2d, nn.InstanceNorm3d)\n",
    "norm_types = bn_types + gnorm_types + insnorm_types\n",
    "\n",
    "def cond_init(m:nn.Module, init_func:LayerFunc):\n",
    "    \"Initialize the non-batchnorm layers of `m` with `init_func`.\"\n",
    "    if (not isinstance(m, norm_types)) and (not isinstance(m, nn.PReLU)) and requires_grad(m): \n",
    "        init_default(m, init_func)"
   ]
  },
  {
   "cell_type": "code",
   "execution_count": 5,
   "metadata": {},
   "outputs": [],
   "source": [
    "data_name = 'atlas_brain_mr'\n",
    "bs=1\n",
    "model_name='baseline11'"
   ]
  },
  {
   "cell_type": "code",
   "execution_count": 6,
   "metadata": {
    "scrolled": true
   },
   "outputs": [],
   "source": [
    "# data\n",
    "f = data_dict[data_name]\n",
    "train_paths, valid_paths, test1_paths, test2_paths = f()\n",
    "\n",
    "train_ds = MRI_3D_Dataset(*train_paths)\n",
    "valid_ds = MRI_3D_Dataset(*valid_paths)\n",
    "test1_ds = MRI_3D_Dataset(*test1_paths) if test1_paths else None\n",
    "test2_ds = MRI_3D_Dataset(*test2_paths) if test2_paths else None\n",
    "\n",
    "data = DataBunch.create(train_ds=train_ds, valid_ds=valid_ds, bs=bs)\n",
    "test1_dl = DeviceDataLoader(DataLoader(test1_ds), device=data.device) if test1_ds else None\n",
    "test2_dl = DeviceDataLoader(DataLoader(test2_ds), device=data.device) if test2_ds else None\n",
    "\n",
    "# model\n",
    "f = experiment_model_dict[model_name]; m = f()\n",
    "apply_leaf(m, partial(cond_init, init_func= nn.init.kaiming_normal_))\n"
   ]
  },
  {
   "cell_type": "code",
   "execution_count": 7,
   "metadata": {},
   "outputs": [],
   "source": [
    "MODEL_NAME='dummy'\n",
    "model_dir='atlas_brain_mr_models'\n",
    "early_stop=False\n",
    "loss_func='bce'\n",
    "epochs=20\n",
    "lr=0.01\n",
    "one_cycle=False"
   ]
  },
  {
   "cell_type": "code",
   "execution_count": 39,
   "metadata": {},
   "outputs": [],
   "source": [
    "# learn\n",
    "early_stop_cb = partial(EarlyStoppingCallback, monitor='dice_score', mode='max', patience=5)\n",
    "save_model_cb = partial(SaveModelCallback, monitor='dice_score', mode='max', every='improvement', \n",
    "                        name=f'best_of_{MODEL_NAME}')\n",
    "reduce_lr_cb = partial(ReduceLROnPlateauCallback, monitor='dice_score', mode='max', patience=0, factor=0.8)\n",
    "csv_logger_cb = partial(CSVLogger, filename=f'logs/{model_dir}/{MODEL_NAME}')\n",
    "\n",
    "if early_stop: \n",
    "    callback_fns = [early_stop_cb, save_model_cb, reduce_lr_cb, csv_logger_cb, ActivationStats]\n",
    "else: \n",
    "    callback_fns = [save_model_cb, csv_logger_cb, ActivationStats]\n",
    "callbacks = [TerminateOnNaNCallback()]    \n",
    "\n",
    "learn = Learner(data=data, model=m, opt_func=partial(optim.Adam, betas=(0.9,0.99), eps=1e-4),\n",
    "                callbacks=callbacks, callback_fns=callback_fns, model_dir=model_dir)\n",
    "learn.loss_func = {'dice':dice_loss, 'bce':BCEWithLogitsFlat(), 'mixed':MixedLoss(10., 2.)}[loss_func] \n",
    "learn.metrics = [dice_score]\n",
    "learn.to_fp16()\n",
    "\n",
    "# schedule\n",
    "b_its = len(data.train_dl)\n",
    "ph1 = (TrainingPhase(epochs*0.5*b_its)\n",
    "        .schedule_hp('lr', (lr/20,lr), anneal=annealing_cos)\n",
    "        .schedule_hp('eps', (1e-4,1e-4), anneal=annealing_no) # for NAN\n",
    "        )\n",
    "ph2 = (TrainingPhase(epochs*0.5*b_its)\n",
    "        .schedule_hp('lr', (lr,lr/1e5), anneal=annealing_cos)\n",
    "        .schedule_hp('eps', (1e-4,1e-4), anneal=annealing_no)\n",
    "        )\n",
    "gs = GeneralScheduler(learn, (ph1,ph2))"
   ]
  },
  {
   "cell_type": "code",
   "execution_count": 40,
   "metadata": {},
   "outputs": [],
   "source": [
    "xs = []\n",
    "for i in np.linspace(0,1,100): \n",
    "    xs.append(annealing_no(1e-4, 1e-8, i))"
   ]
  },
  {
   "cell_type": "code",
   "execution_count": 41,
   "metadata": {},
   "outputs": [
    {
     "data": {
      "text/plain": [
       "[<matplotlib.lines.Line2D at 0x7f5c20651710>]"
      ]
     },
     "execution_count": 41,
     "metadata": {},
     "output_type": "execute_result"
    },
    {
     "data": {
      "image/png": "[encoded data removed]",
      "text/plain": [
       "<Figure size 432x288 with 1 Axes>"
      ]
     },
     "metadata": {
      "needs_background": "light"
     },
     "output_type": "display_data"
    }
   ],
   "source": [
    "plt.plot(xs)"
   ]
  },
  {
   "cell_type": "code",
   "execution_count": 42,
   "metadata": {
    "collapsed": true
   },
   "outputs": [
    {
     "data": {
      "text/html": [
       "\n",
       "    <div>\n",
       "        <style>\n",
       "            /* Turns off some styling */\n",
       "            progress {\n",
       "                /* gets rid of default border in Firefox and Opera. */\n",
       "                border: none;\n",
       "                /* Needs to be in here for Safari polyfill so background images work as expected. */\n",
       "                background-size: auto;\n",
       "            }\n",
       "            .progress-bar-interrupted, .progress-bar-interrupted::-webkit-progress-bar {\n",
       "                background: #F44336;\n",
       "            }\n",
       "        </style>\n",
       "      <progress value='0' class='' max='20', style='width:300px; height:20px; vertical-align: middle;'></progress>\n",
       "      0.00% [0/20 00:00<00:00]\n",
       "    </div>\n",
       "    \n",
       "<table border=\"1\" class=\"dataframe\">\n",
       "  <thead>\n",
       "    <tr style=\"text-align: left;\">\n",
       "      <th>epoch</th>\n",
       "      <th>train_loss</th>\n",
       "      <th>valid_loss</th>\n",
       "      <th>dice_score</th>\n",
       "      <th>time</th>\n",
       "    </tr>\n",
       "  </thead>\n",
       "  <tbody>\n",
       "  </tbody>\n",
       "</table><p>\n",
       "\n",
       "    <div>\n",
       "        <style>\n",
       "            /* Turns off some styling */\n",
       "            progress {\n",
       "                /* gets rid of default border in Firefox and Opera. */\n",
       "                border: none;\n",
       "                /* Needs to be in here for Safari polyfill so background images work as expected. */\n",
       "                background-size: auto;\n",
       "            }\n",
       "            .progress-bar-interrupted, .progress-bar-interrupted::-webkit-progress-bar {\n",
       "                background: #F44336;\n",
       "            }\n",
       "        </style>\n",
       "      <progress value='0' class='progress-bar-interrupted' max='2143', style='width:300px; height:20px; vertical-align: middle;'></progress>\n",
       "      Interrupted\n",
       "    </div>\n",
       "    "
      ],
      "text/plain": [
       "<IPython.core.display.HTML object>"
      ]
     },
     "metadata": {},
     "output_type": "display_data"
    },
    {
     "ename": "KeyboardInterrupt",
     "evalue": "",
     "output_type": "error",
     "traceback": [
      "\u001b[0;31m---------------------------------------------------------------------------\u001b[0m",
      "\u001b[0;31mKeyboardInterrupt\u001b[0m                         Traceback (most recent call last)",
      "\u001b[0;32m<ipython-input-42-35f075b2b219>\u001b[0m in \u001b[0;36m<module>\u001b[0;34m\u001b[0m\n\u001b[1;32m      2\u001b[0m     \u001b[0mlearn\u001b[0m\u001b[0;34m.\u001b[0m\u001b[0mfit_one_cycle\u001b[0m\u001b[0;34m(\u001b[0m\u001b[0mepochs\u001b[0m\u001b[0;34m,\u001b[0m \u001b[0mmax_lr\u001b[0m\u001b[0;34m=\u001b[0m\u001b[0mlr\u001b[0m\u001b[0;34m)\u001b[0m\u001b[0;34m\u001b[0m\u001b[0;34m\u001b[0m\u001b[0m\n\u001b[1;32m      3\u001b[0m \u001b[0;32melse\u001b[0m\u001b[0;34m:\u001b[0m\u001b[0;34m\u001b[0m\u001b[0;34m\u001b[0m\u001b[0m\n\u001b[0;32m----> 4\u001b[0;31m     \u001b[0mlearn\u001b[0m\u001b[0;34m.\u001b[0m\u001b[0mfit\u001b[0m\u001b[0;34m(\u001b[0m\u001b[0mepochs\u001b[0m\u001b[0;34m,\u001b[0m \u001b[0mlr\u001b[0m\u001b[0;34m,\u001b[0m \u001b[0mcallbacks\u001b[0m\u001b[0;34m=\u001b[0m\u001b[0mgs\u001b[0m\u001b[0;34m)\u001b[0m\u001b[0;34m\u001b[0m\u001b[0;34m\u001b[0m\u001b[0m\n\u001b[0m",
      "\u001b[0;32m~/fastai/fastai/basic_train.py\u001b[0m in \u001b[0;36mfit\u001b[0;34m(self, epochs, lr, wd, callbacks)\u001b[0m\n\u001b[1;32m    194\u001b[0m         \u001b[0mcallbacks\u001b[0m \u001b[0;34m=\u001b[0m \u001b[0;34m[\u001b[0m\u001b[0mcb\u001b[0m\u001b[0;34m(\u001b[0m\u001b[0mself\u001b[0m\u001b[0;34m)\u001b[0m \u001b[0;32mfor\u001b[0m \u001b[0mcb\u001b[0m \u001b[0;32min\u001b[0m \u001b[0mself\u001b[0m\u001b[0;34m.\u001b[0m\u001b[0mcallback_fns\u001b[0m\u001b[0;34m]\u001b[0m \u001b[0;34m+\u001b[0m \u001b[0mlistify\u001b[0m\u001b[0;34m(\u001b[0m\u001b[0mcallbacks\u001b[0m\u001b[0;34m)\u001b[0m\u001b[0;34m\u001b[0m\u001b[0;34m\u001b[0m\u001b[0m\n\u001b[1;32m    195\u001b[0m         \u001b[0;32mif\u001b[0m \u001b[0mdefaults\u001b[0m\u001b[0;34m.\u001b[0m\u001b[0mextra_callbacks\u001b[0m \u001b[0;32mis\u001b[0m \u001b[0;32mnot\u001b[0m \u001b[0;32mNone\u001b[0m\u001b[0;34m:\u001b[0m \u001b[0mcallbacks\u001b[0m \u001b[0;34m+=\u001b[0m \u001b[0mdefaults\u001b[0m\u001b[0;34m.\u001b[0m\u001b[0mextra_callbacks\u001b[0m\u001b[0;34m\u001b[0m\u001b[0;34m\u001b[0m\u001b[0m\n\u001b[0;32m--> 196\u001b[0;31m         \u001b[0mfit\u001b[0m\u001b[0;34m(\u001b[0m\u001b[0mepochs\u001b[0m\u001b[0;34m,\u001b[0m \u001b[0mself\u001b[0m\u001b[0;34m,\u001b[0m \u001b[0mmetrics\u001b[0m\u001b[0;34m=\u001b[0m\u001b[0mself\u001b[0m\u001b[0;34m.\u001b[0m\u001b[0mmetrics\u001b[0m\u001b[0;34m,\u001b[0m \u001b[0mcallbacks\u001b[0m\u001b[0;34m=\u001b[0m\u001b[0mself\u001b[0m\u001b[0;34m.\u001b[0m\u001b[0mcallbacks\u001b[0m\u001b[0;34m+\u001b[0m\u001b[0mcallbacks\u001b[0m\u001b[0;34m)\u001b[0m\u001b[0;34m\u001b[0m\u001b[0;34m\u001b[0m\u001b[0m\n\u001b[0m\u001b[1;32m    197\u001b[0m \u001b[0;34m\u001b[0m\u001b[0m\n\u001b[1;32m    198\u001b[0m     \u001b[0;32mdef\u001b[0m \u001b[0mcreate_opt\u001b[0m\u001b[0;34m(\u001b[0m\u001b[0mself\u001b[0m\u001b[0;34m,\u001b[0m \u001b[0mlr\u001b[0m\u001b[0;34m:\u001b[0m\u001b[0mFloats\u001b[0m\u001b[0;34m,\u001b[0m \u001b[0mwd\u001b[0m\u001b[0;34m:\u001b[0m\u001b[0mFloats\u001b[0m\u001b[0;34m=\u001b[0m\u001b[0;36m0.\u001b[0m\u001b[0;34m)\u001b[0m\u001b[0;34m->\u001b[0m\u001b[0;32mNone\u001b[0m\u001b[0;34m:\u001b[0m\u001b[0;34m\u001b[0m\u001b[0;34m\u001b[0m\u001b[0m\n",
      "\u001b[0;32m~/fastai/fastai/basic_train.py\u001b[0m in \u001b[0;36mfit\u001b[0;34m(epochs, learn, callbacks, metrics)\u001b[0m\n\u001b[1;32m     98\u001b[0m             \u001b[0;32mfor\u001b[0m \u001b[0mxb\u001b[0m\u001b[0;34m,\u001b[0m\u001b[0myb\u001b[0m \u001b[0;32min\u001b[0m \u001b[0mprogress_bar\u001b[0m\u001b[0;34m(\u001b[0m\u001b[0mlearn\u001b[0m\u001b[0;34m.\u001b[0m\u001b[0mdata\u001b[0m\u001b[0;34m.\u001b[0m\u001b[0mtrain_dl\u001b[0m\u001b[0;34m,\u001b[0m \u001b[0mparent\u001b[0m\u001b[0;34m=\u001b[0m\u001b[0mpbar\u001b[0m\u001b[0;34m)\u001b[0m\u001b[0;34m:\u001b[0m\u001b[0;34m\u001b[0m\u001b[0;34m\u001b[0m\u001b[0m\n\u001b[1;32m     99\u001b[0m                 \u001b[0mxb\u001b[0m\u001b[0;34m,\u001b[0m \u001b[0myb\u001b[0m \u001b[0;34m=\u001b[0m \u001b[0mcb_handler\u001b[0m\u001b[0;34m.\u001b[0m\u001b[0mon_batch_begin\u001b[0m\u001b[0;34m(\u001b[0m\u001b[0mxb\u001b[0m\u001b[0;34m,\u001b[0m \u001b[0myb\u001b[0m\u001b[0;34m)\u001b[0m\u001b[0;34m\u001b[0m\u001b[0;34m\u001b[0m\u001b[0m\n\u001b[0;32m--> 100\u001b[0;31m                 \u001b[0mloss\u001b[0m \u001b[0;34m=\u001b[0m \u001b[0mloss_batch\u001b[0m\u001b[0;34m(\u001b[0m\u001b[0mlearn\u001b[0m\u001b[0;34m.\u001b[0m\u001b[0mmodel\u001b[0m\u001b[0;34m,\u001b[0m \u001b[0mxb\u001b[0m\u001b[0;34m,\u001b[0m \u001b[0myb\u001b[0m\u001b[0;34m,\u001b[0m \u001b[0mlearn\u001b[0m\u001b[0;34m.\u001b[0m\u001b[0mloss_func\u001b[0m\u001b[0;34m,\u001b[0m \u001b[0mlearn\u001b[0m\u001b[0;34m.\u001b[0m\u001b[0mopt\u001b[0m\u001b[0;34m,\u001b[0m \u001b[0mcb_handler\u001b[0m\u001b[0;34m)\u001b[0m\u001b[0;34m\u001b[0m\u001b[0;34m\u001b[0m\u001b[0m\n\u001b[0m\u001b[1;32m    101\u001b[0m                 \u001b[0;32mif\u001b[0m \u001b[0mcb_handler\u001b[0m\u001b[0;34m.\u001b[0m\u001b[0mon_batch_end\u001b[0m\u001b[0;34m(\u001b[0m\u001b[0mloss\u001b[0m\u001b[0;34m)\u001b[0m\u001b[0;34m:\u001b[0m \u001b[0;32mbreak\u001b[0m\u001b[0;34m\u001b[0m\u001b[0;34m\u001b[0m\u001b[0m\n\u001b[1;32m    102\u001b[0m \u001b[0;34m\u001b[0m\u001b[0m\n",
      "\u001b[0;32m~/fastai/fastai/basic_train.py\u001b[0m in \u001b[0;36mloss_batch\u001b[0;34m(model, xb, yb, loss_func, opt, cb_handler)\u001b[0m\n\u001b[1;32m     31\u001b[0m     \u001b[0;32mif\u001b[0m \u001b[0mopt\u001b[0m \u001b[0;32mis\u001b[0m \u001b[0;32mnot\u001b[0m \u001b[0;32mNone\u001b[0m\u001b[0;34m:\u001b[0m\u001b[0;34m\u001b[0m\u001b[0;34m\u001b[0m\u001b[0m\n\u001b[1;32m     32\u001b[0m         \u001b[0mloss\u001b[0m\u001b[0;34m,\u001b[0m\u001b[0mskip_bwd\u001b[0m \u001b[0;34m=\u001b[0m \u001b[0mcb_handler\u001b[0m\u001b[0;34m.\u001b[0m\u001b[0mon_backward_begin\u001b[0m\u001b[0;34m(\u001b[0m\u001b[0mloss\u001b[0m\u001b[0;34m)\u001b[0m\u001b[0;34m\u001b[0m\u001b[0;34m\u001b[0m\u001b[0m\n\u001b[0;32m---> 33\u001b[0;31m         \u001b[0;32mif\u001b[0m \u001b[0;32mnot\u001b[0m \u001b[0mskip_bwd\u001b[0m\u001b[0;34m:\u001b[0m                     \u001b[0mloss\u001b[0m\u001b[0;34m.\u001b[0m\u001b[0mbackward\u001b[0m\u001b[0;34m(\u001b[0m\u001b[0;34m)\u001b[0m\u001b[0;34m\u001b[0m\u001b[0;34m\u001b[0m\u001b[0m\n\u001b[0m\u001b[1;32m     34\u001b[0m         \u001b[0;32mif\u001b[0m \u001b[0;32mnot\u001b[0m \u001b[0mcb_handler\u001b[0m\u001b[0;34m.\u001b[0m\u001b[0mon_backward_end\u001b[0m\u001b[0;34m(\u001b[0m\u001b[0;34m)\u001b[0m\u001b[0;34m:\u001b[0m \u001b[0mopt\u001b[0m\u001b[0;34m.\u001b[0m\u001b[0mstep\u001b[0m\u001b[0;34m(\u001b[0m\u001b[0;34m)\u001b[0m\u001b[0;34m\u001b[0m\u001b[0;34m\u001b[0m\u001b[0m\n\u001b[1;32m     35\u001b[0m         \u001b[0;32mif\u001b[0m \u001b[0;32mnot\u001b[0m \u001b[0mcb_handler\u001b[0m\u001b[0;34m.\u001b[0m\u001b[0mon_step_end\u001b[0m\u001b[0;34m(\u001b[0m\u001b[0;34m)\u001b[0m\u001b[0;34m:\u001b[0m     \u001b[0mopt\u001b[0m\u001b[0;34m.\u001b[0m\u001b[0mzero_grad\u001b[0m\u001b[0;34m(\u001b[0m\u001b[0;34m)\u001b[0m\u001b[0;34m\u001b[0m\u001b[0;34m\u001b[0m\u001b[0m\n",
      "\u001b[0;32m~/.conda/envs/my_fastai/lib/python3.7/site-packages/torch/tensor.py\u001b[0m in \u001b[0;36mbackward\u001b[0;34m(self, gradient, retain_graph, create_graph)\u001b[0m\n\u001b[1;32m    100\u001b[0m                 \u001b[0mproducts\u001b[0m\u001b[0;34m.\u001b[0m \u001b[0mDefaults\u001b[0m \u001b[0mto\u001b[0m\u001b[0;31m \u001b[0m\u001b[0;31m`\u001b[0m\u001b[0;31m`\u001b[0m\u001b[0;32mFalse\u001b[0m\u001b[0;31m`\u001b[0m\u001b[0;31m`\u001b[0m\u001b[0;34m.\u001b[0m\u001b[0;34m\u001b[0m\u001b[0;34m\u001b[0m\u001b[0m\n\u001b[1;32m    101\u001b[0m         \"\"\"\n\u001b[0;32m--> 102\u001b[0;31m         \u001b[0mtorch\u001b[0m\u001b[0;34m.\u001b[0m\u001b[0mautograd\u001b[0m\u001b[0;34m.\u001b[0m\u001b[0mbackward\u001b[0m\u001b[0;34m(\u001b[0m\u001b[0mself\u001b[0m\u001b[0;34m,\u001b[0m \u001b[0mgradient\u001b[0m\u001b[0;34m,\u001b[0m \u001b[0mretain_graph\u001b[0m\u001b[0;34m,\u001b[0m \u001b[0mcreate_graph\u001b[0m\u001b[0;34m)\u001b[0m\u001b[0;34m\u001b[0m\u001b[0;34m\u001b[0m\u001b[0m\n\u001b[0m\u001b[1;32m    103\u001b[0m \u001b[0;34m\u001b[0m\u001b[0m\n\u001b[1;32m    104\u001b[0m     \u001b[0;32mdef\u001b[0m \u001b[0mregister_hook\u001b[0m\u001b[0;34m(\u001b[0m\u001b[0mself\u001b[0m\u001b[0;34m,\u001b[0m \u001b[0mhook\u001b[0m\u001b[0;34m)\u001b[0m\u001b[0;34m:\u001b[0m\u001b[0;34m\u001b[0m\u001b[0;34m\u001b[0m\u001b[0m\n",
      "\u001b[0;32m~/.conda/envs/my_fastai/lib/python3.7/site-packages/torch/autograd/__init__.py\u001b[0m in \u001b[0;36mbackward\u001b[0;34m(tensors, grad_tensors, retain_graph, create_graph, grad_variables)\u001b[0m\n\u001b[1;32m     88\u001b[0m     Variable._execution_engine.run_backward(\n\u001b[1;32m     89\u001b[0m         \u001b[0mtensors\u001b[0m\u001b[0;34m,\u001b[0m \u001b[0mgrad_tensors\u001b[0m\u001b[0;34m,\u001b[0m \u001b[0mretain_graph\u001b[0m\u001b[0;34m,\u001b[0m \u001b[0mcreate_graph\u001b[0m\u001b[0;34m,\u001b[0m\u001b[0;34m\u001b[0m\u001b[0;34m\u001b[0m\u001b[0m\n\u001b[0;32m---> 90\u001b[0;31m         allow_unreachable=True)  # allow_unreachable flag\n\u001b[0m\u001b[1;32m     91\u001b[0m \u001b[0;34m\u001b[0m\u001b[0m\n\u001b[1;32m     92\u001b[0m \u001b[0;34m\u001b[0m\u001b[0m\n",
      "\u001b[0;31mKeyboardInterrupt\u001b[0m: "
     ]
    }
   ],
   "source": [
    "if one_cycle:\n",
    "    learn.fit_one_cycle(epochs, max_lr=lr)\n",
    "else:\n",
    "    learn.fit(epochs, lr, callbacks=gs)"
   ]
  },
  {
   "cell_type": "code",
   "execution_count": 29,
   "metadata": {},
   "outputs": [],
   "source": [
    "for parameters in learn.mixed_precision.master_params:\n",
    "    break"
   ]
  },
  {
   "cell_type": "code",
   "execution_count": 31,
   "metadata": {},
   "outputs": [],
   "source": [
    "norm_type=2\n",
    "total_norm = 0\n",
    "for p in parameters:\n",
    "    param_norm = p.grad.data.norm(norm_type)\n",
    "    total_norm += param_norm.item() ** norm_type\n",
    "total_norm = total_norm ** (1. / norm_type)\n",
    "\n",
    "total_norm"
   ]
  },
  {
   "cell_type": "code",
   "execution_count": 36,
   "metadata": {},
   "outputs": [],
   "source": [
    "max_norm=.25"
   ]
  },
  {
   "cell_type": "code",
   "execution_count": 37,
   "metadata": {},
   "outputs": [],
   "source": [
    "clip_coef = max_norm / (total_norm + 1e-6)\n",
    "if clip_coef < 1:\n",
    "    for p in parameters:\n",
    "        p.grad.data.mul_(clip_coef)"
   ]
  },
  {
   "cell_type": "code",
   "execution_count": 38,
   "metadata": {},
   "outputs": [
    {
     "data": {
      "text/plain": [
       "0.24999928934041302"
      ]
     },
     "execution_count": 38,
     "metadata": {},
     "output_type": "execute_result"
    }
   ],
   "source": [
    "norm_type=2\n",
    "total_norm = 0\n",
    "for p in parameters:\n",
    "    param_norm = p.grad.data.norm(norm_type)\n",
    "    total_norm += param_norm.item() ** norm_type\n",
    "total_norm = total_norm ** (1. / norm_type)\n",
    "\n",
    "total_norm"
   ]
  },
  {
   "cell_type": "code",
   "execution_count": 12,
   "metadata": {},
   "outputs": [
    {
     "data": {
      "text/plain": [
       "OptimWrapper over Adam (\n",
       "Parameter Group 0\n",
       "    amsgrad: False\n",
       "    betas: (0.9, 0.99)\n",
       "    eps: 0.0001\n",
       "    lr: 0.0005064309880274034\n",
       "    weight_decay: 0\n",
       "\n",
       "Parameter Group 1\n",
       "    amsgrad: False\n",
       "    betas: (0.9, 0.99)\n",
       "    eps: 0.0001\n",
       "    lr: 0.0005064309880274034\n",
       "    weight_decay: 0\n",
       ").\n",
       "True weight decay: True"
      ]
     },
     "execution_count": 12,
     "metadata": {},
     "output_type": "execute_result"
    }
   ],
   "source": [
    "learn.opt"
   ]
  },
  {
   "cell_type": "code",
   "execution_count": 13,
   "metadata": {},
   "outputs": [],
   "source": [
    "xb,yb = learn.data.one_batch()"
   ]
  },
  {
   "cell_type": "code",
   "execution_count": 14,
   "metadata": {},
   "outputs": [
    {
     "data": {
      "text/plain": [
       "(torch.Size([1, 1, 128, 256, 256]), torch.Size([1, 128, 256, 256]))"
      ]
     },
     "execution_count": 14,
     "metadata": {},
     "output_type": "execute_result"
    }
   ],
   "source": [
    "xb.shape, yb.shape"
   ]
  },
  {
   "cell_type": "code",
   "execution_count": 15,
   "metadata": {},
   "outputs": [
    {
     "data": {
      "text/plain": [
       "torch.float16"
      ]
     },
     "execution_count": 15,
     "metadata": {},
     "output_type": "execute_result"
    }
   ],
   "source": [
    "xb.dtype"
   ]
  },
  {
   "cell_type": "code",
   "execution_count": 16,
   "metadata": {},
   "outputs": [],
   "source": [
    "out = learn.activation_stats.modules[0](xb.half().cuda())"
   ]
  },
  {
   "cell_type": "code",
   "execution_count": 17,
   "metadata": {},
   "outputs": [
    {
     "data": {
      "text/plain": [
       "tensor(-14748290., device='cuda:7', grad_fn=<SumBackward0>)"
      ]
     },
     "execution_count": 17,
     "metadata": {},
     "output_type": "execute_result"
    }
   ],
   "source": [
    "out.float().sum()"
   ]
  },
  {
   "cell_type": "code",
   "execution_count": 18,
   "metadata": {},
   "outputs": [
    {
     "data": {
      "text/plain": [
       "tensor(-inf, device='cuda:7', dtype=torch.float16, grad_fn=<SumBackward0>)"
      ]
     },
     "execution_count": 18,
     "metadata": {},
     "output_type": "execute_result"
    }
   ],
   "source": [
    "out.sum()"
   ]
  },
  {
   "cell_type": "code",
   "execution_count": 19,
   "metadata": {
    "scrolled": true
   },
   "outputs": [
    {
     "data": {
      "text/plain": [
       "100663296"
      ]
     },
     "execution_count": 19,
     "metadata": {},
     "output_type": "execute_result"
    }
   ],
   "source": [
    "out.numel()"
   ]
  },
  {
   "cell_type": "code",
   "execution_count": 21,
   "metadata": {},
   "outputs": [
    {
     "data": {
      "text/plain": [
       "tensor([[nan, nan, nan,  ..., nan, nan, nan],\n",
       "        [nan, nan, nan,  ..., nan, nan, nan],\n",
       "        [-0., 0., -0.,  ..., -0., -0., -0.],\n",
       "        ...,\n",
       "        [nan, nan, nan,  ..., nan, nan, nan],\n",
       "        [-0., 0., -0.,  ..., -0., 0., -0.],\n",
       "        [0., -0., -0.,  ..., nan, nan, nan]])"
      ]
     },
     "execution_count": 21,
     "metadata": {},
     "output_type": "execute_result"
    }
   ],
   "source": [
    "learn.activation_stats.stats[0]"
   ]
  },
  {
   "cell_type": "code",
   "execution_count": 30,
   "metadata": {
    "scrolled": true
   },
   "outputs": [
    {
     "data": {
      "text/plain": [
       "Parameter containing:\n",
       "tensor([-0.0104,  0.0020,  0.0079,  0.0029,  0.0037, -0.0115,  0.0043,  0.0133,\n",
       "        -0.0073, -0.0059,  0.0063, -0.0150], device='cuda:0',\n",
       "       dtype=torch.float16, requires_grad=True)"
      ]
     },
     "execution_count": 30,
     "metadata": {},
     "output_type": "execute_result"
    }
   ],
   "source": [
    "learn.activation_stats.modules[0].bias"
   ]
  },
  {
   "cell_type": "code",
   "execution_count": 23,
   "metadata": {},
   "outputs": [
    {
     "data": {
      "text/plain": [
       "tensor([nan, nan, nan, nan, nan, nan, nan, nan, nan, nan, nan, nan, nan, nan, nan, nan, nan, nan, nan, nan, nan, nan, nan, nan,\n",
       "        nan, nan, nan, nan, nan, nan, nan, nan, nan, nan, nan, nan, nan, nan, nan, nan, nan, nan, nan, nan, nan, nan, nan, nan,\n",
       "        nan, nan, nan, nan, nan, nan, nan, nan, nan, nan, nan, nan, nan, nan, nan, nan, nan, nan, nan, nan, nan, nan, nan, nan,\n",
       "        nan, nan, nan, nan, nan, nan, nan, nan, nan, nan, nan, nan, nan, nan, nan, nan, nan, nan, nan, nan, nan, nan, nan, nan,\n",
       "        nan, nan, nan, nan, nan, nan, nan, nan, nan, nan, nan, nan, nan, nan, nan, nan, nan, nan, nan, nan, nan, nan, nan, nan,\n",
       "        nan, nan])"
      ]
     },
     "execution_count": 23,
     "metadata": {},
     "output_type": "execute_result"
    }
   ],
   "source": [
    "learn.activation_stats.stats[0,0]"
   ]
  },
  {
   "cell_type": "code",
   "execution_count": 24,
   "metadata": {},
   "outputs": [
    {
     "data": {
      "text/plain": [
       "[0.21341668, tensor(0.9287)]"
      ]
     },
     "execution_count": 24,
     "metadata": {},
     "output_type": "execute_result"
    }
   ],
   "source": [
    "learn.validate()"
   ]
  },
  {
   "cell_type": "code",
   "execution_count": 13,
   "metadata": {},
   "outputs": [],
   "source": [
    "def stats(t): return (t.mean(), t.std())"
   ]
  },
  {
   "cell_type": "code",
   "execution_count": 19,
   "metadata": {
    "collapsed": true
   },
   "outputs": [
    {
     "name": "stdout",
     "output_type": "stream",
     "text": [
      "down1.down.0.weight\n",
      "(tensor(-0.0051, device='cuda:0', dtype=torch.float16, grad_fn=<MeanBackward1>), tensor(0.2671, device='cuda:0', dtype=torch.float16, grad_fn=<StdBackward0>))\n",
      "\n",
      "down1.down.0.bias\n",
      "(tensor(-0.0008, device='cuda:0', dtype=torch.float16, grad_fn=<MeanBackward1>), tensor(0.0089, device='cuda:0', dtype=torch.float16, grad_fn=<StdBackward0>))\n",
      "\n",
      "down1.down.1.weight\n",
      "(tensor(0.2612, device='cuda:0', dtype=torch.float16, grad_fn=<MeanBackward1>), tensor(nan, device='cuda:0', dtype=torch.float16, grad_fn=<StdBackward0>))\n",
      "\n",
      "down1.preact_res.c1.1.weight\n",
      "(tensor(0.2462, device='cuda:0', dtype=torch.float16, grad_fn=<MeanBackward1>), tensor(nan, device='cuda:0', dtype=torch.float16, grad_fn=<StdBackward0>))\n",
      "\n",
      "down1.preact_res.c1.2.weight\n",
      "(tensor(0.0027, device='cuda:0', dtype=torch.float16, grad_fn=<MeanBackward1>), tensor(0.0790, device='cuda:0', dtype=torch.float16, grad_fn=<StdBackward0>))\n",
      "\n",
      "down1.preact_res.c1.2.bias\n",
      "(tensor(-0.0002, device='cuda:0', dtype=torch.float16, grad_fn=<MeanBackward1>), tensor(0.0034, device='cuda:0', dtype=torch.float16, grad_fn=<StdBackward0>))\n",
      "\n",
      "down1.preact_res.c2.1.weight\n",
      "(tensor(0.2505, device='cuda:0', dtype=torch.float16, grad_fn=<MeanBackward1>), tensor(nan, device='cuda:0', dtype=torch.float16, grad_fn=<StdBackward0>))\n",
      "\n",
      "down1.preact_res.c2.2.weight\n",
      "(tensor(0.0017, device='cuda:0', dtype=torch.float16, grad_fn=<MeanBackward1>), tensor(0.0787, device='cuda:0', dtype=torch.float16, grad_fn=<StdBackward0>))\n",
      "\n",
      "down1.preact_res.c2.2.bias\n",
      "(tensor(0.0001, device='cuda:0', dtype=torch.float16, grad_fn=<MeanBackward1>), tensor(0.0062, device='cuda:0', dtype=torch.float16, grad_fn=<StdBackward0>))\n",
      "\n",
      "down2.down.0.weight\n",
      "(tensor(0.0007, device='cuda:0', dtype=torch.float16, grad_fn=<MeanBackward1>), tensor(0.0799, device='cuda:0', dtype=torch.float16, grad_fn=<StdBackward0>))\n",
      "\n",
      "down2.down.0.bias\n",
      "(tensor(0.0028, device='cuda:0', dtype=torch.float16, grad_fn=<MeanBackward1>), tensor(0.0066, device='cuda:0', dtype=torch.float16, grad_fn=<StdBackward0>))\n",
      "\n",
      "down2.down.1.weight\n",
      "(tensor(0.2520, device='cuda:0', dtype=torch.float16, grad_fn=<MeanBackward1>), tensor(nan, device='cuda:0', dtype=torch.float16, grad_fn=<StdBackward0>))\n",
      "\n",
      "down2.preact_res.c1.1.weight\n",
      "(tensor(0.2441, device='cuda:0', dtype=torch.float16, grad_fn=<MeanBackward1>), tensor(nan, device='cuda:0', dtype=torch.float16, grad_fn=<StdBackward0>))\n",
      "\n",
      "down2.preact_res.c1.2.weight\n",
      "(tensor(-0.0004, device='cuda:0', dtype=torch.float16, grad_fn=<MeanBackward1>), tensor(0.0559, device='cuda:0', dtype=torch.float16, grad_fn=<StdBackward0>))\n",
      "\n",
      "down2.preact_res.c1.2.bias\n",
      "(tensor(0.0003, device='cuda:0', dtype=torch.float16, grad_fn=<MeanBackward1>), tensor(0.0051, device='cuda:0', dtype=torch.float16, grad_fn=<StdBackward0>))\n",
      "\n",
      "down2.preact_res.c2.1.weight\n",
      "(tensor(0.2374, device='cuda:0', dtype=torch.float16, grad_fn=<MeanBackward1>), tensor(nan, device='cuda:0', dtype=torch.float16, grad_fn=<StdBackward0>))\n",
      "\n",
      "down2.preact_res.c2.2.weight\n",
      "(tensor(0.0010, device='cuda:0', dtype=torch.float16, grad_fn=<MeanBackward1>), tensor(0.0558, device='cuda:0', dtype=torch.float16, grad_fn=<StdBackward0>))\n",
      "\n",
      "down2.preact_res.c2.2.bias\n",
      "(tensor(0.0030, device='cuda:0', dtype=torch.float16, grad_fn=<MeanBackward1>), tensor(0.0076, device='cuda:0', dtype=torch.float16, grad_fn=<StdBackward0>))\n",
      "\n",
      "down3.down.0.weight\n",
      "(tensor(-0.0001, device='cuda:0', dtype=torch.float16, grad_fn=<MeanBackward1>), tensor(0.0555, device='cuda:0', dtype=torch.float16, grad_fn=<StdBackward0>))\n",
      "\n",
      "down3.down.0.bias\n",
      "(tensor(-0.0014, device='cuda:0', dtype=torch.float16, grad_fn=<MeanBackward1>), tensor(0.0055, device='cuda:0', dtype=torch.float16, grad_fn=<StdBackward0>))\n",
      "\n",
      "down3.down.1.weight\n",
      "(tensor(0.2472, device='cuda:0', dtype=torch.float16, grad_fn=<MeanBackward1>), tensor(nan, device='cuda:0', dtype=torch.float16, grad_fn=<StdBackward0>))\n",
      "\n",
      "down3.preact_res.c1.1.weight\n",
      "(tensor(0.2469, device='cuda:0', dtype=torch.float16, grad_fn=<MeanBackward1>), tensor(nan, device='cuda:0', dtype=torch.float16, grad_fn=<StdBackward0>))\n",
      "\n",
      "down3.preact_res.c1.2.weight\n",
      "(tensor(-0.0001, device='cuda:0', dtype=torch.float16, grad_fn=<MeanBackward1>), tensor(0.0396, device='cuda:0', dtype=torch.float16, grad_fn=<StdBackward0>))\n",
      "\n",
      "down3.preact_res.c1.2.bias\n",
      "(tensor(-9.9897e-05, device='cuda:0', dtype=torch.float16,\n",
      "       grad_fn=<MeanBackward1>), tensor(0.0043, device='cuda:0', dtype=torch.float16, grad_fn=<StdBackward0>))\n",
      "\n",
      "down3.preact_res.c2.1.weight\n",
      "(tensor(0.2455, device='cuda:0', dtype=torch.float16, grad_fn=<MeanBackward1>), tensor(nan, device='cuda:0', dtype=torch.float16, grad_fn=<StdBackward0>))\n",
      "\n",
      "down3.preact_res.c2.2.weight\n",
      "(tensor(-3.8683e-05, device='cuda:0', dtype=torch.float16,\n",
      "       grad_fn=<MeanBackward1>), tensor(0.0396, device='cuda:0', dtype=torch.float16, grad_fn=<StdBackward0>))\n",
      "\n",
      "down3.preact_res.c2.2.bias\n",
      "(tensor(0.0012, device='cuda:0', dtype=torch.float16, grad_fn=<MeanBackward1>), tensor(0.0095, device='cuda:0', dtype=torch.float16, grad_fn=<StdBackward0>))\n",
      "\n",
      "down4.down.0.weight\n",
      "(tensor(0., device='cuda:0', dtype=torch.float16, grad_fn=<MeanBackward1>), tensor(0.0396, device='cuda:0', dtype=torch.float16, grad_fn=<StdBackward0>))\n",
      "\n",
      "down4.down.0.bias\n",
      "(tensor(-0.0015, device='cuda:0', dtype=torch.float16, grad_fn=<MeanBackward1>), tensor(0.0041, device='cuda:0', dtype=torch.float16, grad_fn=<StdBackward0>))\n",
      "\n",
      "down4.down.1.weight\n",
      "(tensor(0.2363, device='cuda:0', dtype=torch.float16, grad_fn=<MeanBackward1>), tensor(nan, device='cuda:0', dtype=torch.float16, grad_fn=<StdBackward0>))\n",
      "\n",
      "down4.preact_res.c1.1.weight\n",
      "(tensor(0.2339, device='cuda:0', dtype=torch.float16, grad_fn=<MeanBackward1>), tensor(nan, device='cuda:0', dtype=torch.float16, grad_fn=<StdBackward0>))\n",
      "\n",
      "down4.preact_res.c1.2.weight\n",
      "(tensor(0., device='cuda:0', dtype=torch.float16, grad_fn=<MeanBackward1>), tensor(0.0282, device='cuda:0', dtype=torch.float16, grad_fn=<StdBackward0>))\n",
      "\n",
      "down4.preact_res.c1.2.bias\n",
      "(tensor(1.6332e-05, device='cuda:0', dtype=torch.float16,\n",
      "       grad_fn=<MeanBackward1>), tensor(0.0029, device='cuda:0', dtype=torch.float16, grad_fn=<StdBackward0>))\n",
      "\n",
      "down4.preact_res.c2.1.weight\n",
      "(tensor(0.2450, device='cuda:0', dtype=torch.float16, grad_fn=<MeanBackward1>), tensor(nan, device='cuda:0', dtype=torch.float16, grad_fn=<StdBackward0>))\n",
      "\n",
      "down4.preact_res.c2.2.weight\n",
      "(tensor(0., device='cuda:0', dtype=torch.float16, grad_fn=<MeanBackward1>), tensor(0.0282, device='cuda:0', dtype=torch.float16, grad_fn=<StdBackward0>))\n",
      "\n",
      "down4.preact_res.c2.2.bias\n",
      "(tensor(-0.0015, device='cuda:0', dtype=torch.float16, grad_fn=<MeanBackward1>), tensor(0.0078, device='cuda:0', dtype=torch.float16, grad_fn=<StdBackward0>))\n",
      "\n",
      "middle.0.0.weight\n",
      "(tensor(-0., device='cuda:0', dtype=torch.float16, grad_fn=<MeanBackward1>), tensor(0.0280, device='cuda:0', dtype=torch.float16, grad_fn=<StdBackward0>))\n",
      "\n",
      "middle.0.0.bias\n",
      "(tensor(-0.0014, device='cuda:0', dtype=torch.float16, grad_fn=<MeanBackward1>), tensor(0.0040, device='cuda:0', dtype=torch.float16, grad_fn=<StdBackward0>))\n",
      "\n",
      "middle.0.1.weight\n",
      "(tensor(0.2413, device='cuda:0', dtype=torch.float16, grad_fn=<MeanBackward1>), tensor(nan, device='cuda:0', dtype=torch.float16, grad_fn=<StdBackward0>))\n",
      "\n",
      "middle.1.c1.1.weight\n",
      "(tensor(0.2422, device='cuda:0', dtype=torch.float16, grad_fn=<MeanBackward1>), tensor(nan, device='cuda:0', dtype=torch.float16, grad_fn=<StdBackward0>))\n",
      "\n",
      "middle.1.c1.2.weight\n",
      "(tensor(0., device='cuda:0', dtype=torch.float16, grad_fn=<MeanBackward1>), tensor(0.0200, device='cuda:0', dtype=torch.float16, grad_fn=<StdBackward0>))\n",
      "\n",
      "middle.1.c1.2.bias\n",
      "(tensor(0.0001, device='cuda:0', dtype=torch.float16, grad_fn=<MeanBackward1>), tensor(0.0021, device='cuda:0', dtype=torch.float16, grad_fn=<StdBackward0>))\n",
      "\n",
      "middle.1.c2.1.weight\n",
      "(tensor(0.2433, device='cuda:0', dtype=torch.float16, grad_fn=<MeanBackward1>), tensor(nan, device='cuda:0', dtype=torch.float16, grad_fn=<StdBackward0>))\n",
      "\n",
      "middle.1.c2.2.weight\n",
      "(tensor(0., device='cuda:0', dtype=torch.float16, grad_fn=<MeanBackward1>), tensor(0.0199, device='cuda:0', dtype=torch.float16, grad_fn=<StdBackward0>))\n",
      "\n",
      "middle.1.c2.2.bias\n",
      "(tensor(-0.0007, device='cuda:0', dtype=torch.float16, grad_fn=<MeanBackward1>), tensor(0.0040, device='cuda:0', dtype=torch.float16, grad_fn=<StdBackward0>))\n",
      "\n",
      "middle.2.c.0.weight\n",
      "(tensor(0., device='cuda:0', dtype=torch.float16, grad_fn=<MeanBackward1>), tensor(0.0199, device='cuda:0', dtype=torch.float16, grad_fn=<StdBackward0>))\n",
      "\n",
      "middle.2.c.0.bias\n",
      "(tensor(-0.0008, device='cuda:0', dtype=torch.float16, grad_fn=<MeanBackward1>), tensor(0.0035, device='cuda:0', dtype=torch.float16, grad_fn=<StdBackward0>))\n",
      "\n",
      "middle.2.c.1.weight\n",
      "(tensor(0.2522, device='cuda:0', dtype=torch.float16, grad_fn=<MeanBackward1>), tensor(nan, device='cuda:0', dtype=torch.float16, grad_fn=<StdBackward0>))\n",
      "\n",
      "upblock1.c1.c1.0.weight\n",
      "(tensor(0., device='cuda:0', dtype=torch.float16, grad_fn=<MeanBackward1>), tensor(0.0200, device='cuda:0', dtype=torch.float16, grad_fn=<StdBackward0>))\n",
      "\n",
      "upblock1.c1.c1.0.bias\n",
      "(tensor(-0.0033, device='cuda:0', dtype=torch.float16, grad_fn=<MeanBackward1>), tensor(0.0052, device='cuda:0', dtype=torch.float16, grad_fn=<StdBackward0>))\n",
      "\n",
      "upblock1.c1.c1.1.weight\n",
      "(tensor(0.2463, device='cuda:0', dtype=torch.float16, grad_fn=<MeanBackward1>), tensor(nan, device='cuda:0', dtype=torch.float16, grad_fn=<StdBackward0>))\n",
      "\n",
      "upblock1.c1.c2.0.weight\n",
      "(tensor(0., device='cuda:0', dtype=torch.float16, grad_fn=<MeanBackward1>), tensor(0.0200, device='cuda:0', dtype=torch.float16, grad_fn=<StdBackward0>))\n",
      "\n",
      "upblock1.c1.c2.0.bias\n",
      "(tensor(-0.0041, device='cuda:0', dtype=torch.float16, grad_fn=<MeanBackward1>), tensor(0.0061, device='cuda:0', dtype=torch.float16, grad_fn=<StdBackward0>))\n",
      "\n",
      "upblock1.c1.c2.1.weight\n",
      "(tensor(0.2571, device='cuda:0', dtype=torch.float16, grad_fn=<MeanBackward1>), tensor(nan, device='cuda:0', dtype=torch.float16, grad_fn=<StdBackward0>))\n",
      "\n",
      "upblock1.c2.c.0.weight\n",
      "(tensor(0., device='cuda:0', dtype=torch.float16, grad_fn=<MeanBackward1>), tensor(0.0281, device='cuda:0', dtype=torch.float16, grad_fn=<StdBackward0>))\n",
      "\n",
      "upblock1.c2.c.0.bias\n",
      "(tensor(-0.0047, device='cuda:0', dtype=torch.float16, grad_fn=<MeanBackward1>), tensor(0.0084, device='cuda:0', dtype=torch.float16, grad_fn=<StdBackward0>))\n",
      "\n",
      "upblock1.c2.c.1.weight\n",
      "(tensor(0.2452, device='cuda:0', dtype=torch.float16, grad_fn=<MeanBackward1>), tensor(nan, device='cuda:0', dtype=torch.float16, grad_fn=<StdBackward0>))\n",
      "\n",
      "upblock2.c1.c1.0.weight\n",
      "(tensor(0., device='cuda:0', dtype=torch.float16, grad_fn=<MeanBackward1>), tensor(0.0281, device='cuda:0', dtype=torch.float16, grad_fn=<StdBackward0>))\n",
      "\n",
      "upblock2.c1.c1.0.bias\n",
      "(tensor(-0.0045, device='cuda:0', dtype=torch.float16, grad_fn=<MeanBackward1>), tensor(0.0056, device='cuda:0', dtype=torch.float16, grad_fn=<StdBackward0>))\n",
      "\n",
      "upblock2.c1.c1.1.weight\n",
      "(tensor(0.2379, device='cuda:0', dtype=torch.float16, grad_fn=<MeanBackward1>), tensor(nan, device='cuda:0', dtype=torch.float16, grad_fn=<StdBackward0>))\n",
      "\n",
      "upblock2.c1.c2.0.weight\n",
      "(tensor(0., device='cuda:0', dtype=torch.float16, grad_fn=<MeanBackward1>), tensor(0.0281, device='cuda:0', dtype=torch.float16, grad_fn=<StdBackward0>))\n",
      "\n",
      "upblock2.c1.c2.0.bias\n",
      "(tensor(-0.0067, device='cuda:0', dtype=torch.float16, grad_fn=<MeanBackward1>), tensor(0.0071, device='cuda:0', dtype=torch.float16, grad_fn=<StdBackward0>))\n",
      "\n",
      "upblock2.c1.c2.1.weight\n",
      "(tensor(0.2517, device='cuda:0', dtype=torch.float16, grad_fn=<MeanBackward1>), tensor(nan, device='cuda:0', dtype=torch.float16, grad_fn=<StdBackward0>))\n",
      "\n",
      "upblock2.c2.c.0.weight\n",
      "(tensor(0.0001, device='cuda:0', dtype=torch.float16, grad_fn=<MeanBackward1>), tensor(0.0396, device='cuda:0', dtype=torch.float16, grad_fn=<StdBackward0>))\n",
      "\n",
      "upblock2.c2.c.0.bias\n",
      "(tensor(-0.0037, device='cuda:0', dtype=torch.float16, grad_fn=<MeanBackward1>), tensor(0.0060, device='cuda:0', dtype=torch.float16, grad_fn=<StdBackward0>))\n",
      "\n",
      "upblock2.c2.c.1.weight\n",
      "(tensor(0.2578, device='cuda:0', dtype=torch.float16, grad_fn=<MeanBackward1>), tensor(nan, device='cuda:0', dtype=torch.float16, grad_fn=<StdBackward0>))\n",
      "\n",
      "upblock3.c1.c1.0.weight\n",
      "(tensor(0.0002, device='cuda:0', dtype=torch.float16, grad_fn=<MeanBackward1>), tensor(0.0395, device='cuda:0', dtype=torch.float16, grad_fn=<StdBackward0>))\n",
      "\n",
      "upblock3.c1.c1.0.bias\n",
      "(tensor(-0.0025, device='cuda:0', dtype=torch.float16, grad_fn=<MeanBackward1>), tensor(0.0058, device='cuda:0', dtype=torch.float16, grad_fn=<StdBackward0>))\n",
      "\n",
      "upblock3.c1.c1.1.weight\n",
      "(tensor(0.2605, device='cuda:0', dtype=torch.float16, grad_fn=<MeanBackward1>), tensor(nan, device='cuda:0', dtype=torch.float16, grad_fn=<StdBackward0>))\n",
      "\n",
      "upblock3.c1.c2.0.weight\n",
      "(tensor(0.0002, device='cuda:0', dtype=torch.float16, grad_fn=<MeanBackward1>), tensor(0.0396, device='cuda:0', dtype=torch.float16, grad_fn=<StdBackward0>))\n",
      "\n",
      "upblock3.c1.c2.0.bias\n",
      "(tensor(-0.0046, device='cuda:0', dtype=torch.float16, grad_fn=<MeanBackward1>), tensor(0.0073, device='cuda:0', dtype=torch.float16, grad_fn=<StdBackward0>))\n",
      "\n",
      "upblock3.c1.c2.1.weight\n",
      "(tensor(0.2615, device='cuda:0', dtype=torch.float16, grad_fn=<MeanBackward1>), tensor(nan, device='cuda:0', dtype=torch.float16, grad_fn=<StdBackward0>))\n",
      "\n",
      "upblock3.c2.c.0.weight\n",
      "(tensor(0.0005, device='cuda:0', dtype=torch.float16, grad_fn=<MeanBackward1>), tensor(0.0554, device='cuda:0', dtype=torch.float16, grad_fn=<StdBackward0>))\n",
      "\n",
      "upblock3.c2.c.0.bias\n",
      "(tensor(-0.0012, device='cuda:0', dtype=torch.float16, grad_fn=<MeanBackward1>), tensor(0.0076, device='cuda:0', dtype=torch.float16, grad_fn=<StdBackward0>))\n",
      "\n",
      "upblock3.c2.c.1.weight\n",
      "(tensor(0.2678, device='cuda:0', dtype=torch.float16, grad_fn=<MeanBackward1>), tensor(nan, device='cuda:0', dtype=torch.float16, grad_fn=<StdBackward0>))\n",
      "\n",
      "seg2.c1.0.weight\n",
      "(tensor(-0.0003, device='cuda:0', dtype=torch.float16, grad_fn=<MeanBackward1>), tensor(0.0397, device='cuda:0', dtype=torch.float16, grad_fn=<StdBackward0>))\n",
      "\n",
      "seg2.c1.0.bias\n",
      "(tensor(-0.0075, device='cuda:0', dtype=torch.float16, grad_fn=<MeanBackward1>), tensor(0.0064, device='cuda:0', dtype=torch.float16, grad_fn=<StdBackward0>))\n",
      "\n",
      "seg2.c1.1.weight\n",
      "(tensor(0.2705, device='cuda:0', dtype=torch.float16, grad_fn=<MeanBackward1>), tensor(nan, device='cuda:0', dtype=torch.float16, grad_fn=<StdBackward0>))\n",
      "\n",
      "seg2.c2.weight\n",
      "(tensor(-0.0093, device='cuda:0', dtype=torch.float16, grad_fn=<MeanBackward1>), tensor(0.2197, device='cuda:0', dtype=torch.float16, grad_fn=<StdBackward0>))\n",
      "\n",
      "seg2.c2.bias\n",
      "(tensor(-0.0486, device='cuda:0', dtype=torch.float16, grad_fn=<MeanBackward1>), tensor(nan, device='cuda:0', dtype=torch.float16, grad_fn=<StdBackward0>))\n",
      "\n",
      "seg3.c1.0.weight\n",
      "(tensor(0.0003, device='cuda:0', dtype=torch.float16, grad_fn=<MeanBackward1>), tensor(0.0562, device='cuda:0', dtype=torch.float16, grad_fn=<StdBackward0>))\n",
      "\n",
      "seg3.c1.0.bias\n",
      "(tensor(-0.0059, device='cuda:0', dtype=torch.float16, grad_fn=<MeanBackward1>), tensor(0.0071, device='cuda:0', dtype=torch.float16, grad_fn=<StdBackward0>))\n",
      "\n",
      "seg3.c1.1.weight\n",
      "(tensor(0.2598, device='cuda:0', dtype=torch.float16, grad_fn=<MeanBackward1>), tensor(nan, device='cuda:0', dtype=torch.float16, grad_fn=<StdBackward0>))\n",
      "\n",
      "seg3.c2.weight\n",
      "(tensor(0.0636, device='cuda:0', dtype=torch.float16, grad_fn=<MeanBackward1>), tensor(0.2688, device='cuda:0', dtype=torch.float16, grad_fn=<StdBackward0>))\n",
      "\n",
      "seg3.c2.bias\n",
      "(tensor(-0.0486, device='cuda:0', dtype=torch.float16, grad_fn=<MeanBackward1>), tensor(nan, device='cuda:0', dtype=torch.float16, grad_fn=<StdBackward0>))\n",
      "\n",
      "seg_final.c1.0.weight\n",
      "(tensor(-0.0002, device='cuda:0', dtype=torch.float16, grad_fn=<MeanBackward1>), tensor(0.0558, device='cuda:0', dtype=torch.float16, grad_fn=<StdBackward0>))\n",
      "\n",
      "seg_final.c1.0.bias\n",
      "(tensor(-0.0025, device='cuda:0', dtype=torch.float16, grad_fn=<MeanBackward1>), tensor(0.0063, device='cuda:0', dtype=torch.float16, grad_fn=<StdBackward0>))\n",
      "\n",
      "seg_final.c1.1.weight\n",
      "(tensor(0.2673, device='cuda:0', dtype=torch.float16, grad_fn=<MeanBackward1>), tensor(nan, device='cuda:0', dtype=torch.float16, grad_fn=<StdBackward0>))\n",
      "\n",
      "seg_final.c2.weight\n",
      "(tensor(-0.0442, device='cuda:0', dtype=torch.float16, grad_fn=<MeanBackward1>), tensor(0.2732, device='cuda:0', dtype=torch.float16, grad_fn=<StdBackward0>))\n",
      "\n",
      "seg_final.c2.bias\n",
      "(tensor(-0.0486, device='cuda:0', dtype=torch.float16, grad_fn=<MeanBackward1>), tensor(nan, device='cuda:0', dtype=torch.float16, grad_fn=<StdBackward0>))\n",
      "\n"
     ]
    }
   ],
   "source": [
    "params = learn.model.named_parameters()\n",
    "\n",
    "for n,p in params:\n",
    "    print(n)\n",
    "    print(stats(p))\n",
    "    print()"
   ]
  },
  {
   "cell_type": "code",
   "execution_count": 32,
   "metadata": {},
   "outputs": [],
   "source": [
    "class MyReLU(nn.Module):\n",
    "    def forward(self, x):\n",
    "        return F.relu(x) - 0.5"
   ]
  },
  {
   "cell_type": "code",
   "execution_count": 81,
   "metadata": {},
   "outputs": [],
   "source": [
    "m = nn.Sequential(nn.Conv2d(1,16,3),\n",
    "                  nn.ReLU(),\n",
    "                  nn.Conv2d(16,16,3),\n",
    "                  nn.ReLU(),\n",
    "                  nn.Conv2d(16,16,3),\n",
    "                  nn.ReLU(),\n",
    "                  nn.Conv2d(16,16,3))"
   ]
  },
  {
   "cell_type": "code",
   "execution_count": 82,
   "metadata": {},
   "outputs": [],
   "source": [
    "x = torch.randn(5,1,16,16)"
   ]
  },
  {
   "cell_type": "code",
   "execution_count": 83,
   "metadata": {},
   "outputs": [
    {
     "data": {
      "text/plain": [
       "(tensor(-0.0185, grad_fn=<MeanBackward1>),\n",
       " tensor(0.0805, grad_fn=<StdBackward0>))"
      ]
     },
     "execution_count": 83,
     "metadata": {},
     "output_type": "execute_result"
    }
   ],
   "source": [
    "a = m(x)\n",
    "stats(a)"
   ]
  },
  {
   "cell_type": "code",
   "execution_count": 84,
   "metadata": {
    "scrolled": true
   },
   "outputs": [],
   "source": [
    "apply_leaf(m, partial(cond_init, init_func= nn.init.kaiming_normal_))"
   ]
  },
  {
   "cell_type": "code",
   "execution_count": 85,
   "metadata": {},
   "outputs": [
    {
     "data": {
      "text/plain": [
       "(tensor(-0.0306, grad_fn=<MeanBackward1>),\n",
       " tensor(1.2393, grad_fn=<StdBackward0>))"
      ]
     },
     "execution_count": 85,
     "metadata": {},
     "output_type": "execute_result"
    }
   ],
   "source": [
    "a = m(x)\n",
    "stats(a)"
   ]
  },
  {
   "cell_type": "code",
   "execution_count": null,
   "metadata": {},
   "outputs": [],
   "source": []
  },
  {
   "cell_type": "code",
   "execution_count": null,
   "metadata": {},
   "outputs": [],
   "source": []
  },
  {
   "cell_type": "code",
   "execution_count": null,
   "metadata": {},
   "outputs": [],
   "source": []
  },
  {
   "cell_type": "code",
   "execution_count": null,
   "metadata": {},
   "outputs": [],
   "source": []
  }
 ],
 "metadata": {
  "kernelspec": {
   "display_name": "Python 3",
   "language": "python",
   "name": "python3"
  },
  "language_info": {
   "codemirror_mode": {
    "name": "ipython",
    "version": 3
   },
   "file_extension": ".py",
   "mimetype": "text/x-python",
   "name": "python",
   "nbconvert_exporter": "python",
   "pygments_lexer": "ipython3",
   "version": "3.7.2"
  }
 },
 "nbformat": 4,
 "nbformat_minor": 2
}
