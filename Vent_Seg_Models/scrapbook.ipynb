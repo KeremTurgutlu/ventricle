{
 "cells": [
  {
   "cell_type": "code",
   "execution_count": 1,
   "metadata": {},
   "outputs": [],
   "source": [
    "from fastai.vision import *"
   ]
  },
  {
   "cell_type": "code",
   "execution_count": 2,
   "metadata": {},
   "outputs": [],
   "source": [
    "import fastai"
   ]
  },
  {
   "cell_type": "code",
   "execution_count": 3,
   "metadata": {},
   "outputs": [
    {
     "data": {
      "text/plain": [
       "'1.0.54.dev0'"
      ]
     },
     "execution_count": 3,
     "metadata": {},
     "output_type": "execute_result"
    }
   ],
   "source": [
    "fastai.__version__"
   ]
  },
  {
   "cell_type": "code",
   "execution_count": 2,
   "metadata": {},
   "outputs": [],
   "source": [
    "t1 = torch.randn(size=(1,1,128,128)).cuda()\n",
    "t2 = torch.randn(size=(1,1,128,128,128)).cuda()"
   ]
  },
  {
   "cell_type": "markdown",
   "metadata": {
    "heading_collapsed": true
   },
   "source": [
    "### a"
   ]
  },
  {
   "cell_type": "code",
   "execution_count": 55,
   "metadata": {
    "hidden": true
   },
   "outputs": [],
   "source": [
    "conv2d = nn.Conv2d(1,1,3,bias=False,padding=1).cuda(); #conv2d.weight.data.normal_(5,1);\n",
    "conv3d = nn.Conv3d(1,1,3,bias=False,padding=1).cuda(); #conv3d.weight.data.normal_(5,1);"
   ]
  },
  {
   "cell_type": "code",
   "execution_count": 63,
   "metadata": {
    "hidden": true,
    "scrolled": true
   },
   "outputs": [],
   "source": [
    "a = t1.cuda()\n",
    "for i in range(100):\n",
    "    a = conv2d(a)\n",
    "    if torch.isnan(a.mean()):break"
   ]
  },
  {
   "cell_type": "code",
   "execution_count": 64,
   "metadata": {
    "hidden": true
   },
   "outputs": [
    {
     "data": {
      "text/plain": [
       "99"
      ]
     },
     "execution_count": 64,
     "metadata": {},
     "output_type": "execute_result"
    }
   ],
   "source": [
    "i"
   ]
  },
  {
   "cell_type": "code",
   "execution_count": 65,
   "metadata": {
    "hidden": true
   },
   "outputs": [
    {
     "data": {
      "text/plain": [
       "(tensor(-8.6458e-05, device='cuda:0', grad_fn=<MeanBackward1>),\n",
       " tensor(0.3323, device='cuda:0', grad_fn=<StdBackward0>))"
      ]
     },
     "execution_count": 65,
     "metadata": {},
     "output_type": "execute_result"
    }
   ],
   "source": [
    "a.mean(), a.std()"
   ]
  },
  {
   "cell_type": "code",
   "execution_count": 70,
   "metadata": {
    "hidden": true
   },
   "outputs": [],
   "source": [
    "a = t2.cuda()\n",
    "for i in range(100):\n",
    "    a = conv3d(a)\n",
    "    if torch.isnan(a.mean()):break"
   ]
  },
  {
   "cell_type": "code",
   "execution_count": 72,
   "metadata": {
    "hidden": true
   },
   "outputs": [
    {
     "data": {
      "text/plain": [
       "299"
      ]
     },
     "execution_count": 72,
     "metadata": {},
     "output_type": "execute_result"
    }
   ],
   "source": [
    "i"
   ]
  },
  {
   "cell_type": "code",
   "execution_count": 73,
   "metadata": {
    "hidden": true
   },
   "outputs": [
    {
     "data": {
      "text/plain": [
       "(tensor(5.8570e+13, device='cuda:0', grad_fn=<MeanBackward1>),\n",
       " tensor(inf, device='cuda:0', grad_fn=<StdBackward0>))"
      ]
     },
     "execution_count": 73,
     "metadata": {},
     "output_type": "execute_result"
    }
   ],
   "source": [
    "a.mean(), a.std()"
   ]
  },
  {
   "cell_type": "markdown",
   "metadata": {},
   "source": [
    "### b"
   ]
  },
  {
   "cell_type": "code",
   "execution_count": 7,
   "metadata": {},
   "outputs": [],
   "source": [
    "input = torch.randn(3, requires_grad=True)\n",
    "target = torch.empty(3).random_(2)\n",
    "loss = F.binary_cross_entropy_with_logits(input, target)"
   ]
  },
  {
   "cell_type": "code",
   "execution_count": 8,
   "metadata": {},
   "outputs": [
    {
     "data": {
      "text/plain": [
       "tensor([-1.4394,  0.2180, -0.9339], requires_grad=True)"
      ]
     },
     "execution_count": 8,
     "metadata": {},
     "output_type": "execute_result"
    }
   ],
   "source": [
    "input"
   ]
  },
  {
   "cell_type": "code",
   "execution_count": 9,
   "metadata": {},
   "outputs": [
    {
     "data": {
      "text/plain": [
       "tensor([0., 0., 1.])"
      ]
     },
     "execution_count": 9,
     "metadata": {},
     "output_type": "execute_result"
    }
   ],
   "source": [
    "target"
   ]
  },
  {
   "cell_type": "markdown",
   "metadata": {},
   "source": [
    "### c"
   ]
  },
  {
   "cell_type": "code",
   "execution_count": 2,
   "metadata": {},
   "outputs": [],
   "source": [
    "from data_utils import *"
   ]
  },
  {
   "cell_type": "code",
   "execution_count": 19,
   "metadata": {},
   "outputs": [],
   "source": [
    "data_name='notl_ventricle_mr'\n",
    "sample_size=10"
   ]
  },
  {
   "cell_type": "code",
   "execution_count": 20,
   "metadata": {},
   "outputs": [],
   "source": [
    "f = data_dict[data_name]\n",
    "train_paths, valid_paths, test1_paths, test2_paths = f()"
   ]
  },
  {
   "cell_type": "code",
   "execution_count": 21,
   "metadata": {
    "scrolled": true
   },
   "outputs": [],
   "source": [
    "if sample_size:\n",
    "    idxs = np.random.choice(range(len(train_paths[0])), size=sample_size, replace=False)\n",
    "    train_paths = np.array(train_paths)[:,idxs]"
   ]
  },
  {
   "cell_type": "markdown",
   "metadata": {},
   "source": [
    "### d"
   ]
  },
  {
   "cell_type": "code",
   "execution_count": 4,
   "metadata": {},
   "outputs": [],
   "source": [
    "from models import *"
   ]
  },
  {
   "cell_type": "code",
   "execution_count": 58,
   "metadata": {},
   "outputs": [],
   "source": [
    "model = model_dict['residual_unet_wide']()"
   ]
  },
  {
   "cell_type": "code",
   "execution_count": 59,
   "metadata": {
    "scrolled": true
   },
   "outputs": [
    {
     "data": {
      "text/plain": [
       "VolumetricResidualUnet(\n",
       "  (down1): DownBlock(\n",
       "    (down): Sequential(\n",
       "      (0): Conv3d(1, 12, kernel_size=(3, 3, 3), stride=(1, 1, 1), padding=(1, 1, 1))\n",
       "      (1): PReLU(num_parameters=1)\n",
       "      (2): InstanceNorm3d(12, eps=1e-05, momentum=0.1, affine=False, track_running_stats=False)\n",
       "      (3): Dropout3d(p=0.2)\n",
       "    )\n",
       "    (preact_res): PreActBlock(\n",
       "      (c1): Sequential(\n",
       "        (0): InstanceNorm3d(12, eps=1e-05, momentum=0.1, affine=False, track_running_stats=False)\n",
       "        (1): PReLU(num_parameters=1)\n",
       "        (2): Conv3d(12, 12, kernel_size=(3, 3, 3), stride=(1, 1, 1), padding=(1, 1, 1))\n",
       "        (3): Dropout3d(p=0.2)\n",
       "      )\n",
       "      (c2): Sequential(\n",
       "        (0): InstanceNorm3d(12, eps=1e-05, momentum=0.1, affine=False, track_running_stats=False)\n",
       "        (1): PReLU(num_parameters=1)\n",
       "        (2): Conv3d(12, 12, kernel_size=(3, 3, 3), stride=(1, 1, 1), padding=(1, 1, 1))\n",
       "        (3): Dropout3d(p=0.2)\n",
       "      )\n",
       "    )\n",
       "  )\n",
       "  (down2): DownBlock(\n",
       "    (down): Sequential(\n",
       "      (0): Conv3d(12, 24, kernel_size=(3, 3, 3), stride=(2, 2, 2), padding=(1, 1, 1))\n",
       "      (1): PReLU(num_parameters=1)\n",
       "      (2): InstanceNorm3d(24, eps=1e-05, momentum=0.1, affine=False, track_running_stats=False)\n",
       "      (3): Dropout3d(p=0.2)\n",
       "    )\n",
       "    (preact_res): PreActBlock(\n",
       "      (c1): Sequential(\n",
       "        (0): InstanceNorm3d(24, eps=1e-05, momentum=0.1, affine=False, track_running_stats=False)\n",
       "        (1): PReLU(num_parameters=1)\n",
       "        (2): Conv3d(24, 24, kernel_size=(3, 3, 3), stride=(1, 1, 1), padding=(1, 1, 1))\n",
       "        (3): Dropout3d(p=0.2)\n",
       "      )\n",
       "      (c2): Sequential(\n",
       "        (0): InstanceNorm3d(24, eps=1e-05, momentum=0.1, affine=False, track_running_stats=False)\n",
       "        (1): PReLU(num_parameters=1)\n",
       "        (2): Conv3d(24, 24, kernel_size=(3, 3, 3), stride=(1, 1, 1), padding=(1, 1, 1))\n",
       "        (3): Dropout3d(p=0.2)\n",
       "      )\n",
       "    )\n",
       "  )\n",
       "  (down3): DownBlock(\n",
       "    (down): Sequential(\n",
       "      (0): Conv3d(24, 48, kernel_size=(3, 3, 3), stride=(2, 2, 2), padding=(1, 1, 1))\n",
       "      (1): PReLU(num_parameters=1)\n",
       "      (2): InstanceNorm3d(48, eps=1e-05, momentum=0.1, affine=False, track_running_stats=False)\n",
       "      (3): Dropout3d(p=0.2)\n",
       "    )\n",
       "    (preact_res): PreActBlock(\n",
       "      (c1): Sequential(\n",
       "        (0): InstanceNorm3d(48, eps=1e-05, momentum=0.1, affine=False, track_running_stats=False)\n",
       "        (1): PReLU(num_parameters=1)\n",
       "        (2): Conv3d(48, 48, kernel_size=(3, 3, 3), stride=(1, 1, 1), padding=(1, 1, 1))\n",
       "        (3): Dropout3d(p=0.2)\n",
       "      )\n",
       "      (c2): Sequential(\n",
       "        (0): InstanceNorm3d(48, eps=1e-05, momentum=0.1, affine=False, track_running_stats=False)\n",
       "        (1): PReLU(num_parameters=1)\n",
       "        (2): Conv3d(48, 48, kernel_size=(3, 3, 3), stride=(1, 1, 1), padding=(1, 1, 1))\n",
       "        (3): Dropout3d(p=0.2)\n",
       "      )\n",
       "    )\n",
       "  )\n",
       "  (down4): DownBlock(\n",
       "    (down): Sequential(\n",
       "      (0): Conv3d(48, 96, kernel_size=(3, 3, 3), stride=(2, 2, 2), padding=(1, 1, 1))\n",
       "      (1): PReLU(num_parameters=1)\n",
       "      (2): InstanceNorm3d(96, eps=1e-05, momentum=0.1, affine=False, track_running_stats=False)\n",
       "      (3): Dropout3d(p=0.2)\n",
       "    )\n",
       "    (preact_res): PreActBlock(\n",
       "      (c1): Sequential(\n",
       "        (0): InstanceNorm3d(96, eps=1e-05, momentum=0.1, affine=False, track_running_stats=False)\n",
       "        (1): PReLU(num_parameters=1)\n",
       "        (2): Conv3d(96, 96, kernel_size=(3, 3, 3), stride=(1, 1, 1), padding=(1, 1, 1))\n",
       "        (3): Dropout3d(p=0.2)\n",
       "      )\n",
       "      (c2): Sequential(\n",
       "        (0): InstanceNorm3d(96, eps=1e-05, momentum=0.1, affine=False, track_running_stats=False)\n",
       "        (1): PReLU(num_parameters=1)\n",
       "        (2): Conv3d(96, 96, kernel_size=(3, 3, 3), stride=(1, 1, 1), padding=(1, 1, 1))\n",
       "        (3): Dropout3d(p=0.2)\n",
       "      )\n",
       "    )\n",
       "  )\n",
       "  (middle): Sequential(\n",
       "    (0): Sequential(\n",
       "      (0): Conv3d(96, 192, kernel_size=(3, 3, 3), stride=(2, 2, 2), padding=(1, 1, 1))\n",
       "      (1): PReLU(num_parameters=1)\n",
       "      (2): InstanceNorm3d(192, eps=1e-05, momentum=0.1, affine=False, track_running_stats=False)\n",
       "      (3): Dropout3d(p=0.2)\n",
       "    )\n",
       "    (1): PreActBlock(\n",
       "      (c1): Sequential(\n",
       "        (0): InstanceNorm3d(192, eps=1e-05, momentum=0.1, affine=False, track_running_stats=False)\n",
       "        (1): PReLU(num_parameters=1)\n",
       "        (2): Conv3d(192, 192, kernel_size=(3, 3, 3), stride=(1, 1, 1), padding=(1, 1, 1))\n",
       "        (3): Dropout3d(p=0.2)\n",
       "      )\n",
       "      (c2): Sequential(\n",
       "        (0): InstanceNorm3d(192, eps=1e-05, momentum=0.1, affine=False, track_running_stats=False)\n",
       "        (1): PReLU(num_parameters=1)\n",
       "        (2): Conv3d(192, 192, kernel_size=(3, 3, 3), stride=(1, 1, 1), padding=(1, 1, 1))\n",
       "        (3): Dropout3d(p=0.2)\n",
       "      )\n",
       "    )\n",
       "    (2): UpsampleBlock(\n",
       "      (c): Sequential(\n",
       "        (0): Conv3d(192, 96, kernel_size=(3, 3, 3), stride=(1, 1, 1), padding=(1, 1, 1))\n",
       "        (1): PReLU(num_parameters=1)\n",
       "        (2): InstanceNorm3d(96, eps=1e-05, momentum=0.1, affine=False, track_running_stats=False)\n",
       "        (3): Dropout3d(p=0.2)\n",
       "      )\n",
       "    )\n",
       "  )\n",
       "  (upblock1): UpBlock(\n",
       "    (c1): LocalizationBlock(\n",
       "      (c1): Sequential(\n",
       "        (0): Conv3d(192, 192, kernel_size=(3, 3, 3), stride=(1, 1, 1), padding=(1, 1, 1))\n",
       "        (1): PReLU(num_parameters=1)\n",
       "        (2): InstanceNorm3d(192, eps=1e-05, momentum=0.1, affine=False, track_running_stats=False)\n",
       "        (3): Dropout3d(p=0.2)\n",
       "      )\n",
       "      (c2): Sequential(\n",
       "        (0): Conv3d(192, 96, kernel_size=(3, 3, 3), stride=(1, 1, 1), padding=(1, 1, 1))\n",
       "        (1): PReLU(num_parameters=1)\n",
       "        (2): InstanceNorm3d(96, eps=1e-05, momentum=0.1, affine=False, track_running_stats=False)\n",
       "        (3): Dropout3d(p=0.2)\n",
       "      )\n",
       "    )\n",
       "    (c2): UpsampleBlock(\n",
       "      (c): Sequential(\n",
       "        (0): Conv3d(96, 48, kernel_size=(3, 3, 3), stride=(1, 1, 1), padding=(1, 1, 1))\n",
       "        (1): PReLU(num_parameters=1)\n",
       "        (2): InstanceNorm3d(48, eps=1e-05, momentum=0.1, affine=False, track_running_stats=False)\n",
       "        (3): Dropout3d(p=0.2)\n",
       "      )\n",
       "    )\n",
       "  )\n",
       "  (upblock2): UpBlock(\n",
       "    (c1): LocalizationBlock(\n",
       "      (c1): Sequential(\n",
       "        (0): Conv3d(96, 96, kernel_size=(3, 3, 3), stride=(1, 1, 1), padding=(1, 1, 1))\n",
       "        (1): PReLU(num_parameters=1)\n",
       "        (2): InstanceNorm3d(96, eps=1e-05, momentum=0.1, affine=False, track_running_stats=False)\n",
       "        (3): Dropout3d(p=0.2)\n",
       "      )\n",
       "      (c2): Sequential(\n",
       "        (0): Conv3d(96, 48, kernel_size=(3, 3, 3), stride=(1, 1, 1), padding=(1, 1, 1))\n",
       "        (1): PReLU(num_parameters=1)\n",
       "        (2): InstanceNorm3d(48, eps=1e-05, momentum=0.1, affine=False, track_running_stats=False)\n",
       "        (3): Dropout3d(p=0.2)\n",
       "      )\n",
       "    )\n",
       "    (c2): UpsampleBlock(\n",
       "      (c): Sequential(\n",
       "        (0): Conv3d(48, 24, kernel_size=(3, 3, 3), stride=(1, 1, 1), padding=(1, 1, 1))\n",
       "        (1): PReLU(num_parameters=1)\n",
       "        (2): InstanceNorm3d(24, eps=1e-05, momentum=0.1, affine=False, track_running_stats=False)\n",
       "        (3): Dropout3d(p=0.2)\n",
       "      )\n",
       "    )\n",
       "  )\n",
       "  (upblock3): UpBlock(\n",
       "    (c1): LocalizationBlock(\n",
       "      (c1): Sequential(\n",
       "        (0): Conv3d(48, 48, kernel_size=(3, 3, 3), stride=(1, 1, 1), padding=(1, 1, 1))\n",
       "        (1): PReLU(num_parameters=1)\n",
       "        (2): InstanceNorm3d(48, eps=1e-05, momentum=0.1, affine=False, track_running_stats=False)\n",
       "        (3): Dropout3d(p=0.2)\n",
       "      )\n",
       "      (c2): Sequential(\n",
       "        (0): Conv3d(48, 24, kernel_size=(3, 3, 3), stride=(1, 1, 1), padding=(1, 1, 1))\n",
       "        (1): PReLU(num_parameters=1)\n",
       "        (2): InstanceNorm3d(24, eps=1e-05, momentum=0.1, affine=False, track_running_stats=False)\n",
       "        (3): Dropout3d(p=0.2)\n",
       "      )\n",
       "    )\n",
       "    (c2): UpsampleBlock(\n",
       "      (c): Sequential(\n",
       "        (0): Conv3d(24, 12, kernel_size=(3, 3, 3), stride=(1, 1, 1), padding=(1, 1, 1))\n",
       "        (1): PReLU(num_parameters=1)\n",
       "        (2): InstanceNorm3d(12, eps=1e-05, momentum=0.1, affine=False, track_running_stats=False)\n",
       "        (3): Dropout3d(p=0.2)\n",
       "      )\n",
       "    )\n",
       "  )\n",
       "  (seg2): SegLayer(\n",
       "    (c1): Sequential(\n",
       "      (0): Conv3d(48, 48, kernel_size=(3, 3, 3), stride=(1, 1, 1), padding=(1, 1, 1))\n",
       "      (1): PReLU(num_parameters=1)\n",
       "      (2): InstanceNorm3d(48, eps=1e-05, momentum=0.1, affine=False, track_running_stats=False)\n",
       "      (3): Dropout3d(p=0.5)\n",
       "    )\n",
       "    (c2): Conv3d(48, 1, kernel_size=(1, 1, 1), stride=(1, 1, 1))\n",
       "  )\n",
       "  (seg3): SegLayer(\n",
       "    (c1): Sequential(\n",
       "      (0): Conv3d(24, 24, kernel_size=(3, 3, 3), stride=(1, 1, 1), padding=(1, 1, 1))\n",
       "      (1): PReLU(num_parameters=1)\n",
       "      (2): InstanceNorm3d(24, eps=1e-05, momentum=0.1, affine=False, track_running_stats=False)\n",
       "      (3): Dropout3d(p=0.5)\n",
       "    )\n",
       "    (c2): Conv3d(24, 1, kernel_size=(1, 1, 1), stride=(1, 1, 1))\n",
       "  )\n",
       "  (seg_final): SegLayer(\n",
       "    (c1): Sequential(\n",
       "      (0): Conv3d(24, 24, kernel_size=(3, 3, 3), stride=(1, 1, 1), padding=(1, 1, 1))\n",
       "      (1): PReLU(num_parameters=1)\n",
       "      (2): InstanceNorm3d(24, eps=1e-05, momentum=0.1, affine=False, track_running_stats=False)\n",
       "      (3): Dropout3d(p=0.5)\n",
       "    )\n",
       "    (c2): Conv3d(24, 1, kernel_size=(1, 1, 1), stride=(1, 1, 1))\n",
       "  )\n",
       ")"
      ]
     },
     "execution_count": 59,
     "metadata": {},
     "output_type": "execute_result"
    }
   ],
   "source": [
    "model"
   ]
  },
  {
   "cell_type": "code",
   "execution_count": 60,
   "metadata": {},
   "outputs": [],
   "source": [
    "tot=0\n",
    "for p in model.parameters():\n",
    "    tot+=p.data.numel()"
   ]
  },
  {
   "cell_type": "code",
   "execution_count": 61,
   "metadata": {},
   "outputs": [
    {
     "data": {
      "text/plain": [
       "6028747"
      ]
     },
     "execution_count": 61,
     "metadata": {},
     "output_type": "execute_result"
    }
   ],
   "source": [
    "tot"
   ]
  },
  {
   "cell_type": "markdown",
   "metadata": {},
   "source": [
    "### e"
   ]
  },
  {
   "cell_type": "code",
   "execution_count": 77,
   "metadata": {},
   "outputs": [],
   "source": [
    "data_name = 'notl_ventricle_mr'"
   ]
  },
  {
   "cell_type": "code",
   "execution_count": 78,
   "metadata": {},
   "outputs": [],
   "source": [
    "# data\n",
    "f = data_dict[data_name]\n",
    "train_paths, valid_paths, test1_paths, test2_paths = f()\n",
    "if sample_size:\n",
    "    idxs = np.random.choice(range(len(train_paths[0])), size=sample_size, replace=False)\n",
    "    train_paths = np.array(train_paths)[:,idxs]\n",
    "\n",
    "\n",
    "train_ds = MRI_3D_Dataset(*train_paths)\n",
    "valid_ds = MRI_3D_Dataset(*valid_paths)\n",
    "test1_ds = MRI_3D_Dataset(*test1_paths) if test1_paths else None\n",
    "test2_ds = MRI_3D_Dataset(*test2_paths) if test2_paths else None\n",
    "\n",
    "data = DataBunch.create(train_ds=train_ds, valid_ds=valid_ds, bs=1)"
   ]
  },
  {
   "cell_type": "code",
   "execution_count": 79,
   "metadata": {},
   "outputs": [],
   "source": [
    "xb, yb = data.one_batch()"
   ]
  },
  {
   "cell_type": "code",
   "execution_count": 80,
   "metadata": {},
   "outputs": [
    {
     "data": {
      "text/plain": [
       "tensor(0.0020)"
      ]
     },
     "execution_count": 80,
     "metadata": {},
     "output_type": "execute_result"
    }
   ],
   "source": [
    "yb.mean()"
   ]
  },
  {
   "cell_type": "code",
   "execution_count": null,
   "metadata": {},
   "outputs": [],
   "source": []
  },
  {
   "cell_type": "code",
   "execution_count": null,
   "metadata": {},
   "outputs": [],
   "source": []
  },
  {
   "cell_type": "code",
   "execution_count": null,
   "metadata": {},
   "outputs": [],
   "source": []
  },
  {
   "cell_type": "code",
   "execution_count": null,
   "metadata": {},
   "outputs": [],
   "source": []
  },
  {
   "cell_type": "code",
   "execution_count": null,
   "metadata": {},
   "outputs": [],
   "source": []
  },
  {
   "cell_type": "code",
   "execution_count": null,
   "metadata": {},
   "outputs": [],
   "source": []
  },
  {
   "cell_type": "code",
   "execution_count": null,
   "metadata": {},
   "outputs": [],
   "source": []
  },
  {
   "cell_type": "code",
   "execution_count": null,
   "metadata": {},
   "outputs": [],
   "source": []
  },
  {
   "cell_type": "code",
   "execution_count": null,
   "metadata": {},
   "outputs": [],
   "source": []
  },
  {
   "cell_type": "code",
   "execution_count": null,
   "metadata": {},
   "outputs": [],
   "source": []
  }
 ],
 "metadata": {
  "kernelspec": {
   "display_name": "Python [conda env:my_fastai]",
   "language": "python",
   "name": "conda-env-my_fastai-py"
  },
  "language_info": {
   "codemirror_mode": {
    "name": "ipython",
    "version": 3
   },
   "file_extension": ".py",
   "mimetype": "text/x-python",
   "name": "python",
   "nbconvert_exporter": "python",
   "pygments_lexer": "ipython3",
   "version": "3.7.2"
  }
 },
 "nbformat": 4,
 "nbformat_minor": 2
}
