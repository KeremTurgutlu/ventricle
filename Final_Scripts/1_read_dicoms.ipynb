{
 "cells": [
  {
   "cell_type": "markdown",
   "metadata": {},
   "source": [
    "# The notebook '1_read_dicoms' is where patient dicom images are read using the MEDImage class. Images and masks of brain and ventricles are processed (interpolated, padded and normalized) and saved as numpy arrays. Numpy arrays are stored in an output directory which is used as input in the next notebook '2_learn_model'.\n",
    "\n",
    "The following steps are required before running:\n",
    "1. Download patient images from https://aaa\n",
    "2. Download MEDImage from https://bbb\n",
    "3. Specify local directory of input dicom images, output numpy arrays and MEDImage class"
   ]
  },
  {
   "cell_type": "markdown",
   "metadata": {},
   "source": [
    "# Part 1: Reading MRI images with masks from ATLAS"
   ]
  },
  {
   "cell_type": "code",
   "execution_count": null,
   "metadata": {},
   "outputs": [],
   "source": [
    "inputDir = ''\n",
    "outputDir = ''\n",
    "medimageDir = ''"
   ]
  },
  {
   "cell_type": "code",
   "execution_count": null,
   "metadata": {},
   "outputs": [],
   "source": [
    "%run src/read_dicoms.py --input=inputDir --output=outputDir --medimage=medimageDir"
   ]
  },
  {
   "cell_type": "markdown",
   "metadata": {},
   "source": [
    "# Part 2: Reading CT images with masks from clinicians"
   ]
  },
  {
   "cell_type": "code",
   "execution_count": null,
   "metadata": {},
   "outputs": [],
   "source": [
    "inputDir = ''\n",
    "outputDir = ''\n",
    "medimageDir = ''"
   ]
  },
  {
   "cell_type": "code",
   "execution_count": null,
   "metadata": {},
   "outputs": [],
   "source": [
    "%run src/read_dicoms.py --input=inputDir --output=outputDir --medimage=medimageDir"
   ]
  },
  {
   "cell_type": "markdown",
   "metadata": {},
   "source": [
    "# Part 3: Reading MRI images with masks from clinicians"
   ]
  },
  {
   "cell_type": "code",
   "execution_count": null,
   "metadata": {},
   "outputs": [],
   "source": [
    "inputDir = ''\n",
    "outputDir = ''\n",
    "medimageDir = ''"
   ]
  },
  {
   "cell_type": "code",
   "execution_count": null,
   "metadata": {},
   "outputs": [],
   "source": [
    "%run src/read_dicoms.py --input=inputDir --output=outputDir --medimage=medimageDir"
   ]
  }
 ],
 "metadata": {
  "kernelspec": {
   "display_name": "Python [conda env:ventricle]",
   "language": "python",
   "name": "conda-env-ventricle-py"
  },
  "language_info": {
   "codemirror_mode": {
    "name": "ipython",
    "version": 3
   },
   "file_extension": ".py",
   "mimetype": "text/x-python",
   "name": "python",
   "nbconvert_exporter": "python",
   "pygments_lexer": "ipython3",
   "version": "3.7.4"
  }
 },
 "nbformat": 4,
 "nbformat_minor": 2
}
